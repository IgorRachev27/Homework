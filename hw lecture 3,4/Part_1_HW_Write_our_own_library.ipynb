{
  "nbformat": 4,
  "nbformat_minor": 0,
  "metadata": {
    "colab": {
      "name": "Part_1_HW_Write_our_own_library.ipynb",
      "provenance": [],
      "collapsed_sections": [],
      "include_colab_link": true
    },
    "kernelspec": {
      "display_name": "Python 3",
      "language": "python",
      "name": "python3"
    },
    "language_info": {
      "codemirror_mode": {
        "name": "ipython",
        "version": 3
      },
      "file_extension": ".py",
      "mimetype": "text/x-python",
      "name": "python",
      "nbconvert_exporter": "python",
      "pygments_lexer": "ipython3",
      "version": "3.7.9"
    }
  },
  "cells": [
    {
      "cell_type": "markdown",
      "metadata": {
        "id": "view-in-github",
        "colab_type": "text"
      },
      "source": [
        "<a href=\"https://colab.research.google.com/github/IgorRachev27/Homework/blob/main/hw%20lecture%203%2C4/Part_1_HW_Write_our_own_library.ipynb\" target=\"_parent\"><img src=\"https://colab.research.google.com/assets/colab-badge.svg\" alt=\"Open In Colab\"/></a>"
      ]
    },
    {
      "cell_type": "markdown",
      "metadata": {
        "id": "-PkQ9hSoulSP"
      },
      "source": [
        "## Домашнее задание. Часть 1.\n",
        "\n",
        "- напишем свою собственную библиотеку\n",
        "\n",
        "Вего за эту часть ДЗ можно набрать максимум **11.5 баллов**. Разбиение баллов по каждой из задач представлено непосредственно перед текстом каждой задачи.\n",
        "\n",
        "**Дедлайн - пятница, 11.12.2020 в 23:59.**\n",
        "\n",
        "Дедлайн жесткий, сдача после дедлайна - 0 баллов за ДЗ."
      ]
    },
    {
      "cell_type": "markdown",
      "metadata": {
        "id": "raMUrDs_OUUp"
      },
      "source": [
        "Ссылка на ноутбук в колабе: https://colab.research.google.com/drive/1LgWtESFmiNW1WlVFCHKyNl_BxAWxoL3Z?usp=sharing"
      ]
    },
    {
      "cell_type": "markdown",
      "metadata": {
        "id": "DlJPKMxvBZDq"
      },
      "source": [
        "Допустим мы хотим написать фнкцию, которая складывает 2 числа и сохранить ее в отдельный .py файл. Пример:"
      ]
    },
    {
      "cell_type": "code",
      "metadata": {
        "colab": {
          "base_uri": "https://localhost:8080/"
        },
        "id": "YWxx_tJFBWXc",
        "outputId": "1be24462-a4dd-4304-ed5b-624d39b1fb37"
      },
      "source": [
        "%%writefile lib.py\n",
        "def summ(a1, b1):\n",
        "    return a1+b1"
      ],
      "execution_count": 1,
      "outputs": [
        {
          "output_type": "stream",
          "text": [
            "Writing lib.py\n"
          ],
          "name": "stdout"
        }
      ]
    },
    {
      "cell_type": "code",
      "metadata": {
        "id": "GpwqwV2XBWe0"
      },
      "source": [
        "from lib import summ"
      ],
      "execution_count": 2,
      "outputs": []
    },
    {
      "cell_type": "code",
      "metadata": {
        "colab": {
          "base_uri": "https://localhost:8080/"
        },
        "id": "PdSwrEkYud_1",
        "outputId": "6d6a679a-984b-41b1-c2b9-bf9aa57717e2"
      },
      "source": [
        "summ(2,6)"
      ],
      "execution_count": 3,
      "outputs": [
        {
          "output_type": "execute_result",
          "data": {
            "text/plain": [
              "8"
            ]
          },
          "metadata": {
            "tags": []
          },
          "execution_count": 3
        }
      ]
    },
    {
      "cell_type": "markdown",
      "metadata": {
        "id": "lzVEq6dcB_B6"
      },
      "source": [
        "Попробуем запустить через \"терминал\""
      ]
    },
    {
      "cell_type": "code",
      "metadata": {
        "id": "GnvjY52dB9F0"
      },
      "source": [
        "!python3 lib.py"
      ],
      "execution_count": 4,
      "outputs": []
    },
    {
      "cell_type": "markdown",
      "metadata": {
        "id": "12k4C-iDCGD5"
      },
      "source": [
        "Ничего не происходит. А теперь добавим `if __name__ == \"__main__\"` в наш код и пересохраним файл lib.py"
      ]
    },
    {
      "cell_type": "code",
      "metadata": {
        "colab": {
          "base_uri": "https://localhost:8080/"
        },
        "id": "EXxDy4EoujyT",
        "outputId": "1e3e39e4-9545-4ca2-db39-69eb71dac497"
      },
      "source": [
        "%%writefile lib.py\n",
        "import sys\n",
        "\n",
        "a1 = float( sys.argv[1] ) # Считываем аргументы прямо из терминала\n",
        "b1 = float( sys.argv[2] ) # Считываем аргументы прямо из терминала\n",
        "\n",
        "def summ(a1, b1):\n",
        "    return a1+b1\n",
        "\n",
        "if __name__ == \"__main__\":\n",
        "    print(summ(a1, b1))\n"
      ],
      "execution_count": 5,
      "outputs": [
        {
          "output_type": "stream",
          "text": [
            "Overwriting lib.py\n"
          ],
          "name": "stdout"
        }
      ]
    },
    {
      "cell_type": "code",
      "metadata": {
        "colab": {
          "base_uri": "https://localhost:8080/"
        },
        "id": "9kg9IKcWuj1F",
        "outputId": "19465a36-6955-450a-ed23-afa35b0fec3b"
      },
      "source": [
        "!python3 lib.py 2 4"
      ],
      "execution_count": 6,
      "outputs": [
        {
          "output_type": "stream",
          "text": [
            "6.0\n"
          ],
          "name": "stdout"
        }
      ]
    },
    {
      "cell_type": "markdown",
      "metadata": {
        "id": "MEQd0OJnD4ut"
      },
      "source": [
        "# **Задание 1**\n",
        "\n",
        "Реализуйте следующие функции и сохраните их в библиотеку **my_math_lib.py** (пока без использования конструкции `if __name__ == \"__main__\"`)"
      ]
    },
    {
      "cell_type": "markdown",
      "metadata": {
        "id": "-irvYNmrD9FA"
      },
      "source": [
        "**1 point** \n",
        "1. **def deg_to_rad()**. Напишите программу на Python для преобразования градусов в радианы.  *(Note: Радиан - это стандартная единица измерения угла, используемая во многих областях математики. Измерение угла в радианах численно равно длине соответствующей дуги единичного круга; один радиан чуть меньше 57,3 градуса)* **1 point**\n",
        "\n",
        "**1 point** \n",
        "2. **def rad_to_def()**. Напишите программу Python для преобразования радианов в градусы.\n",
        "\n",
        "**1.5 point** \n",
        "3. **def discriminant()**. Напишите программу на Python для вычисления значения дискриминанта (вспоминаем квадратные уравнения). Входные данные три числа: x, y, z (учтите что корни могут быть комлЕксными!)\n",
        "\n",
        "**1.5 point** \n",
        "4. **def power_base_sum()**. Напишите программу на Python, чтобы вычислить сумму всех цифр основания в указанной степени.\n",
        "\n",
        "Пример: power_base_sum(2, 100)\n",
        "\n",
        "Выход: 115\n",
        "\n",
        "\n",
        "\n",
        "**2 point** \n",
        "5. **def magic_square()**. Напишите программу на Python для вычисления [магического квадрата](https://ru.wikipedia.org/wiki/Магический_квадрат)\n",
        "\n",
        "Note:\n",
        "\n",
        "Магический, или волшебный квадрат — это квадратная таблица , заполненная числами таким образом, что сумма чисел в каждой строке, каждом столбце и на обеих диагоналях одинакова. Сумма чисел в каждой строке, столбце и на диагоналях, называется магической константой, M.\n",
        "\n",
        "**1 point** \n",
        "6. **def mult_list()**. Напишите функцию Python для умножения всех чисел в массиве list(), (размер листа на входе произвольный)\n",
        "\n",
        "**1 point** \n",
        "7. **def create_list()**. Напишите функцию Python для создания и вывода списка (при помощи print()), в котором значения представляют собой квадрат чисел от 1 до 30 (оба включительно)."
      ]
    },
    {
      "cell_type": "code",
      "metadata": {
        "id": "cxjYPNRAIBqe",
        "colab": {
          "base_uri": "https://localhost:8080/"
        },
        "outputId": "b608cd81-592a-4ca1-99f7-82a6a86f1326"
      },
      "source": [
        "%%writefile my_math_lib.py\n",
        "\n",
        "import numpy as np\n",
        "\n",
        "def deg_to_rad(x):\n",
        "    return x*np.pi/180  \n",
        "\n",
        "def rad_to_deg(x):\n",
        "    return x*180/np.pi\n",
        "\n",
        "def discriminant(x,y,z): # Дискриминант - подкорневое выражение при решении квадратного уравнения,\n",
        "                         # т.е это не корни. Пишу это потому что в задании говорится про корни уравнения\n",
        "    return y**2-4*x*z\n",
        "\n",
        "def power_base_sum(x,y):\n",
        "    return sum([int(i) for i in str(x**y)])\n",
        "\n",
        "def magic_square(n): # метод Делаира\n",
        "    M=int(n*(n**2+1)/2)\n",
        "\n",
        "    #построим первый вспомогательный квадрат\n",
        "    mass=[i for i in range(n)]\n",
        "    mass.remove((n-1)/2)\n",
        "    mass.insert(0,int((n-1)/2))\n",
        "    final=[]\n",
        "    for i in range(n):\n",
        "        final.append(mass[-i:]+mass[0:-i])\n",
        "    dop_kv1=np.array(final)*n\n",
        "    dop_kv1\n",
        "    \n",
        "    # построим второй вспомогательный квадрат\n",
        "    mass=[i for i in range(n)]\n",
        "    mass.sort(reverse=True)\n",
        "    mass.remove((n-1)/2)\n",
        "    mass.insert(n-1,int((n-1)/2))\n",
        "\n",
        "    shift = lambda l, n: l[-n:] + l[:-n]\n",
        "    final=[]\n",
        "    for i in range(n):\n",
        "        final.append(shift(mass,-i))\n",
        "    dop_kv2=np.array(final)+1\n",
        "    dop_kv2\n",
        "    \n",
        "    #вывод квадрата\n",
        "    mag_kv=dop_kv1+dop_kv2\n",
        "    print(mag_kv)\n",
        "    \n",
        "def mult_list(x): #умножение всех элементов массива\n",
        "    a=1\n",
        "    for i in x:\n",
        "        a=a*i\n",
        "    print(a)\n",
        "    \n",
        "def create_list(n):\n",
        "    a=[]\n",
        "    for i in range(1,n+1):\n",
        "        a.append(i**2)\n",
        "    print(a)"
      ],
      "execution_count": 7,
      "outputs": [
        {
          "output_type": "stream",
          "text": [
            "Writing my_math_lib.py\n"
          ],
          "name": "stdout"
        }
      ]
    },
    {
      "cell_type": "markdown",
      "metadata": {
        "id": "cSdLK3ZSID3B"
      },
      "source": [
        "# **Задание 2**\n",
        "Импортируйте все методы из модуля my_math_lib.\n",
        "\n",
        " **0.25 point** \n",
        " - при помощи функции **def discriminant()** посчитайте дискриминант следующего уравнения: \n",
        " $x^{2}+3 x+4=0$\n",
        "\n",
        "**0.25 point** \n",
        " - постройте магический квадрат размера 5х5"
      ]
    },
    {
      "cell_type": "code",
      "metadata": {
        "id": "k1Jhjs6FD8Sy"
      },
      "source": [
        "from my_math_lib import *"
      ],
      "execution_count": 8,
      "outputs": []
    },
    {
      "cell_type": "code",
      "metadata": {
        "colab": {
          "base_uri": "https://localhost:8080/"
        },
        "id": "HH1tIDi8mK1V",
        "outputId": "aa8641a5-aede-44cf-81ed-dc8f5a1032b8"
      },
      "source": [
        "discriminant(0,3,4)"
      ],
      "execution_count": 9,
      "outputs": [
        {
          "output_type": "execute_result",
          "data": {
            "text/plain": [
              "9"
            ]
          },
          "metadata": {
            "tags": []
          },
          "execution_count": 9
        }
      ]
    },
    {
      "cell_type": "code",
      "metadata": {
        "colab": {
          "base_uri": "https://localhost:8080/"
        },
        "id": "8kxabXl5mK1W",
        "outputId": "ced50dde-9a0e-4699-f78b-44e6fd9b1335"
      },
      "source": [
        "magic_square(5)"
      ],
      "execution_count": 10,
      "outputs": [
        {
          "output_type": "stream",
          "text": [
            "[[15  4  7 16 23]\n",
            " [24 12  1  8 20]\n",
            " [17 21 13  5  9]\n",
            " [ 6 18 25 14  2]\n",
            " [ 3 10 19 22 11]]\n"
          ],
          "name": "stdout"
        }
      ]
    },
    {
      "cell_type": "markdown",
      "metadata": {
        "id": "1xqoQlZkId3s"
      },
      "source": [
        "# **Задание 3**\n",
        "\n",
        "**2 point**\n",
        "* Добавьте в вашу библиотеку конструкцию `if __name__ == \"__main__\"`, которая должна принимать одну из вышеперечисленных функций. \n",
        "* Важно! аргументы, подаваемые в функцию, должны подаваться напряму через терминал (как в примере)! Используйте для этого библиотеку `sys`"
      ]
    },
    {
      "cell_type": "code",
      "metadata": {
        "id": "CPMx4V4DJIVx"
      },
      "source": [
        "#TODO"
      ],
      "execution_count": 11,
      "outputs": []
    },
    {
      "cell_type": "code",
      "metadata": {
        "colab": {
          "base_uri": "https://localhost:8080/"
        },
        "id": "jgAikwOhmK1Y",
        "outputId": "5efd0bdb-6a6b-4048-8a0a-e18c3664b2d8"
      },
      "source": [
        "%%writefile my_math_lib.py\n",
        "\n",
        "import numpy as np\n",
        "\n",
        "def deg_to_rad(x):\n",
        "    return x*np.pi/180  \n",
        "\n",
        "def rad_to_deg(x):\n",
        "    return x*180/np.pi\n",
        "\n",
        "def discriminant(x,y,z): # Дискриминант - подкорневое выражение при решении квадратного уравнения,\n",
        "                         # т.е это не корни. Пишу это потому что в задании говорится про корни уравнения\n",
        "    return y**2-4*x*z\n",
        "\n",
        "def power_base_sum(x,y):\n",
        "    return sum([int(i) for i in str(x**y)])\n",
        "\n",
        "def magic_square(n): # метод Делаира\n",
        "    M=int(n*(n**2+1)/2)\n",
        "\n",
        "    #построим первый вспомогательный квадрат\n",
        "    mass=[i for i in range(n)]\n",
        "    mass.remove((n-1)/2)\n",
        "    mass.insert(0,int((n-1)/2))\n",
        "    final=[]\n",
        "    for i in range(n):\n",
        "        final.append(mass[-i:]+mass[0:-i])\n",
        "    dop_kv1=np.array(final)*n\n",
        "    dop_kv1\n",
        "    \n",
        "    # построим второй вспомогательный квадрат\n",
        "    mass=[i for i in range(n)]\n",
        "    mass.sort(reverse=True)\n",
        "    mass.remove((n-1)/2)\n",
        "    mass.insert(n-1,int((n-1)/2))\n",
        "\n",
        "    shift = lambda l, n: l[-n:] + l[:-n]\n",
        "    final=[]\n",
        "    for i in range(n):\n",
        "        final.append(shift(mass,-i))\n",
        "    dop_kv2=np.array(final)+1\n",
        "    dop_kv2\n",
        "    \n",
        "    #вывод квадрата\n",
        "    mag_kv=dop_kv1+dop_kv2\n",
        "    print(mag_kv)\n",
        "    \n",
        "def mult_list(x): #умножение всех элементов массива\n",
        "    a=1\n",
        "    for i in x:\n",
        "        a=a*i\n",
        "    print(a)\n",
        "    \n",
        "def create_list(n):\n",
        "    a=[]\n",
        "    for i in range(1,n+1):\n",
        "        a.append(i**2)\n",
        "    print(a)\n",
        "\n",
        "    \n",
        "import sys\n",
        "\n",
        "x= int( sys.argv[1] )\n",
        "\n",
        "if __name__ == \"__main__\":\n",
        "    print(magic_square(x))"
      ],
      "execution_count": 12,
      "outputs": [
        {
          "output_type": "stream",
          "text": [
            "Overwriting my_math_lib.py\n"
          ],
          "name": "stdout"
        }
      ]
    },
    {
      "cell_type": "code",
      "metadata": {
        "id": "RAeJ3p1BJX05",
        "colab": {
          "base_uri": "https://localhost:8080/"
        },
        "outputId": "97edf9c8-c489-4e7f-83cf-4c686a8539cd"
      },
      "source": [
        "# Пример вызова функции - Вы можете вызвать любую другую\n",
        "!python3 my_math_lib.py 11 # Например если в __main__ вы указали def discriminant()"
      ],
      "execution_count": 13,
      "outputs": [
        {
          "output_type": "stream",
          "text": [
            "[[ 66  10  20  30  40  49  70  80  90 100 116]\n",
            " [120  64   8  18  27  37  47  68  78  94 110]\n",
            " [108 118  62   5  15  25  35  45  72  88  98]\n",
            " [ 96 106 115  59   3  13  23  39  55  76  86]\n",
            " [ 84  93 103 113  57   1  17  33  43  53  74]\n",
            " [ 71  81  91 101 111  61  11  21  31  41  51]\n",
            " [ 48  69  79  89 105 121  65   9  19  29  38]\n",
            " [ 36  46  67  83  99 109 119  63   7  16  26]\n",
            " [ 24  34  50  77  87  97 107 117  60   4  14]\n",
            " [ 12  28  44  54  75  85  95 104 114  58   2]\n",
            " [  6  22  32  42  52  73  82  92 102 112  56]]\n",
            "None\n"
          ],
          "name": "stdout"
        }
      ]
    }
  ]
}