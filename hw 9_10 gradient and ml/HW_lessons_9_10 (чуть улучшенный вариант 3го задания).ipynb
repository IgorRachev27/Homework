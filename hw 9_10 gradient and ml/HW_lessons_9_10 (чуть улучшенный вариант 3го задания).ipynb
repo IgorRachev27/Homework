{
  "nbformat": 4,
  "nbformat_minor": 0,
  "metadata": {
    "colab": {
      "name": "HW_lessons_9_10.ipynb",
      "provenance": [],
      "collapsed_sections": [],
      "include_colab_link": true
    },
    "kernelspec": {
      "display_name": "Python 3",
      "language": "python",
      "name": "python3"
    },
    "language_info": {
      "codemirror_mode": {
        "name": "ipython",
        "version": 3
      },
      "file_extension": ".py",
      "mimetype": "text/x-python",
      "name": "python",
      "nbconvert_exporter": "python",
      "pygments_lexer": "ipython3",
      "version": "3.7.9"
    }
  },
  "cells": [
    {
      "cell_type": "markdown",
      "metadata": {
        "id": "view-in-github",
        "colab_type": "text"
      },
      "source": [
        "<a href=\"https://colab.research.google.com/github/IgorRachev27/Homework/blob/main/hw%209_10%20gradient%20and%20ml/HW_lessons_9_10%20(%D1%87%D1%83%D1%82%D1%8C%20%D1%83%D0%BB%D1%83%D1%87%D1%88%D0%B5%D0%BD%D0%BD%D1%8B%D0%B9%20%D0%B2%D0%B0%D1%80%D0%B8%D0%B0%D0%BD%D1%82%203%D0%B3%D0%BE%20%D0%B7%D0%B0%D0%B4%D0%B0%D0%BD%D0%B8%D1%8F).ipynb\" target=\"_parent\"><img src=\"https://colab.research.google.com/assets/colab-badge.svg\" alt=\"Open In Colab\"/></a>"
      ]
    },
    {
      "cell_type": "markdown",
      "metadata": {
        "id": "SgxdX4L0dSw7"
      },
      "source": [
        "# Домашнее задание"
      ]
    },
    {
      "cell_type": "markdown",
      "metadata": {
        "id": "piodEhR7orUF"
      },
      "source": [
        "Ноутбук в колаб: https://colab.research.google.com/drive/1d-vvpJW8IWSPeodFnfaEVaZIQrys8uU0?usp=sharing"
      ]
    },
    {
      "cell_type": "markdown",
      "metadata": {
        "id": "r3_T-pcpnme8"
      },
      "source": [
        "**Дедлайн: 01.01.2021, 23:59**\n"
      ]
    },
    {
      "cell_type": "markdown",
      "metadata": {
        "id": "B2RmFtRDn5vy"
      },
      "source": [
        "Формат отчетности - jupyter notebook. Однако вычислять производные не обязательно в Markdown. Если вычисляете вручную, то дополнительно с ноутбуком, отправляйте pdf-файл с расписанным решением."
      ]
    },
    {
      "cell_type": "markdown",
      "metadata": {
        "id": "aCDx6dKzeEhp"
      },
      "source": [
        "### Пример реализации градиентного спуска: https://github.com/ddvika/Data-Science-School-2020/blob/main/lecture_9/gradient_methods.ipynb"
      ]
    },
    {
      "cell_type": "markdown",
      "metadata": {
        "id": "t-G1btbwoStu"
      },
      "source": [
        "# Задания"
      ]
    },
    {
      "cell_type": "code",
      "metadata": {
        "id": "JCFtmDoWwAO4"
      },
      "source": [
        "import numpy as np"
      ],
      "execution_count": 1,
      "outputs": []
    },
    {
      "cell_type": "markdown",
      "metadata": {
        "id": "B1XambpmoeIj"
      },
      "source": [
        "Перед выполнением ДЗ посмотрите на ноутбук, прикрепленный по ссылке выше. Там вы найдете реализацию градиентного спуска с постоянным и дробным шагом."
      ]
    },
    {
      "cell_type": "markdown",
      "metadata": {
        "id": "VnSTXgrueAp0"
      },
      "source": [
        "### Задание 1. [1 point]"
      ]
    },
    {
      "cell_type": "markdown",
      "metadata": {
        "id": "-XmQ1AO9f1Qz"
      },
      "source": [
        "Релизуйте градиентный спуск с постоянным шагом и с дробным шагом для функции\n",
        "$$\n",
        "y = x_{1}^{2}+5 x_{2}^{2}\n",
        "$$\n",
        "\n",
        "в произвольно выбранной Вами точке."
      ]
    },
    {
      "cell_type": "markdown",
      "metadata": {
        "id": "XAXdL_PDgYpS"
      },
      "source": [
        "Поэксперементируйте с разными значениями шага (скорости обучения), попробуйте хотя бы по 2-3 разных значения."
      ]
    },
    {
      "cell_type": "code",
      "metadata": {
        "id": "d0XzhPsewAO5"
      },
      "source": [
        "def f(x):\n",
        "    return x[0]**2+5*x[1]**2\n",
        "\n",
        "def grad_f(x):\n",
        "    return np.array([2*x[0], 10*x[1]])"
      ],
      "execution_count": 2,
      "outputs": []
    },
    {
      "cell_type": "code",
      "metadata": {
        "id": "YAq3wra4wAO6"
      },
      "source": [
        "# В точке (0,0)\n",
        "def grad_descent_const_step(x = np.array([0, 0]), alpha = 0.001, epsilon = 0.05):\n",
        "    grad = grad_f(x)\n",
        "    n = 0\n",
        "    check = 0\n",
        "    while (np.linalg.norm(grad) > epsilon) or (check < 3):\n",
        "        x = x - alpha*grad\n",
        "        grad = grad_f(x)\n",
        "        n+=1\n",
        "        if (np.linalg.norm(grad) <= epsilon): check +=1\n",
        "    print(\"Градиентный спуск с постоянным шагом выполнил {} шагов\".format(n))\n",
        "    print(\"Точка с координатами х1 = {}, x2 = {}\".format(x[0], x[1]))\n",
        "    return x"
      ],
      "execution_count": 3,
      "outputs": []
    },
    {
      "cell_type": "code",
      "metadata": {
        "colab": {
          "base_uri": "https://localhost:8080/"
        },
        "id": "xjOeyn_jwAO6",
        "outputId": "a01575ca-21bc-4fe0-9b91-fffc1e058797"
      },
      "source": [
        "x = grad_descent_const_step(alpha = 0.1)"
      ],
      "execution_count": 4,
      "outputs": [
        {
          "output_type": "stream",
          "text": [
            "Градиентный спуск с постоянным шагом выполнил 3 шагов\n",
            "Точка с координатами х1 = 0.0, x2 = 0.0\n"
          ],
          "name": "stdout"
        }
      ]
    },
    {
      "cell_type": "code",
      "metadata": {
        "id": "b5MBeDr4wAO7"
      },
      "source": [
        "# В точке (2,1)\n",
        "def grad_descent_const_step(x = np.array([0, 0]), alpha = 0.001, epsilon = 0.05):\n",
        "    grad = grad_f(x)\n",
        "    n = 0\n",
        "    check = 0\n",
        "    while (np.linalg.norm(grad) > epsilon) or (check < 3):\n",
        "        x = x - alpha*grad\n",
        "        grad = grad_f(x)\n",
        "        n+=1\n",
        "        if (np.linalg.norm(grad) <= epsilon): check +=1\n",
        "    print(\"Градиентный спуск с постоянным шагом выполнил {} шагов\".format(n))\n",
        "    print(\"Точка с координатами х1 = {}, x2 = {}\".format(x[0], x[1]))\n",
        "    return x"
      ],
      "execution_count": 5,
      "outputs": []
    },
    {
      "cell_type": "code",
      "metadata": {
        "colab": {
          "base_uri": "https://localhost:8080/"
        },
        "id": "_KfM3U1jwAO7",
        "outputId": "08d3f7f5-9d33-44e8-bed2-1267c7e870f4"
      },
      "source": [
        "x = grad_descent_const_step(alpha = 0.01)"
      ],
      "execution_count": 6,
      "outputs": [
        {
          "output_type": "stream",
          "text": [
            "Градиентный спуск с постоянным шагом выполнил 3 шагов\n",
            "Точка с координатами х1 = 0.0, x2 = 0.0\n"
          ],
          "name": "stdout"
        }
      ]
    },
    {
      "cell_type": "code",
      "metadata": {
        "scrolled": true,
        "colab": {
          "base_uri": "https://localhost:8080/"
        },
        "id": "SiLTEOIswAO7",
        "outputId": "2f601c7d-79e4-4df2-f7ee-dfaebaddbd3f"
      },
      "source": [
        "x = grad_descent_const_step(alpha = 0.11)"
      ],
      "execution_count": 7,
      "outputs": [
        {
          "output_type": "stream",
          "text": [
            "Градиентный спуск с постоянным шагом выполнил 3 шагов\n",
            "Точка с координатами х1 = 0.0, x2 = 0.0\n"
          ],
          "name": "stdout"
        }
      ]
    },
    {
      "cell_type": "code",
      "metadata": {
        "id": "urIzTzeNwAO8"
      },
      "source": [
        "# В точке (1,-10)\n",
        "def grad_descent_const_step(x = np.array([1, -10]), alpha = 0.001, epsilon = 0.05):\n",
        "    grad = grad_f(x)\n",
        "    n = 0\n",
        "    check = 0\n",
        "    while (np.linalg.norm(grad) > epsilon) or (check < 3):\n",
        "        x = x - alpha*grad\n",
        "        grad = grad_f(x)\n",
        "        n+=1\n",
        "        if (np.linalg.norm(grad) <= epsilon): check +=1\n",
        "    print(\"Градиентный спуск с постоянным шагом выполнил {} шагов\".format(n))\n",
        "    print(\"Точка с координатами х1 = {}, x2 = {}\".format(x[0], x[1]))\n",
        "    return x"
      ],
      "execution_count": 8,
      "outputs": []
    },
    {
      "cell_type": "code",
      "metadata": {
        "colab": {
          "base_uri": "https://localhost:8080/"
        },
        "id": "ZkcXrcujwAO8",
        "outputId": "a6f51e32-5575-41f4-bf87-d4adef50f479"
      },
      "source": [
        "x = grad_descent_const_step(alpha = 0.01)"
      ],
      "execution_count": 9,
      "outputs": [
        {
          "output_type": "stream",
          "text": [
            "Градиентный спуск с постоянным шагом выполнил 185 шагов\n",
            "Точка с координатами х1 = 0.02381354235199539, x2 = -3.426606593921723e-08\n"
          ],
          "name": "stdout"
        }
      ]
    },
    {
      "cell_type": "code",
      "metadata": {
        "id": "nQ_xSkEDwAO9"
      },
      "source": [
        "def grad_descent_step_splitting(x = np.array([0, 0]), alpha = 1, epsilon = 0.05, ksi = 0.5, lambda_d = 0.35):\n",
        "    grad = grad_f(x)\n",
        "    n = 0\n",
        "    n_alpha = 0\n",
        "    alpha_k = alpha\n",
        "    x_k0 = x\n",
        "    check = 0\n",
        "    while np.linalg.norm(grad) > epsilon or check < 3:\n",
        "        grad = grad_f(x_k0)\n",
        "        x_k1 = x_k0 - alpha_k*grad\n",
        "        while f(x_k1) - f(x_k0) > - alpha_k * ksi * (np.linalg.norm(grad)**2):\n",
        "            alpha_k *= lambda_d\n",
        "            x_k1 = x_k0 - alpha_k*grad\n",
        "            n_alpha+=1\n",
        "        x_k0 = x_k0 - alpha_k*grad\n",
        "        alpha_k = alpha\n",
        "        n+=1\n",
        "        if (np.linalg.norm(grad) <= epsilon): check +=1\n",
        "    x = x_k0\n",
        "    print(\"Градиентный спуск с дроблением шага выполнил {} шагов\".format(n))\n",
        "    print(\"Выполнено {} итераций дробления шага\".format(n_alpha))\n",
        "    print(\"Точка с координатами х1 = {}, x2 = {}\".format(x[0], x[1]))\n",
        "    return x"
      ],
      "execution_count": 10,
      "outputs": []
    },
    {
      "cell_type": "code",
      "metadata": {
        "colab": {
          "base_uri": "https://localhost:8080/"
        },
        "id": "AOyVc3S4wAO9",
        "outputId": "31b0aa3c-6418-410e-cfcb-82d2756dd21e"
      },
      "source": [
        "a = grad_descent_step_splitting()"
      ],
      "execution_count": 11,
      "outputs": [
        {
          "output_type": "stream",
          "text": [
            "Градиентный спуск с дроблением шага выполнил 3 шагов\n",
            "Выполнено 0 итераций дробления шага\n",
            "Точка с координатами х1 = 0, x2 = 0\n"
          ],
          "name": "stdout"
        }
      ]
    },
    {
      "cell_type": "code",
      "metadata": {
        "id": "XPrqqmbUwAO9"
      },
      "source": [
        "def grad_descent_step_splitting(x = np.array([1, 1]), alpha = 1, epsilon = 0.05, ksi = 0.5, lambda_d = 0.35):\n",
        "    grad = grad_f(x)\n",
        "    n = 0\n",
        "    n_alpha = 0\n",
        "    alpha_k = alpha\n",
        "    x_k0 = x\n",
        "    check = 0\n",
        "    while np.linalg.norm(grad) > epsilon or check < 3:\n",
        "        grad = grad_f(x_k0)\n",
        "        x_k1 = x_k0 - alpha_k*grad\n",
        "        while f(x_k1) - f(x_k0) > - alpha_k * ksi * (np.linalg.norm(grad)**2):\n",
        "            alpha_k *= lambda_d\n",
        "            x_k1 = x_k0 - alpha_k*grad\n",
        "            n_alpha+=1\n",
        "        x_k0 = x_k0 - alpha_k*grad\n",
        "        alpha_k = alpha\n",
        "        n+=1\n",
        "        if (np.linalg.norm(grad) <= epsilon): check +=1\n",
        "    x = x_k0\n",
        "    print(\"Градиентный спуск с дроблением шага выполнил {} шагов\".format(n))\n",
        "    print(\"Выполнено {} итераций дробления шага\".format(n_alpha))\n",
        "    print(\"Точка с координатами х1 = {}, x2 = {}\".format(x[0], x[1]))\n",
        "    return x"
      ],
      "execution_count": 12,
      "outputs": []
    },
    {
      "cell_type": "code",
      "metadata": {
        "colab": {
          "base_uri": "https://localhost:8080/"
        },
        "id": "V4IzR2s-wAO-",
        "outputId": "5f355622-f64e-43f0-e706-3b46017f2e82"
      },
      "source": [
        "a = grad_descent_step_splitting()"
      ],
      "execution_count": 13,
      "outputs": [
        {
          "output_type": "stream",
          "text": [
            "Градиентный спуск с дроблением шага выполнил 13 шагов\n",
            "Выполнено 27 итераций дробления шага\n",
            "Точка с координатами х1 = 0.0034938588036157476, x2 = -0.000215883766723314\n"
          ],
          "name": "stdout"
        }
      ]
    },
    {
      "cell_type": "code",
      "metadata": {
        "scrolled": true,
        "colab": {
          "base_uri": "https://localhost:8080/"
        },
        "id": "wFc3S-ImwAO-",
        "outputId": "43147cae-74bc-4522-9f34-0ed288517c6a"
      },
      "source": [
        "a = grad_descent_step_splitting(alpha=0.011)"
      ],
      "execution_count": 14,
      "outputs": [
        {
          "output_type": "stream",
          "text": [
            "Градиентный спуск с дроблением шага выполнил 169 шагов\n",
            "Выполнено 0 итераций дробления шага\n",
            "Точка с координатами х1 = 0.023295200841418555, x2 = 2.7984085754536114e-09\n"
          ],
          "name": "stdout"
        }
      ]
    },
    {
      "cell_type": "code",
      "metadata": {
        "scrolled": true,
        "colab": {
          "base_uri": "https://localhost:8080/"
        },
        "id": "gDyuVJk7wAO-",
        "outputId": "23642eb1-ea7b-4d92-a34e-4ce8fd829e10"
      },
      "source": [
        "a = grad_descent_step_splitting(alpha=2)"
      ],
      "execution_count": 15,
      "outputs": [
        {
          "output_type": "stream",
          "text": [
            "Градиентный спуск с дроблением шага выполнил 12 шагов\n",
            "Выполнено 29 итераций дробления шага\n",
            "Точка с координатами х1 = 0.0035031101757865197, x2 = -0.0007918635222898736\n"
          ],
          "name": "stdout"
        }
      ]
    },
    {
      "cell_type": "code",
      "metadata": {
        "scrolled": true,
        "colab": {
          "base_uri": "https://localhost:8080/"
        },
        "id": "JD0m79UNwAO_",
        "outputId": "4f330c2c-0fd1-4ad1-dd0c-24dbf1fde201"
      },
      "source": [
        "a = grad_descent_step_splitting(alpha=6)"
      ],
      "execution_count": 16,
      "outputs": [
        {
          "output_type": "stream",
          "text": [
            "Градиентный спуск с дроблением шага выполнил 12 шагов\n",
            "Выполнено 41 итераций дробления шага\n",
            "Точка с координатами х1 = 0.0023561084794047377, x2 = -0.00023333304618823977\n"
          ],
          "name": "stdout"
        }
      ]
    },
    {
      "cell_type": "markdown",
      "metadata": {
        "id": "ucbvMBsdgOwV"
      },
      "source": [
        "### Задание 2. [3 points]\n",
        "\n",
        "Для функции из предыдущего задания реализуйте градиентный спуск, в котором значение шага (скорости обучения) будет изменяться по формуле циклического косинусного ожига. ( в англ. литературе - cosine annealing learning rate или cosine decay lr). \n",
        "\n",
        "Доп. литература:\n",
        "- Циклический косинусный отжиг https://habr.com/ru/post/332534/\n",
        "\n",
        "- Пример colise decay в библиотеке Pytorch:\n",
        "https://www.programmersought.com/article/12164650026/"
      ]
    },
    {
      "cell_type": "code",
      "metadata": {
        "id": "TsaRfWp5wAO_"
      },
      "source": [
        "def grad_descent_cosine(T,M,x = np.array([0, 0]), alpha= 0.01, epsilon = 0.05):\n",
        "    grad = grad_f(x)\n",
        "    n = 0\n",
        "    check = 0\n",
        "    t=1\n",
        "    fin=[]\n",
        "    for i in range(M):\n",
        "        while (np.linalg.norm(grad) > epsilon) or (check<3):\n",
        "            alpha=alpha/2*(np.cos((np.pi*np.mod(t-1, (T/M)))/(T/M))+1)\n",
        "            x = x - alpha*grad\n",
        "            grad = grad_f(x)\n",
        "            n+=1\n",
        "            t+=1\n",
        "            if (np.linalg.norm(grad) <= epsilon): check +=1\n",
        "            if t>1000: #это условие было добавлено потому, что из-за резкого уменьшения alpha\n",
        "                       # цикл \"while\" может никогда не кончиться т.к. условие никогда не станет False\n",
        "                break\n",
        "        \n",
        "        alpha=0.5\n",
        "        t=1\n",
        "\n",
        "        print('Проход № ', i+1)\n",
        "        print(\"Градиентный спуск выполнил {} шагов\".format(n))\n",
        "        n=0\n",
        "        print(\"Точка с координатами х1 = {}, x2 = {} \".format(x[0], x[1]))\n",
        "        fin.append(x)\n",
        "    return fin"
      ],
      "execution_count": 17,
      "outputs": []
    },
    {
      "cell_type": "code",
      "metadata": {
        "scrolled": false,
        "colab": {
          "base_uri": "https://localhost:8080/"
        },
        "id": "BlAprGBVwAPA",
        "outputId": "0bd81aed-63fa-4a62-f259-fd280943cba7"
      },
      "source": [
        "a = grad_descent_cosine(T=10,M=5, alpha=0.5)"
      ],
      "execution_count": 18,
      "outputs": [
        {
          "output_type": "stream",
          "text": [
            "Проход №  1\n",
            "Градиентный спуск выполнил 3 шагов\n",
            "Точка с координатами х1 = 0.0, x2 = 0.0 \n",
            "Проход №  2\n",
            "Градиентный спуск выполнил 0 шагов\n",
            "Точка с координатами х1 = 0.0, x2 = 0.0 \n",
            "Проход №  3\n",
            "Градиентный спуск выполнил 0 шагов\n",
            "Точка с координатами х1 = 0.0, x2 = 0.0 \n",
            "Проход №  4\n",
            "Градиентный спуск выполнил 0 шагов\n",
            "Точка с координатами х1 = 0.0, x2 = 0.0 \n",
            "Проход №  5\n",
            "Градиентный спуск выполнил 0 шагов\n",
            "Точка с координатами х1 = 0.0, x2 = 0.0 \n"
          ],
          "name": "stdout"
        }
      ]
    },
    {
      "cell_type": "markdown",
      "metadata": {
        "id": "d2Non6JiiVoJ"
      },
      "source": [
        "### Задание 3. [0.75 point]\n",
        "Проверьте работу Вашего градиентного спуска с косинусным отжигом на произвольной функции ( полином должен быть не меньше 3-ьего порядка и задан в пространстве не меньше $R^3$)."
      ]
    },
    {
      "cell_type": "code",
      "metadata": {
        "id": "xBJCwE2SwAPB"
      },
      "source": [
        "def f(x):\n",
        "    return x[0]**4+5*x[1]**3-7*x[2]**2-np.log(x[3]+1)-x[0]+2*x[1]**2\n",
        "\n",
        "def grad_f(x):\n",
        "    return np.array([4*x[0]**3-1, 15*x[1]**2+4*x[1], 14*x[2], 1/(x[3]+1)])"
      ],
      "execution_count": 19,
      "outputs": []
    },
    {
      "cell_type": "code",
      "metadata": {
        "id": "O4oUyAazwAPB"
      },
      "source": [
        "def grad_descent_cosine(T,M,x = np.array([0, 0, 0, 0]), alpha= 0.01, epsilon = 0.05):\n",
        "    grad = grad_f(x)\n",
        "    n = 0\n",
        "    check = 0\n",
        "    t=1\n",
        "    fin=[]\n",
        "    for i in range(M):\n",
        "        while (np.linalg.norm(grad) > epsilon) or (check<3):\n",
        "            alpha=alpha/2*(np.cos((np.pi*np.mod(t-1, (T/M)))/(T/M))+1)\n",
        "            x = x - alpha*grad\n",
        "            grad = grad_f(x)\n",
        "            n+=1\n",
        "            t+=1\n",
        "            if (np.linalg.norm(grad) <= epsilon): check +=1\n",
        "            if t>1000: #это условие было добавлено потому, что из-за резкого уменьшения alpha\n",
        "                       # цикл \"while\" может никогда не кончиться т.к. условие никогда не станет False\n",
        "                break\n",
        "        \n",
        "        alpha=0.5\n",
        "        t=1\n",
        "\n",
        "        print('Проход № ', i+1)\n",
        "        print(\"Градиентный спуск выполнил {} шагов\".format(n))\n",
        "        n=0\n",
        "        print(\"Точка с координатами х1 = {}, x2 = {}, x3 = {}, x4 = {}\".format(x[0], x[1], x[2], x[3]))\n",
        "        fin.append(x)\n",
        "    return fin"
      ],
      "execution_count": 20,
      "outputs": []
    },
    {
      "cell_type": "code",
      "metadata": {
        "colab": {
          "base_uri": "https://localhost:8080/"
        },
        "id": "fFRQT3AowAPB",
        "outputId": "a6a6927b-109c-41bd-c104-e775c503c472"
      },
      "source": [
        "a = grad_descent_cosine(T=10,M=4, alpha=0.5)"
      ],
      "execution_count": 21,
      "outputs": [
        {
          "output_type": "stream",
          "text": [
            "Проход №  1\n",
            "Градиентный спуск выполнил 1000 шагов\n",
            "Точка с координатами х1 = 0.651175593052168, x2 = 0.0, x3 = 0.0, x4 = -1.4917315684203147\n",
            "Проход №  2\n",
            "Градиентный спуск выполнил 1000 шагов\n",
            "Точка с координатами х1 = 0.6395170379910909, x2 = 0.0, x3 = 0.0, x4 = -0.35321711701658237\n",
            "Проход №  3\n",
            "Градиентный спуск выполнил 1000 шагов\n",
            "Точка с координатами х1 = 0.6345213224457845, x2 = 0.0, x3 = 0.0, x4 = 1.4298099119598306\n",
            "Проход №  4\n",
            "Градиентный спуск выполнил 1000 шагов\n",
            "Точка с координатами х1 = 0.6321848885124215, x2 = 0.0, x3 = 0.0, x4 = 1.0346134551544048\n"
          ],
          "name": "stdout"
        }
      ]
    },
    {
      "cell_type": "markdown",
      "metadata": {
        "id": "UpONErtji81D"
      },
      "source": [
        "### Задание 4.\n",
        "Случайная величина X задана следующей функцией распределения:\n",
        "$$\n",
        "f(x)=\\left\\{\\begin{array}{r}\n",
        "0 \\text { npu } x \\leq \\pi \\\\\n",
        "-\\cos x \\text { npu } \\pi<x \\leq \\frac{3}{2} \\pi \\\\\n",
        "\\text { 0 npu } x>\\frac{3}{2} \\pi\n",
        "\\end{array}\\right.\n",
        "$$\n",
        "\n",
        "1. Постройте данную функцию распределения при помощи библиотеки seaborn **[0.25 point]**\n",
        "2. Найдите плотность вероятности. **[1 point]**\n",
        "3. Постройте график полученной плотности вероятности **[0.25 point]**\n",
        "\n",
        "4. Определить вероятность попадания случайной величины X в интервал $\\left[\\pi, \\frac{5}{4} \\pi\\right]$ **[0.75 point]**\n",
        "\n",
        "5. Найти математическое ожидание и дисперсию случайной величины X . **[0.75 point]**\n",
        "\n",
        "Так как мы не проходили интегрирование, то в 4 и 5 пунктах можете использовать\n",
        "wolfram alpha (https://www.wolframalpha.com) для интегрирования. Однако 2ой пункт задания (на нахождение производной) должен быть расписан!"
      ]
    },
    {
      "cell_type": "code",
      "metadata": {
        "id": "M_Xfc8wBwAPB"
      },
      "source": [
        "import seaborn as sns\n",
        "import pandas as pd"
      ],
      "execution_count": 22,
      "outputs": []
    },
    {
      "cell_type": "markdown",
      "metadata": {
        "id": "dmVr0P0MwAPC"
      },
      "source": [
        "Постройте данную функцию распределения при помощи библиотеки seaborn"
      ]
    },
    {
      "cell_type": "code",
      "metadata": {
        "id": "mJ2gMY_kwAPC"
      },
      "source": [
        "def f(x):\n",
        "    y=[]\n",
        "    for i in x:\n",
        "        if i<=np.pi:\n",
        "            y.append(0)\n",
        "        elif i>np.pi and i<=1.5*np.pi:\n",
        "            y.append(-np.cos(i))\n",
        "        else:\n",
        "            y.append(0)\n",
        "    return np.array(y)"
      ],
      "execution_count": 23,
      "outputs": []
    },
    {
      "cell_type": "code",
      "metadata": {
        "scrolled": true,
        "id": "wknUufE2wAPC"
      },
      "source": [
        "x = np.arange(0, 2*np.pi, 0.01)"
      ],
      "execution_count": 24,
      "outputs": []
    },
    {
      "cell_type": "code",
      "metadata": {
        "id": "8QRX3KF_wAPC"
      },
      "source": [
        "a=pd.Series(data=f(x),index=x)"
      ],
      "execution_count": 25,
      "outputs": []
    },
    {
      "cell_type": "code",
      "metadata": {
        "scrolled": true,
        "colab": {
          "base_uri": "https://localhost:8080/",
          "height": 282
        },
        "id": "0rnYF43SwAPC",
        "outputId": "ecf28d02-916e-400f-f1cb-2c3d2970a0c3"
      },
      "source": [
        "sns.lineplot(data=a)"
      ],
      "execution_count": 26,
      "outputs": [
        {
          "output_type": "execute_result",
          "data": {
            "text/plain": [
              "<matplotlib.axes._subplots.AxesSubplot at 0x7f45b7eeac50>"
            ]
          },
          "metadata": {
            "tags": []
          },
          "execution_count": 26
        },
        {
          "output_type": "display_data",
          "data": {
            "image/png": "[encoded data removed]",
            "text/plain": [
              "<Figure size 432x288 with 1 Axes>"
            ]
          },
          "metadata": {
            "tags": [],
            "needs_background": "light"
          }
        }
      ]
    },
    {
      "cell_type": "markdown",
      "metadata": {
        "id": "BP9PNdXOwAPD"
      },
      "source": [
        "Найдите плотность вероятности. "
      ]
    },
    {
      "cell_type": "code",
      "metadata": {
        "id": "bi1mUVeFwAPD"
      },
      "source": [
        "# плотность вероятности f'(x)=(-cos(x))'=-(-sin(x))=sin(x) при np.pi<x<=1.5*np.pi, в остальных случаях 0\n",
        "def dif(x):\n",
        "    y=[]\n",
        "    for i in x:\n",
        "        if i<=np.pi:\n",
        "            y.append(0)\n",
        "        elif i>np.pi and i<=1.5*np.pi:\n",
        "            y.append(np.sin(i))\n",
        "        else:\n",
        "            y.append(0)\n",
        "    return np.array(y)"
      ],
      "execution_count": 27,
      "outputs": []
    },
    {
      "cell_type": "markdown",
      "metadata": {
        "id": "YsMMELwTwAPD"
      },
      "source": [
        "Постройте график полученной плотности вероятности "
      ]
    },
    {
      "cell_type": "code",
      "metadata": {
        "id": "glgZtzBhwAPD"
      },
      "source": [
        "x = np.arange(0, 2*np.pi, 0.01)\n",
        "a=pd.Series(data=dif(x),index=x)"
      ],
      "execution_count": 28,
      "outputs": []
    },
    {
      "cell_type": "code",
      "metadata": {
        "colab": {
          "base_uri": "https://localhost:8080/",
          "height": 282
        },
        "id": "aT6CyLXswAPD",
        "outputId": "b80fc1e7-2f8b-4a8f-f5f7-ac4978439ae8"
      },
      "source": [
        "sns.lineplot(data=a)"
      ],
      "execution_count": 29,
      "outputs": [
        {
          "output_type": "execute_result",
          "data": {
            "text/plain": [
              "<matplotlib.axes._subplots.AxesSubplot at 0x7f45a8ccb198>"
            ]
          },
          "metadata": {
            "tags": []
          },
          "execution_count": 29
        },
        {
          "output_type": "display_data",
          "data": {
            "image/png": "[encoded data removed]",
            "text/plain": [
              "<Figure size 432x288 with 1 Axes>"
            ]
          },
          "metadata": {
            "tags": [],
            "needs_background": "light"
          }
        }
      ]
    },
    {
      "cell_type": "markdown",
      "metadata": {
        "id": "9ZsuIQDFwAPE"
      },
      "source": [
        "4. Определить вероятность попадания случайной величины X в интервал $\\left[\\pi, \\frac{5}{4} \\pi\\right]$"
      ]
    },
    {
      "cell_type": "markdown",
      "metadata": {
        "id": "1m_YxTQlwAPE"
      },
      "source": [
        "поскольку функция кусочная, полученное из вольфрама значение ∫(sin(x)) {5/4*π, π}=0.29289 -неправильно.\n",
        "В нашем случае ∫sin(x) dx {np.pi<x<1.5*np.pi} = 1.\n",
        "Для подсчёта вероятности не будем мучаться с сложением кусков интегралов, а воспользуемся формулой F(a)-F(b)"
      ]
    },
    {
      "cell_type": "code",
      "metadata": {
        "id": "aRl1wuYawAPE"
      },
      "source": [
        "def f(i):\n",
        "    if i<=np.pi:\n",
        "        return 0\n",
        "    elif i>np.pi and i<=1.5*np.pi:\n",
        "        return -np.cos(i)\n",
        "    else:\n",
        "        return 0"
      ],
      "execution_count": 30,
      "outputs": []
    },
    {
      "cell_type": "code",
      "metadata": {
        "colab": {
          "base_uri": "https://localhost:8080/"
        },
        "id": "7w1rqizTwAPE",
        "outputId": "f11b4900-bcbd-407d-9413-d021041efc80"
      },
      "source": [
        "f(5/4*np.pi)-f(np.pi)"
      ],
      "execution_count": 31,
      "outputs": [
        {
          "output_type": "execute_result",
          "data": {
            "text/plain": [
              "0.7071067811865477"
            ]
          },
          "metadata": {
            "tags": []
          },
          "execution_count": 31
        }
      ]
    },
    {
      "cell_type": "markdown",
      "metadata": {
        "id": "E0S1jKcRwAPE"
      },
      "source": [
        "Найти математическое ожидание и дисперсию случайной величины X "
      ]
    },
    {
      "cell_type": "code",
      "metadata": {
        "colab": {
          "base_uri": "https://localhost:8080/",
          "height": 54
        },
        "id": "cJoJe_3twAPE",
        "outputId": "4318a8e7-af4e-49e7-9088-0bb12fc88539"
      },
      "source": [
        "'''\n",
        "из вольфрама\n",
        "M(X)=∫-cos(x)*x dx {π,5/4*π}=2.4839\n",
        "\n",
        "для расчёта дисперсии:\n",
        "M(X**2)=∫(-cos(x))*x^2 dx {π,5/4*π}=8.7607\n",
        "\n",
        "D(X)=M[(X−M(X))^2]=M(X^2)−(M(X))^2.\n",
        "D(X)=8.7607-2.4839**2=2.5909\n",
        "'''"
      ],
      "execution_count": 32,
      "outputs": [
        {
          "output_type": "execute_result",
          "data": {
            "application/vnd.google.colaboratory.intrinsic+json": {
              "type": "string"
            },
            "text/plain": [
              "'\\nиз вольфрама\\nM(X)=∫-cos(x)*x dx {π,5/4*π}=2.4839\\n\\nдля расчёта дисперсии:\\nM(X**2)=∫(-cos(x))*x^2 dx {π,5/4*π}=8.7607\\n\\nD(X)=M[(X−M(X))^2]=M(X^2)−(M(X))^2.\\nD(X)=8.7607-2.4839**2=2.5909\\n'"
            ]
          },
          "metadata": {
            "tags": []
          },
          "execution_count": 32
        }
      ]
    },
    {
      "cell_type": "code",
      "metadata": {
        "colab": {
          "base_uri": "https://localhost:8080/"
        },
        "id": "Yry5JdIEwAPF",
        "outputId": "77e770c0-5a83-432c-a831-2abcc90cbfb6"
      },
      "source": [
        "D=8.7607-2.4839**2\n",
        "D"
      ],
      "execution_count": 33,
      "outputs": [
        {
          "output_type": "execute_result",
          "data": {
            "text/plain": [
              "2.5909407899999986"
            ]
          },
          "metadata": {
            "tags": []
          },
          "execution_count": 33
        }
      ]
    },
    {
      "cell_type": "markdown",
      "metadata": {
        "id": "-LrqILMHkgTd"
      },
      "source": [
        "### Задание 5 [1.5 point]\n",
        "\n",
        " Случайная величина Х задана функцией распределения F(x).\n",
        "\n",
        " $$F(x)=\\left\\{\\begin{array}{c}0, x \\leq 1 \\\\ x-1,1<x \\leq 2 \\\\ 1, x>2\\end{array}\\right.$$\n",
        "\n",
        " 1. Является ли случайная величина Х непрерывной?\n",
        "\n",
        " 2. имеет ли случайная величина Х плотность вероятности f(X)? Если имеет, найти ее. \n",
        " 3. постройте графики f(X) и F(X), если такое возможно.\n"
      ]
    },
    {
      "cell_type": "code",
      "metadata": {
        "id": "eJmFv_qMwAPF"
      },
      "source": [
        "def f(x):\n",
        "    y=[]\n",
        "    for i in x:\n",
        "        if i<=1:\n",
        "            y.append(0)\n",
        "        elif i>1 and i<=2:\n",
        "            y.append(i-1)\n",
        "        else:\n",
        "            y.append(1)\n",
        "    return np.array(y)"
      ],
      "execution_count": 34,
      "outputs": []
    },
    {
      "cell_type": "code",
      "metadata": {
        "colab": {
          "base_uri": "https://localhost:8080/",
          "height": 282
        },
        "id": "0vDqpQWXwAPF",
        "outputId": "4e8ca494-f4a9-4e67-a77e-bf1dd9e3aef8"
      },
      "source": [
        "x=np.arange(-4,7,0.01)\n",
        "\n",
        "a=pd.Series(f(x),index=x)\n",
        "sns.lineplot(data=a)"
      ],
      "execution_count": 35,
      "outputs": [
        {
          "output_type": "execute_result",
          "data": {
            "text/plain": [
              "<matplotlib.axes._subplots.AxesSubplot at 0x7f45a8828e10>"
            ]
          },
          "metadata": {
            "tags": []
          },
          "execution_count": 35
        },
        {
          "output_type": "display_data",
          "data": {
            "image/png": "[encoded data removed]",
            "text/plain": [
              "<Figure size 432x288 with 1 Axes>"
            ]
          },
          "metadata": {
            "tags": [],
            "needs_background": "light"
          }
        }
      ]
    },
    {
      "cell_type": "markdown",
      "metadata": {
        "id": "v6_naM4ZwAPG"
      },
      "source": [
        "Ответ: Да, случайная величина Х непрерывна"
      ]
    },
    {
      "cell_type": "code",
      "metadata": {
        "id": "wQH5NF67wAPG"
      },
      "source": [
        "# плотность\n",
        "def P(x):\n",
        "    y=[]\n",
        "    for i in x:\n",
        "        if i<=1:\n",
        "            y.append(0)\n",
        "        elif i>1 and i<=2:\n",
        "            y.append(1)\n",
        "        else:\n",
        "            y.append(0)\n",
        "    return np.array(y)    "
      ],
      "execution_count": 36,
      "outputs": []
    },
    {
      "cell_type": "code",
      "metadata": {
        "colab": {
          "base_uri": "https://localhost:8080/",
          "height": 282
        },
        "id": "Hu8Y1U_dwAPG",
        "outputId": "88d3c4ac-2901-45a8-a567-daa8694d5848"
      },
      "source": [
        "x=np.arange(-4,7,0.01)\n",
        "\n",
        "b=pd.Series(P(x),index=x)\n",
        "sns.lineplot(data=a)\n",
        "sns.lineplot(data=b)"
      ],
      "execution_count": 37,
      "outputs": [
        {
          "output_type": "execute_result",
          "data": {
            "text/plain": [
              "<matplotlib.axes._subplots.AxesSubplot at 0x7f45a8788f28>"
            ]
          },
          "metadata": {
            "tags": []
          },
          "execution_count": 37
        },
        {
          "output_type": "display_data",
          "data": {
            "image/png": "[encoded data removed]",
            "text/plain": [
              "<Figure size 432x288 with 1 Axes>"
            ]
          },
          "metadata": {
            "tags": [],
            "needs_background": "light"
          }
        }
      ]
    },
    {
      "cell_type": "markdown",
      "metadata": {
        "id": "xzQy9iYWmGD5"
      },
      "source": [
        "### Задание 6\n",
        "\n",
        "Рассмотрим несбалансированный набор данных с соотношением меньшего класса к большему 1: 100, где 100 экземпляров принадлежит меньшему классу, а 10 000 большему.\n",
        "\n",
        "Модель ML делает прогнозы и предсказывает 120 примеров как принадлежащих к классу меньшинства, 90 из которых верны, а 30 - неверны.\n",
        "\n",
        "Найти:\n",
        "\n",
        "- Precision **[0.5 point]**\n",
        "- Recall **[0.5 point]**\n",
        "- $F_1$ метрику **[0.5 point]**"
      ]
    },
    {
      "cell_type": "markdown",
      "metadata": {
        "id": "ktbQfzZ0wAPG"
      },
      "source": [
        "Precision можно интерпретировать как долю объектов, названных классификатором положительными и при этом действительно являющимися положительными, а recall показывает, какую долю объектов положительного класса из всех объектов положительного класса нашел алгоритм."
      ]
    },
    {
      "cell_type": "code",
      "metadata": {
        "colab": {
          "base_uri": "https://localhost:8080/"
        },
        "id": "c1ZzBrcawAPH",
        "outputId": "201dd668-fe75-4004-c6e0-61aa5c7ac363"
      },
      "source": [
        "# TP/(TP+FP)\n",
        "precision=90/(90+20)\n",
        "precision"
      ],
      "execution_count": 38,
      "outputs": [
        {
          "output_type": "execute_result",
          "data": {
            "text/plain": [
              "0.8181818181818182"
            ]
          },
          "metadata": {
            "tags": []
          },
          "execution_count": 38
        }
      ]
    },
    {
      "cell_type": "code",
      "metadata": {
        "colab": {
          "base_uri": "https://localhost:8080/"
        },
        "id": "RXAv_QD6wAPH",
        "outputId": "d070223c-3515-47f0-d77b-8ef50384ffc3"
      },
      "source": [
        "# TP/(TP+FN)\n",
        "recall=90/(90+10)\n",
        "recall"
      ],
      "execution_count": 39,
      "outputs": [
        {
          "output_type": "execute_result",
          "data": {
            "text/plain": [
              "0.9"
            ]
          },
          "metadata": {
            "tags": []
          },
          "execution_count": 39
        }
      ]
    },
    {
      "cell_type": "code",
      "metadata": {
        "colab": {
          "base_uri": "https://localhost:8080/"
        },
        "id": "gbbtkS1CwAPH",
        "outputId": "545e09ed-2523-4ae7-e624-5744a5ac9f05"
      },
      "source": [
        "F1=2*precision*recall/(precision+recall)\n",
        "F1"
      ],
      "execution_count": 40,
      "outputs": [
        {
          "output_type": "execute_result",
          "data": {
            "text/plain": [
              "0.8571428571428572"
            ]
          },
          "metadata": {
            "tags": []
          },
          "execution_count": 40
        }
      ]
    }
  ]
}