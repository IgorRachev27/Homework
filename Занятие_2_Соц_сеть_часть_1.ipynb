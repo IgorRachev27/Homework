{
  "nbformat": 4,
  "nbformat_minor": 0,
  "metadata": {
    "celltoolbar": "Raw Cell Format",
    "kernelspec": {
      "display_name": "Python 3",
      "language": "python",
      "name": "python3"
    },
    "language_info": {
      "codemirror_mode": {
        "name": "ipython",
        "version": 3
      },
      "file_extension": ".py",
      "mimetype": "text/x-python",
      "name": "python",
      "nbconvert_exporter": "python",
      "pygments_lexer": "ipython3",
      "version": "3.7.9"
    },
    "colab": {
      "name": "Занятие 2 Соц сеть часть 1.ipynb",
      "provenance": [],
      "include_colab_link": true
    }
  },
  "cells": [
    {
      "cell_type": "markdown",
      "metadata": {
        "id": "view-in-github",
        "colab_type": "text"
      },
      "source": [
        "<a href=\"https://colab.research.google.com/github/IgorRachev27/Homework/blob/main/%D0%97%D0%B0%D0%BD%D1%8F%D1%82%D0%B8%D0%B5_2_%D0%A1%D0%BE%D1%86_%D1%81%D0%B5%D1%82%D1%8C_%D1%87%D0%B0%D1%81%D1%82%D1%8C_1.ipynb\" target=\"_parent\"><img src=\"https://colab.research.google.com/assets/colab-badge.svg\" alt=\"Open In Colab\"/></a>"
      ]
    },
    {
      "cell_type": "markdown",
      "metadata": {
        "id": "MhJcdxHvHJCU"
      },
      "source": [
        "# ДОП Задание к ДЗ (Необязательно к выполнению, но приносит доп. балл)\n",
        "Дополните класс Phystech так, чтобы у пользователей появился список друзей. Пользователи должны быть в состоянии добавлять других в друзья по uid, удалять других из друзей; смотреть на список общих друзей; проверять, приняли ли заявку в друзья; видеть актуальный список входящих и исходящих заявок; запрещать конкретным пользователям добавлять себя в друзья.\n",
        "При этом любое действие пользователя должно обновлять переменную self.last_online, а история её значений для каждого из пользователей должна накапливаться в статическом поле класса (т.е. должен быть Dict[int, List[datetime]] -- отображение из  uid в историю сеансов.\n"
      ]
    },
    {
      "cell_type": "markdown",
      "metadata": {
        "id": "aga2bN94HJCU"
      },
      "source": [
        "# Я удалил декораторы из примера чтобы не перегружать выход и сам код лишней информацией. Здесь и так много нагромаждено получилось. Отражена суть задания"
      ]
    },
    {
      "cell_type": "markdown",
      "metadata": {
        "id": "2Kks3UvEHJCU"
      },
      "source": [
        "## инструкция: данный макет соц сети управляется посредством текстовых команд. призапуске некоторых ячеек ожидается определённая переменная или значение на вход. Если вводить значения правильно, то результат будет выведен после выполнения ячейки. В начале Вам дается список пользователей и просят выбрать цифрой от имени кого мы будем сейчас выполнять операции. Далее, например, после подачи заявки в друзья, если идти последовательно по ячейкам вниз, я предлагаю сменить пользователя, чтобы можно было принять от его имени заявку в друзья, которую мы послали от имени первого пользователя. Чтобы поиграться с соц сетью не обязательно добавлять кого-то в ЧС или смотреть общих друзей чтобы она работала, нужно лишь переодически заходить под другим пользователем. Но данный функционал типа ЧС можно вполне потестить. Можно возвращаться к предыдущим ячейкам и запускать их заново. Но делать это следует исходя из логичности данной операции, так как не все ошибки продуманы из-за недостатка времени!"
      ]
    },
    {
      "cell_type": "code",
      "metadata": {
        "id": "zmtzJX-2HJCU"
      },
      "source": [
        "from typing import Optional, List, Dict\n",
        "import time\n",
        "import numpy as np\n",
        "from datetime import datetime\n",
        "import pandas as pd"
      ],
      "execution_count": null,
      "outputs": []
    },
    {
      "cell_type": "code",
      "metadata": {
        "id": "MCGQSdE1HJCV"
      },
      "source": [
        "class Phystech:\n",
        "    uid = 0\n",
        "    spisok={} # все пользователи соцсети\n",
        "    exempl={} # экземпляры класса\n",
        "    Last_Online={}\n",
        "    \n",
        "    def __init__(\n",
        "        self,\n",
        "        name: str,\n",
        "        login: str,\n",
        "        password: str,\n",
        "        graduation_year: Optional[int] = None,\n",
        "        birthday: Optional[datetime] = None, \n",
        "        status: Optional[str] = None,\n",
        "        friends=[], # друзья\n",
        "        in_friends=[], # входящие заявки\n",
        "        out_friends=[], # исходящие заявки\n",
        "        black_list=[], # кому запрещено добавлять в друзья\n",
        "        \n",
        "    ):\n",
        "        self.name = name\n",
        "        self.status = status\n",
        "        \n",
        "        self.__uid = Phystech.uid\n",
        "        Phystech.uid += 1\n",
        "\n",
        "        Phystech.spisok[self.uid]=self.name # формируем список пользователей\n",
        "        Phystech.exempl[self.uid]=self # формируем экземпляры класса\n",
        "        Phystech.Last_Online[self.name]=[datetime.now()]\n",
        "        \n",
        "        self._birthday = birthday\n",
        "        self._graduation_year = graduation_year\n",
        "        self.__login = login\n",
        "        self.__password = password\n",
        "        \n",
        "        \n",
        "        self.friends=friends\n",
        "        self.in_friends=in_friends, # входящие заявки\n",
        "        self.out_friends=out_friends, # исходящие заявки\n",
        "        self.black_list=black_list\n",
        "        \n",
        "        \n",
        "    def friend_req(self): # запрос в друзья\n",
        "        a=input(f'{Phystech.spisok} \\n введите uid друга')\n",
        "        \n",
        "        if self.name in Phystech.exempl[int(a)].black_list:\n",
        "            print('вы в чёрном списке у пользователя!!!')\n",
        "        else: \n",
        "            if Phystech.spisok[int(a)] not in self.out_friends[0]:\n",
        "                self.out_friends[0].append(Phystech.spisok[int(a)])\n",
        "                Phystech.exempl[int(a)].in_friends[0].append(self.name)\n",
        "            \n",
        "        print(f' исходящие заявки для {self.name} {self.out_friends}')\n",
        "        print(f' входящие заявки для {Phystech.exempl[int(a)].name} {Phystech.exempl[int(a)].in_friends}')\n",
        "        \n",
        "        # обновляем время последнего действия\n",
        "        \n",
        "        Phystech.Last_Online[self.name].append(datetime.now())\n",
        "        \n",
        "    def black(self): # ЧС\n",
        "        a=input(f'{Phystech.spisok} \\n введите uid кандидата в ЧС ')\n",
        "        if Phystech.spisok[int(a)] not in self.black_list:\n",
        "            self.black_list.append(Phystech.spisok[int(a)])\n",
        "            print(f'чёрный список для {self.name} {Phystech.exempl[int(Ya)].black_list}')\n",
        "        # обновляем время последнего действия\n",
        "        \n",
        "        Phystech.Last_Online[self.name].append(datetime.now())            \n",
        "            \n",
        "    \n",
        "    def accept(self): # принятие в друзья\n",
        "        a=input(f'{self.in_friends[0]} \\n скопируйте имя человека из заявки: ')\n",
        "        b=int(input(\"нажмите 1 чтобы добавить в друзья и любой другой символ чтобы удалить заявку\"))\n",
        "        if b==1:\n",
        "            self.friends.append(a) # следующая за этой строчка находит uid человека по его ФИО\n",
        "            # list(Phystech.spisok.keys())[list(Phystech.spisok.values()).index(a)]\n",
        "            Phystech.exempl[list(Phystech.spisok.keys())[list(Phystech.spisok.values()).index(a)]].friends.append(self.name)\n",
        "            self.in_friends[0].remove(a)\n",
        "            Phystech.exempl[list(Phystech.spisok.keys())[list(Phystech.spisok.values()).index(a)]].out_friends[0].remove(self.name)\n",
        "        \n",
        "        else:\n",
        "            self.in_friends[0].remove(a)\n",
        "            Phystech.exempl[list(Phystech.spisok.keys())[list(Phystech.spisok.values()).index(a)]].out_friends[0].remove(self.name)\n",
        "        \n",
        "        print(f'мои входящие заявки {self.in_friends[0]}')\n",
        "        print(f'мои друзья {self.friends}')\n",
        "\n",
        "        # обновляем время последнего действия\n",
        "        \n",
        "        Phystech.Last_Online[self.name].append(datetime.now())        \n",
        "        \n",
        "    def delete(self):\n",
        "        a=input(f'вот список друзей{self.friends}, кого удалим? скопируй его ')\n",
        "        try: \n",
        "            self.friends.remove(a)\n",
        "            Phystech.exempl[list(Phystech.spisok.keys())[list(Phystech.spisok.values()).index(a)]].friends.remove(self.name)\n",
        "            print(f'мои друзья {self.friends}')\n",
        "            print (f'друзья того, кто нам больше не друг {Phystech.exempl[list(Phystech.spisok.keys())[list(Phystech.spisok.values()).index(a)]].friends}')\n",
        "        except: print('такого друга нет')\n",
        "            \n",
        "        # обновляем время последнего действия\n",
        "        \n",
        "        Phystech.Last_Online[self.name].append(datetime.now())            \n",
        "            \n",
        "            \n",
        "    def obschee(self):\n",
        "        a=input(f'у кого из друзей посмотрим общих друзей? скопируй ФИО {self.friends}')\n",
        "        result = [x for x in self.friends if x in Phystech.exempl[list(Phystech.spisok.keys())[list(Phystech.spisok.values()).index(a)]].friends ]\n",
        "        print(f'общие друзья: {result}')\n",
        "        # обновляем время последнего действия\n",
        "        \n",
        "        Phystech.Last_Online[self.name].append(datetime.now())"
      ],
      "execution_count": null,
      "outputs": []
    },
    {
      "cell_type": "code",
      "metadata": {
        "id": "Lr3uvQCYHJCV"
      },
      "source": [
        "\n",
        "landau = Phystech(\n",
        "    name='Лев Давидович Ландау', \n",
        "    birthday=datetime(year=1908, month=1, day=22),\n",
        "    status='Главное – делайте все с увлечением: это страшно украшает жизнь.',\n",
        "    login='dau',\n",
        "    password='I<3Physics',\n",
        "    friends=[],\n",
        "    in_friends=[],\n",
        "    out_friends=[],\n",
        "    black_list=[],\n",
        ")"
      ],
      "execution_count": null,
      "outputs": []
    },
    {
      "cell_type": "code",
      "metadata": {
        "id": "1zBY_0FFHJCV"
      },
      "source": [
        "\n",
        "ovchinkin = Phystech(\n",
        "    name='Овчинкин Владимир Александрович',  \n",
        "    birthday=datetime(year=1946, month=6, day=9),\n",
        "    status='Знаете, как много надо знать, чтобы понять, как мало мы знаем.',\n",
        "    login='ovchinkin',\n",
        "    graduation_year=2021,\n",
        "    password='general_physics_rules',\n",
        "    friends=[],\n",
        "    in_friends=[],\n",
        "    out_friends=[],\n",
        "    black_list=[],\n",
        "    \n",
        ")"
      ],
      "execution_count": null,
      "outputs": []
    },
    {
      "cell_type": "code",
      "metadata": {
        "id": "vPe7lwbcHJCV"
      },
      "source": [
        "\n",
        "rachev = Phystech(\n",
        "    name='Рачев Игорь Андреевич',  \n",
        "    birthday=datetime(year=1996, month=1, day=27),\n",
        "    status='бла-бла',\n",
        "    login='rachev',\n",
        "    graduation_year=2021,\n",
        "    password='12345',\n",
        "    friends=[],\n",
        "    in_friends=[],\n",
        "    out_friends=[],\n",
        "    black_list=[],\n",
        "\n",
        ")"
      ],
      "execution_count": null,
      "outputs": []
    },
    {
      "cell_type": "markdown",
      "metadata": {
        "id": "atmOdgOzHJCV"
      },
      "source": [
        "# Начало"
      ]
    },
    {
      "cell_type": "code",
      "metadata": {
        "scrolled": false,
        "id": "sTB_c5txHJCV",
        "outputId": "87a535ae-bd80-4186-affe-99709dcfbee5"
      },
      "source": [
        "Phystech.Last_Online"
      ],
      "execution_count": null,
      "outputs": [
        {
          "output_type": "execute_result",
          "data": {
            "text/plain": [
              "{'Лев Давидович Ландау': [datetime.datetime(2020, 12, 3, 22, 30, 2, 399628),\n",
              "  datetime.datetime(2020, 12, 3, 22, 30, 32, 866122),\n",
              "  datetime.datetime(2020, 12, 3, 22, 33, 8, 780609),\n",
              "  datetime.datetime(2020, 12, 3, 22, 33, 55, 813091)],\n",
              " 'Овчинкин Владимир Александрович': [datetime.datetime(2020, 12, 3, 22, 30, 4, 833720),\n",
              "  datetime.datetime(2020, 12, 3, 22, 32, 27, 20484),\n",
              "  datetime.datetime(2020, 12, 3, 22, 32, 38, 314148)],\n",
              " 'Рачев Игорь Андреевич': [datetime.datetime(2020, 12, 3, 22, 30, 7, 304810),\n",
              "  datetime.datetime(2020, 12, 3, 22, 30, 42, 466805),\n",
              "  datetime.datetime(2020, 12, 3, 22, 34, 24, 747247),\n",
              "  datetime.datetime(2020, 12, 3, 22, 34, 38, 117285),\n",
              "  datetime.datetime(2020, 12, 3, 22, 35, 32, 324484)]}"
            ]
          },
          "metadata": {
            "tags": []
          },
          "execution_count": 27
        }
      ]
    },
    {
      "cell_type": "markdown",
      "metadata": {
        "id": "zasTTRv3HJCW"
      },
      "source": [
        "# входящие/исходящие заявки"
      ]
    },
    {
      "cell_type": "code",
      "metadata": {
        "scrolled": false,
        "id": "MxdwWa2ZHJCW",
        "outputId": "1710727a-09eb-442d-8d8d-7d037eddf246"
      },
      "source": [
        "Ya=input(f\"для проверки {Phystech.spisok} \\n введите себя числом \")"
      ],
      "execution_count": null,
      "outputs": [
        {
          "output_type": "stream",
          "text": [
            "для проверки {1: 'Лев Давидович Ландау', 2: 'Овчинкин Владимир Александрович', 3: 'Рачев Игорь Андреевич'} \n",
            " введите себя числом 3\n"
          ],
          "name": "stdout"
        }
      ]
    },
    {
      "cell_type": "code",
      "metadata": {
        "id": "W9Qi1QM7HJCW",
        "outputId": "ad03a3aa-6445-42f3-ebf1-6f5421850c98"
      },
      "source": [
        "Phystech.exempl[int(Ya)].friend_req()"
      ],
      "execution_count": null,
      "outputs": [
        {
          "output_type": "stream",
          "text": [
            "{1: 'Лев Давидович Ландау', 2: 'Овчинкин Владимир Александрович', 3: 'Рачев Игорь Андреевич'} \n",
            " введите uid друга1\n",
            "вы в чёрном списке у пользователя!!!\n",
            " исходящие заявки для Рачев Игорь Андреевич ([],)\n",
            " входящие заявки для Лев Давидович Ландау ([],)\n"
          ],
          "name": "stdout"
        }
      ]
    },
    {
      "cell_type": "markdown",
      "metadata": {
        "id": "w2CDUGTxHJCW"
      },
      "source": [
        "# чёрный список. * если пользователь уже отправил заявку, то помещение его в ЧС не отменяет заявки"
      ]
    },
    {
      "cell_type": "markdown",
      "metadata": {
        "id": "CEeKCp2MHJCX"
      },
      "source": [
        "### смените пользователя для проверки"
      ]
    },
    {
      "cell_type": "code",
      "metadata": {
        "id": "NF4fff75HJCX",
        "outputId": "2ceb4240-009f-49ae-a5cd-3a6f714ead90"
      },
      "source": [
        "Ya=input(f\"для проверки {Phystech.spisok} \\n введите себя числом \")"
      ],
      "execution_count": null,
      "outputs": [
        {
          "output_type": "stream",
          "text": [
            "для проверки {1: 'Лев Давидович Ландау', 2: 'Овчинкин Владимир Александрович', 3: 'Рачев Игорь Андреевич'} \n",
            " введите себя числом 1\n"
          ],
          "name": "stdout"
        }
      ]
    },
    {
      "cell_type": "code",
      "metadata": {
        "id": "gu17-Q7zHJCX",
        "outputId": "f638b966-b442-4e49-e0fd-8b991a89a35f"
      },
      "source": [
        "Phystech.exempl[int(Ya)].black()"
      ],
      "execution_count": null,
      "outputs": [
        {
          "output_type": "stream",
          "text": [
            "{1: 'Лев Давидович Ландау', 2: 'Овчинкин Владимир Александрович', 3: 'Рачев Игорь Андреевич'} \n",
            " введите uid кандидата в ЧС 3\n",
            "чёрный список для Лев Давидович Ландау ['Рачев Игорь Андреевич']\n"
          ],
          "name": "stdout"
        }
      ]
    },
    {
      "cell_type": "markdown",
      "metadata": {
        "id": "lxWfoEMmHJCX"
      },
      "source": [
        "# Подтверждение заявки - переход в список друзей * смените пользователя чтобы посмотреть от его имени"
      ]
    },
    {
      "cell_type": "code",
      "metadata": {
        "id": "ku4NRXLNHJCX",
        "outputId": "e221f1a4-037a-4280-ad6a-de5c68a14afd"
      },
      "source": [
        "Ya=input(f\"для проверки {Phystech.spisok} \\n введите себя числом \")"
      ],
      "execution_count": null,
      "outputs": [
        {
          "output_type": "stream",
          "text": [
            "для проверки {1: 'Лев Давидович Ландау', 2: 'Овчинкин Владимир Александрович', 3: 'Рачев Игорь Андреевич'} \n",
            " введите себя числом 3\n"
          ],
          "name": "stdout"
        }
      ]
    },
    {
      "cell_type": "code",
      "metadata": {
        "id": "Ad7hZ89FHJCX",
        "outputId": "652d892f-d94b-456c-b2a1-c04117dc596a"
      },
      "source": [
        "Phystech.exempl[int(Ya)].accept()"
      ],
      "execution_count": null,
      "outputs": [
        {
          "output_type": "stream",
          "text": [
            "['Лев Давидович Ландау'] \n",
            " скопируйте имя человека из заявки: Лев Давидович Ландау\n",
            "нажмите 1 чтобы добавить в друзья и любой другой символ чтобы удалить заявку1\n",
            "мои входящие заявки []\n",
            "мои друзья ['Овчинкин Владимир Александрович', 'Лев Давидович Ландау']\n"
          ],
          "name": "stdout"
        }
      ]
    },
    {
      "cell_type": "markdown",
      "metadata": {
        "id": "gEe5BINWHJCX"
      },
      "source": [
        "# Удаление друзей"
      ]
    },
    {
      "cell_type": "code",
      "metadata": {
        "id": "zsOt2NuWHJCX",
        "outputId": "27744a99-6a93-464d-8420-a7760f613fb9"
      },
      "source": [
        "Phystech.exempl[int(Ya)].delete()"
      ],
      "execution_count": null,
      "outputs": [
        {
          "output_type": "stream",
          "text": [
            "вот список друзей['Овчинкин Владимир Александрович', 'Лев Давидович Ландау'], кого удалим? скопируй его Лев Давидович Ландау\n",
            "мои друзья ['Овчинкин Владимир Александрович']\n",
            "друзья того, кто нам больше не друг ['Овчинкин Владимир Александрович']\n"
          ],
          "name": "stdout"
        }
      ]
    },
    {
      "cell_type": "markdown",
      "metadata": {
        "id": "xTMYKTRBHJCY"
      },
      "source": [
        "# Общие друзья"
      ]
    },
    {
      "cell_type": "code",
      "metadata": {
        "id": "NleWgQIOHJCY",
        "outputId": "221d976a-e021-4750-84ac-896e70dcea08"
      },
      "source": [
        "Phystech.exempl[int(Ya)].obschee()"
      ],
      "execution_count": null,
      "outputs": [
        {
          "output_type": "stream",
          "text": [
            "у кого из друзей посмотрим общих друзей? скопируй ФИО ['Овчинкин Владимир Александрович', 'Лев Давидович Ландау']Лев Давидович Ландау\n",
            "общие друзья: ['Овчинкин Владимир Александрович']\n"
          ],
          "name": "stdout"
        }
      ]
    }
  ]
}