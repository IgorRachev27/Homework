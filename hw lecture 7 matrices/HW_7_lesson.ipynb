{
  "nbformat": 4,
  "nbformat_minor": 0,
  "metadata": {
    "colab": {
      "name": "HW_7_lesson.ipynb",
      "provenance": [],
      "collapsed_sections": [],
      "include_colab_link": true
    },
    "kernelspec": {
      "display_name": "Python 3",
      "language": "python",
      "name": "python3"
    },
    "language_info": {
      "codemirror_mode": {
        "name": "ipython",
        "version": 3
      },
      "file_extension": ".py",
      "mimetype": "text/x-python",
      "name": "python",
      "nbconvert_exporter": "python",
      "pygments_lexer": "ipython3",
      "version": "3.7.9"
    }
  },
  "cells": [
    {
      "cell_type": "markdown",
      "metadata": {
        "id": "view-in-github",
        "colab_type": "text"
      },
      "source": [
        "<a href=\"https://colab.research.google.com/github/IgorRachev27/Homework/blob/main/hw%20lecture%207%20matrices/HW_7_lesson.ipynb\" target=\"_parent\"><img src=\"https://colab.research.google.com/assets/colab-badge.svg\" alt=\"Open In Colab\"/></a>"
      ]
    },
    {
      "cell_type": "markdown",
      "metadata": {
        "id": "PDkG3Bis38V_"
      },
      "source": [
        "# Домашнее задание к 7 уроку.\n",
        "\n",
        "**Дедлайн: 23.12.2020**"
      ]
    },
    {
      "cell_type": "markdown",
      "metadata": {
        "id": "T_frQ-789isH"
      },
      "source": [
        "colab: https://colab.research.google.com/drive/1KLD5pDCa0ka_g1U4D2ExihaaEwXzfTPW?usp=sharing"
      ]
    },
    {
      "cell_type": "markdown",
      "metadata": {
        "id": "PzhnPFbL3igE"
      },
      "source": [
        "**ФОРМАТ ОТЧЕТНОСТИ:** pdf-файл с решенными задачами (задачи 2-9), ноутбук с проверкой решения этих задач (при помощи numpy), и pdf файл с отчетом по 1-ой задаче (краткий пересказ статьи). Вы можете оформить решения с использованием Markdown (писать текст прямо в юпитер ноутбуке), Latex, Word или же решить в тетради и сформировать pdf из фото.\n",
        "\n",
        "Итого: 2 pdf файла.\n",
        "\n",
        "Все задания необходимо выполнять ВРУЧНУЮ. А также проверить корректность полученных результатов с использованием Numpy.\n",
        "\n",
        "Туториал как писать \"Latex-формулы\" прямо в Юпитере:\n",
        "https://www.youtube.com/watch?v=vSc25kdgecg\n",
        "\n",
        "Ноутбук с примером формул: https://nbviewer.jupyter.org/github/postlogist/course_opt/blob/master/jupyter_tutorial/02_markdown.ipynb\n"
      ]
    },
    {
      "cell_type": "markdown",
      "metadata": {
        "id": "RU2u4fG55fBq"
      },
      "source": [
        "## Пример\n",
        "\n",
        "\n",
        "Найдем ранг матрицы \n",
        "\n",
        "$$\\begin{pmatrix}\n",
        "1 & 2 & 3 & 4 & 5\\\\ \n",
        "2 & 5 & 8 & 11 & 14\\\\ \n",
        "3 & 9 & 14 & 20 & 26\\\\ \n",
        "5 & 14 & 22 & 31 & 40\n",
        "\\end{pmatrix}.$$\n",
        "\n",
        "Четвертая строка является суммой второй и третьей строк, а значит, ее можно отбросить:\n",
        "\n",
        "$$\\begin{pmatrix}\n",
        "1 & 2 & 3 & 4 & 5\\\\ \n",
        "2 & 5 & 8 & 11 & 14\\\\ \n",
        "3 & 9 & 14 & 20 & 26\n",
        "\\end{pmatrix}.$$\n",
        "\n",
        "Из второй и третьей строк вычтем первую, умноженную на $2$ и $3$ соответственно:\n",
        "\n",
        "$$\\begin{pmatrix}\n",
        "1 & 2 & 3 & 4 & 5\\\\ \n",
        "0 & 1 & 2 & 3 & 4\\\\ \n",
        "0 & 2 & 5 & 8 & 11\n",
        "\\end{pmatrix}.$$\n",
        "\n",
        "И вычтем из третьей строки вторую, умноженную на $2$:\n",
        "\n",
        "$$\\begin{pmatrix}\n",
        "1 & 2 & 3 & 4 & 5\\\\ \n",
        "0 & 1 & 2 & 3 & 4\\\\ \n",
        "0 & 0 & 1 & 2 & 3\n",
        "\\end{pmatrix}.$$\n",
        "\n",
        "Таким образом, ранг матрицы равен $3$."
      ]
    },
    {
      "cell_type": "code",
      "metadata": {
        "colab": {
          "base_uri": "https://localhost:8080/"
        },
        "id": "c3mJUpE65vak",
        "outputId": "5a5debbc-1a4a-47a5-8b35-9b40b7caf531"
      },
      "source": [
        "# Проверка\n",
        "\n",
        "import numpy as np\n",
        "a = [1, 2, 3, 4, 5]\n",
        "b = [2, 5, 8, 11, 14]\n",
        "c = [3, 9, 14, 20, 26]\n",
        "d = [5, 14, 22, 31, 40]\n",
        "\n",
        "x = np.array([a, b, c, d])\n",
        "r = np.linalg.matrix_rank(x)\n",
        "\n",
        "print(f'Ранг матрицы: {r}')"
      ],
      "execution_count": null,
      "outputs": [
        {
          "output_type": "stream",
          "text": [
            "Ранг матрицы: 3\n"
          ],
          "name": "stdout"
        }
      ]
    },
    {
      "cell_type": "markdown",
      "metadata": {
        "id": "1NlQHLnE5iV-"
      },
      "source": [
        "# Задачи"
      ]
    },
    {
      "cell_type": "markdown",
      "metadata": {
        "id": "oOoLPT-d232H"
      },
      "source": [
        "**1.** Прочитать статью http://www.scielo.org.mx/pdf/cys/v18n3/v18n3a7.pdf и сделать следующее:\n",
        "\n",
        "- Написать кратко (не более 300 слов (минимум 100), отчет в формате pdf) о различиях между cosine similarity и soft similarity. Привести примеры использования и написать собственный пример вычисления cosine similarity и soft similarity для произвольных векторов (не брать вектора из статьи! надо самим придумать координаты/размерность векторов)"
      ]
    },
    {
      "cell_type": "markdown",
      "metadata": {
        "id": "2A79cNRu3BUA"
      },
      "source": [
        "__2.__ Найти сумму и произведение матриц $A=\\begin{pmatrix}\n",
        "1 & -2\\\\ \n",
        "3 & 0\n",
        "\\end{pmatrix}$ и $B=\\begin{pmatrix}\n",
        "4 & -1\\\\ \n",
        "0 & 5\n",
        "\\end{pmatrix}.$\n",
        "\n",
        "__3.__ Из закономерностей сложения и умножения матриц на число можно сделать вывод, что матрицы одного размера образуют линейное пространство. Вычислить линейную комбинацию $3A-2B+4C$ для матриц $A=\\begin{pmatrix}\n",
        "1 & 7\\\\ \n",
        "3 & -6\n",
        "\\end{pmatrix}$, $B=\\begin{pmatrix}\n",
        "0 & 5\\\\ \n",
        "2 & -1\n",
        "\\end{pmatrix}$, $C=\\begin{pmatrix}\n",
        "2 & -4\\\\ \n",
        "1 & 1\n",
        "\\end{pmatrix}.$\n",
        "    \n",
        "__4.__ Дана матрица $A=\\begin{pmatrix}\n",
        "4 & 1\\\\ \n",
        "5 & -2\\\\ \n",
        "2 & 3\n",
        "\\end{pmatrix}$.\n",
        "Вычислить $AA^{T}$ и $A^{T}A$.\n",
        "\n",
        "__5*.__ Написать на Python функцию для перемножения двух произвольных матриц, не используя NumPy."
      ]
    },
    {
      "cell_type": "markdown",
      "metadata": {
        "id": "-naSOZaf3L7s"
      },
      "source": [
        "\n",
        "__6.__ Вычислить определитель (используйте любой удобный для вас способ вычисления определителя: через миноры, через перестановки или другой):\n",
        "\n",
        "   a)\n",
        "\n",
        "$$\\begin{vmatrix}\n",
        "sinx & -cosx\\\\ \n",
        "cosx & sinx\n",
        "\\end{vmatrix};$$\n",
        "\n",
        "   б)\n",
        "    \n",
        "$$\\begin{vmatrix}\n",
        "8 & 4 & 6\\\\ \n",
        "0 & 5 & 1\\\\ \n",
        "0 & 0 & 9\n",
        "\\end{vmatrix};$$\n",
        "    \n",
        "   в)\n",
        "\n",
        "$$\\begin{vmatrix}\n",
        "2 & 3 & 4\\\\ \n",
        "5 & 6 & 7\\\\ \n",
        "8 & 9 & 10\n",
        "\\end{vmatrix}.$$\n",
        "\n",
        "\n",
        "__7.__ Определитель матрицы $A$ равен $4$. Найти:\n",
        "\n",
        "   а) $det(A^{2})$;\n",
        "    \n",
        "   б) $det(A^{T})$;\n",
        "    \n",
        "   в) $det(2A)$.\n",
        "   \n",
        "__8.__  Доказать, что матрица\n",
        "\n",
        "$$\\begin{pmatrix}\n",
        "-2 & 7 & -3\\\\ \n",
        "4 & -14 & 6\\\\ \n",
        "-3 & 7 & 13\n",
        "\\end{pmatrix}$$\n",
        "   \n",
        "вырожденная.\n",
        "\n",
        "__9.__ Найти ранг матрицы:\n",
        "\n",
        "   а) $\\begin{pmatrix}\n",
        "1 & 2 & 3\\\\ \n",
        "1 & 1 & 1\\\\ \n",
        "2 & 3 & 4\n",
        "\\end{pmatrix};$\n",
        "\n",
        "   б) $\\begin{pmatrix}\n",
        "0 & 0 & 2 & 1\\\\ \n",
        "0 & 0 & 2 & 2\\\\ \n",
        "0 & 0 & 4 & 3\\\\ \n",
        "2 & 3 & 5 & 6\n",
        "\\end{pmatrix}.$"
      ]
    },
    {
      "cell_type": "code",
      "metadata": {
        "id": "ti02TbUBdZBY"
      },
      "source": [
        "import numpy as np"
      ],
      "execution_count": null,
      "outputs": []
    },
    {
      "cell_type": "markdown",
      "metadata": {
        "id": "jE5PxIUhdZBY"
      },
      "source": [
        "# **1.** Прочитать статью http://www.scielo.org.mx/pdf/cys/v18n3/v18n3a7.pdf и сделать следующее:\n",
        "\n",
        "- Написать кратко (не более 300 слов (минимум 100), отчет в формате pdf) о различиях между cosine similarity и soft similarity. Привести примеры использования и написать собственный пример вычисления cosine similarity и soft similarity для произвольных векторов (не брать вектора из статьи! надо самим придумать координаты/размерность векторов)"
      ]
    },
    {
      "cell_type": "markdown",
      "metadata": {
        "id": "4njZH9DCdZBY"
      },
      "source": [
        "a='''Основная идея soft similarity заключается в том, что сходство между признаĸами известно из обычных источников типа академического словаря и не нуждается в изучении на основе данных. При отсутствии сходства между признаками, soft similarity равно стандартному сходству. Soft cosine measure по сравнению с обычным косинусом корректирует свои значения на дополнительную матрицу признаков полученных путём математических расчётов. Например, подсчитывается сколько раз то или иное слово появлялось в тексте.\n",
        "Основная идея различия soft similarity и soft cosine measure заключается в более глубокой проработке признаков модели. Если в случае с  soft similarity берутся обычные признаки из открытых источников, то, в случае с soft cosine measure, новые качества признаков получаются путём проведения математических операций над признаками. \n",
        "На мой взгляд основным примером использования в данном случае является модель отвечающая за автоподбор слов при наборе текста на смартфонах или в поисковой строке браузера.'''\n"
      ]
    },
    {
      "cell_type": "code",
      "metadata": {
        "id": "R55iDDIUdZBZ",
        "outputId": "92cf1876-5b53-41b9-91a3-e2bb7bcc6890"
      },
      "source": [
        "len(list(a.split(' ')))"
      ],
      "execution_count": null,
      "outputs": [
        {
          "output_type": "execute_result",
          "data": {
            "text/plain": [
              "135"
            ]
          },
          "metadata": {
            "tags": []
          },
          "execution_count": 17
        }
      ]
    },
    {
      "cell_type": "markdown",
      "metadata": {
        "id": "eHAdnPtSdZBZ"
      },
      "source": [
        "# __2.__ Найти сумму и произведение матриц $A=\\begin{pmatrix}\n",
        "1 & -2\\\\ \n",
        "3 & 0\n",
        "\\end{pmatrix}$ и $B=\\begin{pmatrix}\n",
        "4 & -1\\\\ \n",
        "0 & 5\n",
        "\\end{pmatrix}.$"
      ]
    },
    {
      "cell_type": "code",
      "metadata": {
        "id": "pbUAuyhmdZBa",
        "outputId": "eb836af5-80ad-4050-8c99-87a01dc0e70b"
      },
      "source": [
        "A=np.array([[1,-2],[3,0]])\n",
        "B=np.array([[4,-1],[0,5]])\n",
        "print('сумма матриц\\n',A+B)\n",
        "print()\n",
        "print('произведение матриц\\n',A@B)"
      ],
      "execution_count": null,
      "outputs": [
        {
          "output_type": "stream",
          "text": [
            "сумма матриц\n",
            " [[ 5 -3]\n",
            " [ 3  5]]\n",
            "\n",
            "произведение матриц\n",
            " [[  4 -11]\n",
            " [ 12  -3]]\n"
          ],
          "name": "stdout"
        }
      ]
    },
    {
      "cell_type": "markdown",
      "metadata": {
        "id": "ywxbUZIedZBa"
      },
      "source": [
        "# __3.__ Из закономерностей сложения и умножения матриц на число можно сделать вывод, что матрицы одного размера образуют линейное пространство. Вычислить линейную комбинацию $3A-2B+4C$ для матриц $A=\\begin{pmatrix}\n",
        "1 & 7\\\\ \n",
        "3 & -6\n",
        "\\end{pmatrix}$, $B=\\begin{pmatrix}\n",
        "0 & 5\\\\ \n",
        "2 & -1\n",
        "\\end{pmatrix}$, $C=\\begin{pmatrix}\n",
        "2 & -4\\\\ \n",
        "1 & 1\n",
        "\\end{pmatrix}.$"
      ]
    },
    {
      "cell_type": "code",
      "metadata": {
        "id": "lZKhQqbfdZBb",
        "outputId": "104fcf75-43ee-45c9-847c-edc1ba8902e6"
      },
      "source": [
        "A=np.array([[1,7],[3,-6]])\n",
        "B=np.array([[0,5],[2,-1]])\n",
        "C=np.array([[2,-4],[1,1]])\n",
        "3*A-2*B+4*C"
      ],
      "execution_count": null,
      "outputs": [
        {
          "output_type": "execute_result",
          "data": {
            "text/plain": [
              "array([[ 11,  -5],\n",
              "       [  9, -12]])"
            ]
          },
          "metadata": {
            "tags": []
          },
          "execution_count": 4
        }
      ]
    },
    {
      "cell_type": "markdown",
      "metadata": {
        "id": "Y0ruFCRfdZBb"
      },
      "source": [
        "# __4.__ Дана матрица $A=\\begin{pmatrix}\n",
        "4 & 1\\\\ \n",
        "5 & -2\\\\ \n",
        "2 & 3\n",
        "\\end{pmatrix}$.\n",
        "Вычислить $AA^{T}$ и $A^{T}A$."
      ]
    },
    {
      "cell_type": "code",
      "metadata": {
        "id": "vdJOJ5fvdZBc",
        "outputId": "1352dfde-897b-4247-f9ac-9077da514f27"
      },
      "source": [
        "A=np.array([[4,1],[5,-2],[2,3]])\n",
        "print(A@A.T)\n",
        "print()\n",
        "print(A.T@A)"
      ],
      "execution_count": null,
      "outputs": [
        {
          "output_type": "stream",
          "text": [
            "[[17 18 11]\n",
            " [18 29  4]\n",
            " [11  4 13]]\n",
            "\n",
            "[[45  0]\n",
            " [ 0 14]]\n"
          ],
          "name": "stdout"
        }
      ]
    },
    {
      "cell_type": "markdown",
      "metadata": {
        "id": "NxFmJwx2dZBc"
      },
      "source": [
        "# 5*. Написать на Python функцию для перемножения двух произвольных матриц, не используя NumPy."
      ]
    },
    {
      "cell_type": "code",
      "metadata": {
        "id": "SQ5nxdzLdZBc"
      },
      "source": [
        "def mult_matrix(a,b):\n",
        "    oshibka=0\n",
        "    glavny=[] # финальный массив с делением на \"подмассивы\". результат перемножения матриц (наша искомая матрица)\n",
        "    el1=[] # массив элементов матрицы, идущих сплошняком (до преобразования \"массивы в массиве\")\n",
        "    el2=[] # вспомогательный массив, куда попадают первичные элементы перед тем как будет посчитана их сумма\n",
        "\n",
        "############################################################################################################# \n",
        "# проверка того является ли массив матрицей или нет\n",
        "    proverka_a=len(a[0])\n",
        "    for i in range(len(a)):\n",
        "        if proverka_a==len(a[i]):    \n",
        "            pass\n",
        "        else:\n",
        "            print(f'первый массив это не матрица, ошибка в подмассиве №{i+1} или 1')\n",
        "            oshibka=1\n",
        "    proverka_b=len(b[0])\n",
        "    for g in range(len(b)):\n",
        "        if proverka_b==len(b[g]):\n",
        "            pass\n",
        "        else:\n",
        "            print(f'второй массив это не матрица, ошибка в подмассиве №{g+1} или 1')\n",
        "            oshibka=1\n",
        "#############################################################################################################        \n",
        "            \n",
        "            \n",
        "            \n",
        "    if oshibka!=1:\n",
        "        if len(a[0])==len(b):  # проверка равенства числа столбцов первой матрицы числу строк второй\n",
        "\n",
        "            for l in range(len(a)):\n",
        "                for f in range(len(b[0])):    \n",
        "                    for i in range(len(a[0])):  \n",
        "                        k=a[l][i]*b[i][f]\n",
        "                        el2.append(k)\n",
        "                    el1.append(sum(el2))\n",
        "                    el2.clear()\n",
        "        \n",
        "        else:\n",
        "            print('число столбцов в первой матрице не равно числу строк во второй')\n",
        "            oshibka=2\n",
        "                    \n",
        "\n",
        "    if oshibka!=1 and oshibka!=2:\n",
        "        for i in range(len(a)):\n",
        "            glavny.append(el1[0:len(b[0])])\n",
        "            del el1[0:len(b[0])]\n",
        "        print(glavny)"
      ],
      "execution_count": null,
      "outputs": []
    },
    {
      "cell_type": "code",
      "metadata": {
        "id": "0WndXGiadZBd",
        "outputId": "10b6d09e-1558-4b0e-b5aa-68b941325d7b"
      },
      "source": [
        "# ячейка для проверки\n",
        "a=[[1,2,3,4],[4,5,6,4],[9,1,3,4]]\n",
        "b=[[7,8,9,10],[10,11,12,15],[13,14,15,12],[1,1,1,18]]\n",
        "\n",
        "c=np.array(a)   \n",
        "d=np.array(b)    \n",
        "try:\n",
        "    print(c.dot(b))  \n",
        "except:\n",
        "    print('матрицы не удовлетворяют основному требованию')\n"
      ],
      "execution_count": null,
      "outputs": [
        {
          "output_type": "stream",
          "text": [
            "[[ 70  76  82 148]\n",
            " [160 175 190 259]\n",
            " [116 129 142 213]]\n"
          ],
          "name": "stdout"
        }
      ]
    },
    {
      "cell_type": "code",
      "metadata": {
        "id": "s_1Lm2s7dZBd",
        "outputId": "2c7530f9-8062-423f-b85f-be3ba16fed04"
      },
      "source": [
        "mult_matrix(a,b)"
      ],
      "execution_count": null,
      "outputs": [
        {
          "output_type": "stream",
          "text": [
            "[[70, 76, 82, 148], [160, 175, 190, 259], [116, 129, 142, 213]]\n"
          ],
          "name": "stdout"
        }
      ]
    },
    {
      "cell_type": "markdown",
      "metadata": {
        "id": "PGMefnYhdZBe"
      },
      "source": [
        "# __6.__ Вычислить определитель (используйте любой удобный для вас способ вычисления определителя: через миноры, через перестановки или другой):\n",
        "\n",
        "   a)\n",
        "\n",
        "$$\\begin{vmatrix}\n",
        "sinx & -cosx\\\\ \n",
        "cosx & sinx\n",
        "\\end{vmatrix};$$\n",
        "\n",
        "   б)\n",
        "    \n",
        "$$\\begin{vmatrix}\n",
        "8 & 4 & 6\\\\ \n",
        "0 & 5 & 1\\\\ \n",
        "0 & 0 & 9\n",
        "\\end{vmatrix};$$\n",
        "    \n",
        "   в)\n",
        "\n",
        "$$\\begin{vmatrix}\n",
        "2 & 3 & 4\\\\ \n",
        "5 & 6 & 7\\\\ \n",
        "8 & 9 & 10\n",
        "\\end{vmatrix}.$$\n",
        "\n"
      ]
    },
    {
      "cell_type": "code",
      "metadata": {
        "id": "m5oAXgg9dZBe",
        "outputId": "4bddfeec-59f1-47b6-f8e8-3c2683e2c579"
      },
      "source": [
        "x=123\n",
        "A=np.array([[np.sin(x), -np.cos(x)],[np.cos(x),np.sin(x)]])\n",
        "print('определитель матрицы А =',np.linalg.det(A))\n",
        "print()\n",
        "B=np.array([[8,4,6],[0,5,1],[0,0,9]])\n",
        "print('определитель матрицы В =',int(np.linalg.det(B)))\n",
        "print()\n",
        "C=np.array([[2,3,4],[5,6,7],[8,9,10]])\n",
        "print('определитель матрицы C =',int(np.linalg.det(C)))"
      ],
      "execution_count": null,
      "outputs": [
        {
          "output_type": "stream",
          "text": [
            "определитель матрицы А = 1.0\n",
            "\n",
            "определитель матрицы В = 360\n",
            "\n",
            "определитель матрицы C = 0\n"
          ],
          "name": "stdout"
        }
      ]
    },
    {
      "cell_type": "markdown",
      "metadata": {
        "id": "jCO4S1GTdZBe"
      },
      "source": [
        "# __7.__ Определитель матрицы $A$ равен $4$. Найти:\n",
        "\n",
        "   а) $det(A^{2})$;\n",
        "    \n",
        "   б) $det(A^{T})$;\n",
        "    \n",
        "   в) $det(2A)$."
      ]
    },
    {
      "cell_type": "markdown",
      "metadata": {
        "id": "6JY8cNgEdZBe"
      },
      "source": [
        "для доказательства правильности расчётов придумаем матрицу с определителем равным 4 и посчитаем определители\n",
        "других матриц"
      ]
    },
    {
      "cell_type": "code",
      "metadata": {
        "id": "4nSkwj4HdZBf",
        "outputId": "eeed2b84-d765-434b-f2fd-702b87c69409"
      },
      "source": [
        "A=np.array([[0,1,2,1],[0,0,2,2],[0,0,4,3],[2,3,5,6]])\n",
        "print('определитель матрицы А =',np.linalg.det(A))\n",
        "A2=A@A\n",
        "print('определитель матрицы А^2 =',np.linalg.det(A2))\n",
        "print('определитель матрицы А.T =',np.linalg.det(A.T))\n",
        "a=2*A\n",
        "print('определитель матрицы 2*А =',np.linalg.det(a))"
      ],
      "execution_count": null,
      "outputs": [
        {
          "output_type": "stream",
          "text": [
            "определитель матрицы А = 3.999999999999999\n",
            "определитель матрицы А^2 = 15.999999999999977\n",
            "определитель матрицы А.T = 4.0\n",
            "определитель матрицы 2*А = 63.99999999999998\n"
          ],
          "name": "stdout"
        }
      ]
    },
    {
      "cell_type": "markdown",
      "metadata": {
        "id": "IOO9OPj-dZBf"
      },
      "source": [
        "# __8.__  Доказать, что матрица\n",
        "\n",
        "$$\\begin{pmatrix}\n",
        "-2 & 7 & -3\\\\ \n",
        "4 & -14 & 6\\\\ \n",
        "-3 & 7 & 13\n",
        "\\end{pmatrix}$$\n",
        "   \n",
        "вырожденная."
      ]
    },
    {
      "cell_type": "code",
      "metadata": {
        "id": "PCyGUb3ldZBf",
        "outputId": "f40511b0-15ff-4338-96c2-33fefe3a42b5"
      },
      "source": [
        "A=np.array([[-2,7,-3],[4,-14,6],[-3,7,13]])\n",
        "print('определитель матрицы А =',np.linalg.det(A), \"значит матрица вырожденная\")"
      ],
      "execution_count": null,
      "outputs": [
        {
          "output_type": "stream",
          "text": [
            "определитель матрицы А = 0.0 значит матрица вырожденная\n"
          ],
          "name": "stdout"
        }
      ]
    },
    {
      "cell_type": "markdown",
      "metadata": {
        "id": "BotSfgC1dZBg"
      },
      "source": [
        "# __9.__ Найти ранг матрицы:\n",
        "\n",
        "   а) $\\begin{pmatrix}\n",
        "1 & 2 & 3\\\\ \n",
        "1 & 1 & 1\\\\ \n",
        "2 & 3 & 4\n",
        "\\end{pmatrix};$\n",
        "\n",
        "   б) $\\begin{pmatrix}\n",
        "0 & 0 & 2 & 1\\\\ \n",
        "0 & 0 & 2 & 2\\\\ \n",
        "0 & 0 & 4 & 3\\\\ \n",
        "2 & 3 & 5 & 6\n",
        "\\end{pmatrix}.$"
      ]
    },
    {
      "cell_type": "code",
      "metadata": {
        "id": "Y_t31gVgdZBg",
        "outputId": "1a9b1fdf-3791-4af3-e0e8-4af8fe01a3e1"
      },
      "source": [
        "A=np.array([[1,2,3],[1,1,1],[2,3,4]])\n",
        "print(f'ранг матрицы А = {np.linalg.matrix_rank(A)}')\n",
        "print()\n",
        "B=np.array([[0,0,2,1],[0,0,2,2],[0,0,4,3],[2,3,5,6]])\n",
        "print(f'ранг матрицы B = {np.linalg.matrix_rank(B)}')"
      ],
      "execution_count": null,
      "outputs": [
        {
          "output_type": "stream",
          "text": [
            "ранг матрицы А = 2\n",
            "\n",
            "ранг матрицы B = 3\n"
          ],
          "name": "stdout"
        }
      ]
    },
    {
      "cell_type": "markdown",
      "metadata": {
        "id": "ekAaqmaE3E1T"
      },
      "source": [
        "# Доп материалы\n",
        "1. [Способы задать матрицу в NumPy](https://docs.scipy.org/doc/numpy-1.10.1/user/basics.creation.html).\n",
        "2. [numpy.transpose](https://docs.scipy.org/doc/numpy-1.10.0/reference/generated/numpy.transpose.html).\n",
        "3. [array.T](https://docs.scipy.org/doc/numpy-1.10.0/reference/generated/numpy.ndarray.T.html).\n",
        "4. [Перемножение матриц в NumPy](https://docs.scipy.org/doc/numpy-1.10.0/reference/routines.linalg.html#matrix-and-vector-products).\n",
        "\n",
        "5. [Определитель матрицы в NumPy](https://docs.scipy.org/doc/numpy-1.14.2/reference/generated/numpy.linalg.det.html)\n",
        "\n",
        "6. [Ранг матрицы в NumPy](https://docs.scipy.org/doc/numpy-1.14.2/reference/generated/numpy.linalg.matrix_rank.html)\n",
        "\n",
        "7. [Обращение матриц в NumPy](https://docs.scipy.org/doc/numpy/reference/generated/numpy.linalg.inv.html)"
      ]
    }
  ]
}