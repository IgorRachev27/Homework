{
  "nbformat": 4,
  "nbformat_minor": 0,
  "metadata": {
    "kernelspec": {
      "display_name": "Python 3",
      "language": "python",
      "name": "python3"
    },
    "language_info": {
      "codemirror_mode": {
        "name": "ipython",
        "version": 3
      },
      "file_extension": ".py",
      "mimetype": "text/x-python",
      "name": "python",
      "nbconvert_exporter": "python",
      "pygments_lexer": "ipython3",
      "version": "3.7.9"
    },
    "colab": {
      "name": "большое дз 2.ipynb",
      "provenance": [],
      "include_colab_link": true
    }
  },
  "cells": [
    {
      "cell_type": "markdown",
      "metadata": {
        "id": "view-in-github",
        "colab_type": "text"
      },
      "source": [
        "<a href=\"https://colab.research.google.com/github/IgorRachev27/Homework/blob/main/%D0%91%D0%BE%D0%BB%D1%8C%D1%88%D0%BE%D0%B5%20%D0%94%D0%97%202/%D0%B1%D0%BE%D0%BB%D1%8C%D1%88%D0%BE%D0%B5_%D0%B4%D0%B7_2%20%D0%A4%D0%98%D0%9D%D0%90%D0%9B%D0%AC%D0%9D%D0%90%D0%AF%20%D0%B2%D0%B5%D1%80%D1%81%D0%B8%D1%8F.ipynb\" target=\"_parent\"><img src=\"https://colab.research.google.com/assets/colab-badge.svg\" alt=\"Open In Colab\"/></a>"
      ]
    },
    {
      "cell_type": "markdown",
      "metadata": {
        "id": "aW4DIHga6GHF"
      },
      "source": [
        "# Важное замечание. Для тестирования моделей приходилось по многу раз их перезапускать, в связи с этим они были собраны в одну ячейку для экономии времени. Это совсем не значит, что я не понял как они работают и просто их переписал. "
      ]
    },
    {
      "cell_type": "code",
      "metadata": {
        "id": "zQkBeH8P6GHI"
      },
      "source": [
        "import pandas as pd\n",
        "import numpy as np\n",
        "import matplotlib.pyplot as plt\n",
        "import seaborn as sns\n",
        "import sklearn\n",
        "import warnings\n",
        "warnings.filterwarnings(\"ignore\")"
      ],
      "execution_count": null,
      "outputs": []
    },
    {
      "cell_type": "code",
      "metadata": {
        "id": "nCeEFVXK6GHI",
        "outputId": "5fa9c0d9-89fd-4eca-90b9-a62faf33fc6c"
      },
      "source": [
        "df=pd.read_csv('../Downloads/ThoraricSurgery.csv')\n",
        "df"
      ],
      "execution_count": null,
      "outputs": [
        {
          "output_type": "execute_result",
          "data": {
            "text/html": [
              "<div>\n",
              "<style scoped>\n",
              "    .dataframe tbody tr th:only-of-type {\n",
              "        vertical-align: middle;\n",
              "    }\n",
              "\n",
              "    .dataframe tbody tr th {\n",
              "        vertical-align: top;\n",
              "    }\n",
              "\n",
              "    .dataframe thead th {\n",
              "        text-align: right;\n",
              "    }\n",
              "</style>\n",
              "<table border=\"1\" class=\"dataframe\">\n",
              "  <thead>\n",
              "    <tr style=\"text-align: right;\">\n",
              "      <th></th>\n",
              "      <th>id</th>\n",
              "      <th>DGN</th>\n",
              "      <th>PRE4</th>\n",
              "      <th>PRE5</th>\n",
              "      <th>PRE6</th>\n",
              "      <th>PRE7</th>\n",
              "      <th>PRE8</th>\n",
              "      <th>PRE9</th>\n",
              "      <th>PRE10</th>\n",
              "      <th>PRE11</th>\n",
              "      <th>PRE14</th>\n",
              "      <th>PRE17</th>\n",
              "      <th>PRE19</th>\n",
              "      <th>PRE25</th>\n",
              "      <th>PRE30</th>\n",
              "      <th>PRE32</th>\n",
              "      <th>AGE</th>\n",
              "      <th>Risk1Yr</th>\n",
              "    </tr>\n",
              "  </thead>\n",
              "  <tbody>\n",
              "    <tr>\n",
              "      <th>0</th>\n",
              "      <td>1</td>\n",
              "      <td>DGN2</td>\n",
              "      <td>2.88</td>\n",
              "      <td>2.16</td>\n",
              "      <td>PRZ1</td>\n",
              "      <td>F</td>\n",
              "      <td>F</td>\n",
              "      <td>F</td>\n",
              "      <td>T</td>\n",
              "      <td>T</td>\n",
              "      <td>OC14</td>\n",
              "      <td>F</td>\n",
              "      <td>F</td>\n",
              "      <td>F</td>\n",
              "      <td>T</td>\n",
              "      <td>F</td>\n",
              "      <td>60</td>\n",
              "      <td>F</td>\n",
              "    </tr>\n",
              "    <tr>\n",
              "      <th>1</th>\n",
              "      <td>2</td>\n",
              "      <td>DGN3</td>\n",
              "      <td>3.40</td>\n",
              "      <td>1.88</td>\n",
              "      <td>PRZ0</td>\n",
              "      <td>F</td>\n",
              "      <td>F</td>\n",
              "      <td>F</td>\n",
              "      <td>F</td>\n",
              "      <td>F</td>\n",
              "      <td>OC12</td>\n",
              "      <td>F</td>\n",
              "      <td>F</td>\n",
              "      <td>F</td>\n",
              "      <td>T</td>\n",
              "      <td>F</td>\n",
              "      <td>51</td>\n",
              "      <td>F</td>\n",
              "    </tr>\n",
              "    <tr>\n",
              "      <th>2</th>\n",
              "      <td>3</td>\n",
              "      <td>DGN3</td>\n",
              "      <td>2.76</td>\n",
              "      <td>2.08</td>\n",
              "      <td>PRZ1</td>\n",
              "      <td>F</td>\n",
              "      <td>F</td>\n",
              "      <td>F</td>\n",
              "      <td>T</td>\n",
              "      <td>F</td>\n",
              "      <td>OC11</td>\n",
              "      <td>F</td>\n",
              "      <td>F</td>\n",
              "      <td>F</td>\n",
              "      <td>T</td>\n",
              "      <td>F</td>\n",
              "      <td>59</td>\n",
              "      <td>F</td>\n",
              "    </tr>\n",
              "    <tr>\n",
              "      <th>3</th>\n",
              "      <td>4</td>\n",
              "      <td>DGN3</td>\n",
              "      <td>3.68</td>\n",
              "      <td>3.04</td>\n",
              "      <td>PRZ0</td>\n",
              "      <td>F</td>\n",
              "      <td>F</td>\n",
              "      <td>F</td>\n",
              "      <td>F</td>\n",
              "      <td>F</td>\n",
              "      <td>OC11</td>\n",
              "      <td>F</td>\n",
              "      <td>F</td>\n",
              "      <td>F</td>\n",
              "      <td>F</td>\n",
              "      <td>F</td>\n",
              "      <td>54</td>\n",
              "      <td>F</td>\n",
              "    </tr>\n",
              "    <tr>\n",
              "      <th>4</th>\n",
              "      <td>5</td>\n",
              "      <td>DGN3</td>\n",
              "      <td>2.44</td>\n",
              "      <td>0.96</td>\n",
              "      <td>PRZ2</td>\n",
              "      <td>F</td>\n",
              "      <td>T</td>\n",
              "      <td>F</td>\n",
              "      <td>T</td>\n",
              "      <td>T</td>\n",
              "      <td>OC11</td>\n",
              "      <td>F</td>\n",
              "      <td>F</td>\n",
              "      <td>F</td>\n",
              "      <td>T</td>\n",
              "      <td>F</td>\n",
              "      <td>73</td>\n",
              "      <td>T</td>\n",
              "    </tr>\n",
              "    <tr>\n",
              "      <th>...</th>\n",
              "      <td>...</td>\n",
              "      <td>...</td>\n",
              "      <td>...</td>\n",
              "      <td>...</td>\n",
              "      <td>...</td>\n",
              "      <td>...</td>\n",
              "      <td>...</td>\n",
              "      <td>...</td>\n",
              "      <td>...</td>\n",
              "      <td>...</td>\n",
              "      <td>...</td>\n",
              "      <td>...</td>\n",
              "      <td>...</td>\n",
              "      <td>...</td>\n",
              "      <td>...</td>\n",
              "      <td>...</td>\n",
              "      <td>...</td>\n",
              "      <td>...</td>\n",
              "    </tr>\n",
              "    <tr>\n",
              "      <th>465</th>\n",
              "      <td>466</td>\n",
              "      <td>DGN2</td>\n",
              "      <td>3.88</td>\n",
              "      <td>2.12</td>\n",
              "      <td>PRZ1</td>\n",
              "      <td>F</td>\n",
              "      <td>F</td>\n",
              "      <td>F</td>\n",
              "      <td>T</td>\n",
              "      <td>F</td>\n",
              "      <td>OC13</td>\n",
              "      <td>F</td>\n",
              "      <td>F</td>\n",
              "      <td>F</td>\n",
              "      <td>T</td>\n",
              "      <td>F</td>\n",
              "      <td>63</td>\n",
              "      <td>F</td>\n",
              "    </tr>\n",
              "    <tr>\n",
              "      <th>466</th>\n",
              "      <td>467</td>\n",
              "      <td>DGN3</td>\n",
              "      <td>3.76</td>\n",
              "      <td>3.12</td>\n",
              "      <td>PRZ0</td>\n",
              "      <td>F</td>\n",
              "      <td>F</td>\n",
              "      <td>F</td>\n",
              "      <td>F</td>\n",
              "      <td>F</td>\n",
              "      <td>OC11</td>\n",
              "      <td>F</td>\n",
              "      <td>F</td>\n",
              "      <td>F</td>\n",
              "      <td>T</td>\n",
              "      <td>F</td>\n",
              "      <td>61</td>\n",
              "      <td>F</td>\n",
              "    </tr>\n",
              "    <tr>\n",
              "      <th>467</th>\n",
              "      <td>468</td>\n",
              "      <td>DGN3</td>\n",
              "      <td>3.04</td>\n",
              "      <td>2.08</td>\n",
              "      <td>PRZ1</td>\n",
              "      <td>F</td>\n",
              "      <td>F</td>\n",
              "      <td>F</td>\n",
              "      <td>T</td>\n",
              "      <td>F</td>\n",
              "      <td>OC13</td>\n",
              "      <td>F</td>\n",
              "      <td>F</td>\n",
              "      <td>F</td>\n",
              "      <td>F</td>\n",
              "      <td>F</td>\n",
              "      <td>52</td>\n",
              "      <td>F</td>\n",
              "    </tr>\n",
              "    <tr>\n",
              "      <th>468</th>\n",
              "      <td>469</td>\n",
              "      <td>DGN3</td>\n",
              "      <td>1.96</td>\n",
              "      <td>1.68</td>\n",
              "      <td>PRZ1</td>\n",
              "      <td>F</td>\n",
              "      <td>F</td>\n",
              "      <td>F</td>\n",
              "      <td>T</td>\n",
              "      <td>T</td>\n",
              "      <td>OC12</td>\n",
              "      <td>F</td>\n",
              "      <td>F</td>\n",
              "      <td>F</td>\n",
              "      <td>T</td>\n",
              "      <td>F</td>\n",
              "      <td>79</td>\n",
              "      <td>F</td>\n",
              "    </tr>\n",
              "    <tr>\n",
              "      <th>469</th>\n",
              "      <td>470</td>\n",
              "      <td>DGN3</td>\n",
              "      <td>4.72</td>\n",
              "      <td>3.56</td>\n",
              "      <td>PRZ0</td>\n",
              "      <td>F</td>\n",
              "      <td>F</td>\n",
              "      <td>F</td>\n",
              "      <td>F</td>\n",
              "      <td>F</td>\n",
              "      <td>OC12</td>\n",
              "      <td>F</td>\n",
              "      <td>F</td>\n",
              "      <td>F</td>\n",
              "      <td>T</td>\n",
              "      <td>F</td>\n",
              "      <td>51</td>\n",
              "      <td>F</td>\n",
              "    </tr>\n",
              "  </tbody>\n",
              "</table>\n",
              "<p>470 rows × 18 columns</p>\n",
              "</div>"
            ],
            "text/plain": [
              "      id   DGN  PRE4  PRE5  PRE6 PRE7 PRE8 PRE9 PRE10 PRE11 PRE14 PRE17 PRE19  \\\n",
              "0      1  DGN2  2.88  2.16  PRZ1    F    F    F     T     T  OC14     F     F   \n",
              "1      2  DGN3  3.40  1.88  PRZ0    F    F    F     F     F  OC12     F     F   \n",
              "2      3  DGN3  2.76  2.08  PRZ1    F    F    F     T     F  OC11     F     F   \n",
              "3      4  DGN3  3.68  3.04  PRZ0    F    F    F     F     F  OC11     F     F   \n",
              "4      5  DGN3  2.44  0.96  PRZ2    F    T    F     T     T  OC11     F     F   \n",
              "..   ...   ...   ...   ...   ...  ...  ...  ...   ...   ...   ...   ...   ...   \n",
              "465  466  DGN2  3.88  2.12  PRZ1    F    F    F     T     F  OC13     F     F   \n",
              "466  467  DGN3  3.76  3.12  PRZ0    F    F    F     F     F  OC11     F     F   \n",
              "467  468  DGN3  3.04  2.08  PRZ1    F    F    F     T     F  OC13     F     F   \n",
              "468  469  DGN3  1.96  1.68  PRZ1    F    F    F     T     T  OC12     F     F   \n",
              "469  470  DGN3  4.72  3.56  PRZ0    F    F    F     F     F  OC12     F     F   \n",
              "\n",
              "    PRE25 PRE30 PRE32  AGE Risk1Yr  \n",
              "0       F     T     F   60       F  \n",
              "1       F     T     F   51       F  \n",
              "2       F     T     F   59       F  \n",
              "3       F     F     F   54       F  \n",
              "4       F     T     F   73       T  \n",
              "..    ...   ...   ...  ...     ...  \n",
              "465     F     T     F   63       F  \n",
              "466     F     T     F   61       F  \n",
              "467     F     F     F   52       F  \n",
              "468     F     T     F   79       F  \n",
              "469     F     T     F   51       F  \n",
              "\n",
              "[470 rows x 18 columns]"
            ]
          },
          "metadata": {
            "tags": []
          },
          "execution_count": 2
        }
      ]
    },
    {
      "cell_type": "code",
      "metadata": {
        "scrolled": true,
        "id": "DdPJbF_z6GHJ",
        "outputId": "9e8a439e-3bbc-4ba4-8db6-39c1aeab49c2"
      },
      "source": [
        "print('всего видов диагнозов: ', df.DGN.value_counts().count())\n",
        "print('всего значений диагнозов каждого вида:\\n',df.DGN.value_counts())"
      ],
      "execution_count": null,
      "outputs": [
        {
          "output_type": "stream",
          "text": [
            "всего видов диагнозов:  7\n",
            "всего значений диагнозов каждого вида:\n",
            " DGN3    349\n",
            "DGN2     52\n",
            "DGN4     47\n",
            "DGN5     15\n",
            "DGN6      4\n",
            "DGN8      2\n",
            "DGN1      1\n",
            "Name: DGN, dtype: int64\n"
          ],
          "name": "stdout"
        }
      ]
    },
    {
      "cell_type": "code",
      "metadata": {
        "id": "W9jufls66GHK"
      },
      "source": [
        "# поищем закономерности"
      ],
      "execution_count": null,
      "outputs": []
    },
    {
      "cell_type": "code",
      "metadata": {
        "scrolled": false,
        "id": "B2pyaHEA6GHK",
        "outputId": "b22c26e4-6fc3-4f50-cb90-c6775b4c26b8"
      },
      "source": [
        "for column in df:\n",
        "    if df[column].value_counts().count()<4:\n",
        "        print(column,':\\n', df[column].value_counts())"
      ],
      "execution_count": null,
      "outputs": [
        {
          "output_type": "stream",
          "text": [
            "PRE6 :\n",
            " PRZ1    313\n",
            "PRZ0    130\n",
            "PRZ2     27\n",
            "Name: PRE6, dtype: int64\n",
            "PRE7 :\n",
            " F    439\n",
            "T     31\n",
            "Name: PRE7, dtype: int64\n",
            "PRE8 :\n",
            " F    402\n",
            "T     68\n",
            "Name: PRE8, dtype: int64\n",
            "PRE9 :\n",
            " F    439\n",
            "T     31\n",
            "Name: PRE9, dtype: int64\n",
            "PRE10 :\n",
            " T    323\n",
            "F    147\n",
            "Name: PRE10, dtype: int64\n",
            "PRE11 :\n",
            " F    392\n",
            "T     78\n",
            "Name: PRE11, dtype: int64\n",
            "PRE17 :\n",
            " F    435\n",
            "T     35\n",
            "Name: PRE17, dtype: int64\n",
            "PRE19 :\n",
            " F    468\n",
            "T      2\n",
            "Name: PRE19, dtype: int64\n",
            "PRE25 :\n",
            " F    462\n",
            "T      8\n",
            "Name: PRE25, dtype: int64\n",
            "PRE30 :\n",
            " T    386\n",
            "F     84\n",
            "Name: PRE30, dtype: int64\n",
            "PRE32 :\n",
            " F    468\n",
            "T      2\n",
            "Name: PRE32, dtype: int64\n",
            "Risk1Yr :\n",
            " F    400\n",
            "T     70\n",
            "Name: Risk1Yr, dtype: int64\n"
          ],
          "name": "stdout"
        }
      ]
    },
    {
      "cell_type": "code",
      "metadata": {
        "id": "Zy0iQPPv6GHL"
      },
      "source": [
        "# pre19 и pre32 при распределении 468 к 2 выглядят подозрительно.\n",
        "# при том, что некоторых диагнозов у нас всего 2-3 штуки на весь датасет, есть смысл посмотреть их связь с\n",
        "# pre19 и pre32"
      ],
      "execution_count": null,
      "outputs": []
    },
    {
      "cell_type": "code",
      "metadata": {
        "id": "s1K6Pc866GHL",
        "outputId": "304be1a0-b9f0-4dc5-dd27-4735acd7c5ab"
      },
      "source": [
        "df[df.DGN=='DGN1'][['PRE19','PRE32']]"
      ],
      "execution_count": null,
      "outputs": [
        {
          "output_type": "execute_result",
          "data": {
            "text/html": [
              "<div>\n",
              "<style scoped>\n",
              "    .dataframe tbody tr th:only-of-type {\n",
              "        vertical-align: middle;\n",
              "    }\n",
              "\n",
              "    .dataframe tbody tr th {\n",
              "        vertical-align: top;\n",
              "    }\n",
              "\n",
              "    .dataframe thead th {\n",
              "        text-align: right;\n",
              "    }\n",
              "</style>\n",
              "<table border=\"1\" class=\"dataframe\">\n",
              "  <thead>\n",
              "    <tr style=\"text-align: right;\">\n",
              "      <th></th>\n",
              "      <th>PRE19</th>\n",
              "      <th>PRE32</th>\n",
              "    </tr>\n",
              "  </thead>\n",
              "  <tbody>\n",
              "    <tr>\n",
              "      <th>292</th>\n",
              "      <td>F</td>\n",
              "      <td>F</td>\n",
              "    </tr>\n",
              "  </tbody>\n",
              "</table>\n",
              "</div>"
            ],
            "text/plain": [
              "    PRE19 PRE32\n",
              "292     F     F"
            ]
          },
          "metadata": {
            "tags": []
          },
          "execution_count": 7
        }
      ]
    },
    {
      "cell_type": "code",
      "metadata": {
        "id": "Fw_1uL366GHM",
        "outputId": "003f5a14-9cd9-4658-eeb7-ee8f1b011e00"
      },
      "source": [
        "df[df.DGN=='DGN8'][['PRE19','PRE32']]"
      ],
      "execution_count": null,
      "outputs": [
        {
          "output_type": "execute_result",
          "data": {
            "text/html": [
              "<div>\n",
              "<style scoped>\n",
              "    .dataframe tbody tr th:only-of-type {\n",
              "        vertical-align: middle;\n",
              "    }\n",
              "\n",
              "    .dataframe tbody tr th {\n",
              "        vertical-align: top;\n",
              "    }\n",
              "\n",
              "    .dataframe thead th {\n",
              "        text-align: right;\n",
              "    }\n",
              "</style>\n",
              "<table border=\"1\" class=\"dataframe\">\n",
              "  <thead>\n",
              "    <tr style=\"text-align: right;\">\n",
              "      <th></th>\n",
              "      <th>PRE19</th>\n",
              "      <th>PRE32</th>\n",
              "    </tr>\n",
              "  </thead>\n",
              "  <tbody>\n",
              "    <tr>\n",
              "      <th>24</th>\n",
              "      <td>F</td>\n",
              "      <td>F</td>\n",
              "    </tr>\n",
              "    <tr>\n",
              "      <th>446</th>\n",
              "      <td>F</td>\n",
              "      <td>F</td>\n",
              "    </tr>\n",
              "  </tbody>\n",
              "</table>\n",
              "</div>"
            ],
            "text/plain": [
              "    PRE19 PRE32\n",
              "24      F     F\n",
              "446     F     F"
            ]
          },
          "metadata": {
            "tags": []
          },
          "execution_count": 8
        }
      ]
    },
    {
      "cell_type": "code",
      "metadata": {
        "scrolled": true,
        "id": "zpkrt5ZS6GHM",
        "outputId": "aa82e555-e921-4f7b-f04d-db120badf603"
      },
      "source": [
        "df[df.DGN=='DGN6'][['PRE19','PRE32']]"
      ],
      "execution_count": null,
      "outputs": [
        {
          "output_type": "execute_result",
          "data": {
            "text/html": [
              "<div>\n",
              "<style scoped>\n",
              "    .dataframe tbody tr th:only-of-type {\n",
              "        vertical-align: middle;\n",
              "    }\n",
              "\n",
              "    .dataframe tbody tr th {\n",
              "        vertical-align: top;\n",
              "    }\n",
              "\n",
              "    .dataframe thead th {\n",
              "        text-align: right;\n",
              "    }\n",
              "</style>\n",
              "<table border=\"1\" class=\"dataframe\">\n",
              "  <thead>\n",
              "    <tr style=\"text-align: right;\">\n",
              "      <th></th>\n",
              "      <th>PRE19</th>\n",
              "      <th>PRE32</th>\n",
              "    </tr>\n",
              "  </thead>\n",
              "  <tbody>\n",
              "    <tr>\n",
              "      <th>29</th>\n",
              "      <td>F</td>\n",
              "      <td>F</td>\n",
              "    </tr>\n",
              "    <tr>\n",
              "      <th>97</th>\n",
              "      <td>F</td>\n",
              "      <td>F</td>\n",
              "    </tr>\n",
              "    <tr>\n",
              "      <th>368</th>\n",
              "      <td>F</td>\n",
              "      <td>F</td>\n",
              "    </tr>\n",
              "    <tr>\n",
              "      <th>405</th>\n",
              "      <td>F</td>\n",
              "      <td>F</td>\n",
              "    </tr>\n",
              "  </tbody>\n",
              "</table>\n",
              "</div>"
            ],
            "text/plain": [
              "    PRE19 PRE32\n",
              "29      F     F\n",
              "97      F     F\n",
              "368     F     F\n",
              "405     F     F"
            ]
          },
          "metadata": {
            "tags": []
          },
          "execution_count": 9
        }
      ]
    },
    {
      "cell_type": "code",
      "metadata": {
        "id": "7MKRzOeK6GHN"
      },
      "source": [
        "# догадка не подтвердилась, по отдельности они влияния на результат не оказывают"
      ],
      "execution_count": null,
      "outputs": []
    },
    {
      "cell_type": "code",
      "metadata": {
        "id": "yw_l3USy6GHN"
      },
      "source": [
        "# посмотрим отдельно на три самых малочисленных диагноза"
      ],
      "execution_count": null,
      "outputs": []
    },
    {
      "cell_type": "code",
      "metadata": {
        "scrolled": true,
        "id": "ZHN8bj-c6GHN",
        "outputId": "953b9965-3f5b-4c06-db02-ffe5d91eb9b2"
      },
      "source": [
        "df[df.DGN=='DGN6']"
      ],
      "execution_count": null,
      "outputs": [
        {
          "output_type": "execute_result",
          "data": {
            "text/html": [
              "<div>\n",
              "<style scoped>\n",
              "    .dataframe tbody tr th:only-of-type {\n",
              "        vertical-align: middle;\n",
              "    }\n",
              "\n",
              "    .dataframe tbody tr th {\n",
              "        vertical-align: top;\n",
              "    }\n",
              "\n",
              "    .dataframe thead th {\n",
              "        text-align: right;\n",
              "    }\n",
              "</style>\n",
              "<table border=\"1\" class=\"dataframe\">\n",
              "  <thead>\n",
              "    <tr style=\"text-align: right;\">\n",
              "      <th></th>\n",
              "      <th>id</th>\n",
              "      <th>DGN</th>\n",
              "      <th>PRE4</th>\n",
              "      <th>PRE5</th>\n",
              "      <th>PRE6</th>\n",
              "      <th>PRE7</th>\n",
              "      <th>PRE8</th>\n",
              "      <th>PRE9</th>\n",
              "      <th>PRE10</th>\n",
              "      <th>PRE11</th>\n",
              "      <th>PRE14</th>\n",
              "      <th>PRE17</th>\n",
              "      <th>PRE19</th>\n",
              "      <th>PRE25</th>\n",
              "      <th>PRE30</th>\n",
              "      <th>PRE32</th>\n",
              "      <th>AGE</th>\n",
              "      <th>Risk1Yr</th>\n",
              "    </tr>\n",
              "  </thead>\n",
              "  <tbody>\n",
              "    <tr>\n",
              "      <th>29</th>\n",
              "      <td>30</td>\n",
              "      <td>DGN6</td>\n",
              "      <td>3.96</td>\n",
              "      <td>3.28</td>\n",
              "      <td>PRZ0</td>\n",
              "      <td>F</td>\n",
              "      <td>F</td>\n",
              "      <td>F</td>\n",
              "      <td>F</td>\n",
              "      <td>F</td>\n",
              "      <td>OC11</td>\n",
              "      <td>F</td>\n",
              "      <td>F</td>\n",
              "      <td>F</td>\n",
              "      <td>T</td>\n",
              "      <td>F</td>\n",
              "      <td>61</td>\n",
              "      <td>F</td>\n",
              "    </tr>\n",
              "    <tr>\n",
              "      <th>97</th>\n",
              "      <td>98</td>\n",
              "      <td>DGN6</td>\n",
              "      <td>3.04</td>\n",
              "      <td>2.40</td>\n",
              "      <td>PRZ2</td>\n",
              "      <td>F</td>\n",
              "      <td>F</td>\n",
              "      <td>F</td>\n",
              "      <td>T</td>\n",
              "      <td>F</td>\n",
              "      <td>OC11</td>\n",
              "      <td>F</td>\n",
              "      <td>F</td>\n",
              "      <td>F</td>\n",
              "      <td>T</td>\n",
              "      <td>F</td>\n",
              "      <td>76</td>\n",
              "      <td>F</td>\n",
              "    </tr>\n",
              "    <tr>\n",
              "      <th>368</th>\n",
              "      <td>369</td>\n",
              "      <td>DGN6</td>\n",
              "      <td>3.88</td>\n",
              "      <td>2.72</td>\n",
              "      <td>PRZ1</td>\n",
              "      <td>F</td>\n",
              "      <td>F</td>\n",
              "      <td>F</td>\n",
              "      <td>T</td>\n",
              "      <td>F</td>\n",
              "      <td>OC12</td>\n",
              "      <td>F</td>\n",
              "      <td>F</td>\n",
              "      <td>F</td>\n",
              "      <td>T</td>\n",
              "      <td>F</td>\n",
              "      <td>77</td>\n",
              "      <td>F</td>\n",
              "    </tr>\n",
              "    <tr>\n",
              "      <th>405</th>\n",
              "      <td>406</td>\n",
              "      <td>DGN6</td>\n",
              "      <td>5.36</td>\n",
              "      <td>3.96</td>\n",
              "      <td>PRZ1</td>\n",
              "      <td>F</td>\n",
              "      <td>F</td>\n",
              "      <td>F</td>\n",
              "      <td>T</td>\n",
              "      <td>F</td>\n",
              "      <td>OC12</td>\n",
              "      <td>F</td>\n",
              "      <td>F</td>\n",
              "      <td>F</td>\n",
              "      <td>F</td>\n",
              "      <td>F</td>\n",
              "      <td>62</td>\n",
              "      <td>F</td>\n",
              "    </tr>\n",
              "  </tbody>\n",
              "</table>\n",
              "</div>"
            ],
            "text/plain": [
              "      id   DGN  PRE4  PRE5  PRE6 PRE7 PRE8 PRE9 PRE10 PRE11 PRE14 PRE17 PRE19  \\\n",
              "29    30  DGN6  3.96  3.28  PRZ0    F    F    F     F     F  OC11     F     F   \n",
              "97    98  DGN6  3.04  2.40  PRZ2    F    F    F     T     F  OC11     F     F   \n",
              "368  369  DGN6  3.88  2.72  PRZ1    F    F    F     T     F  OC12     F     F   \n",
              "405  406  DGN6  5.36  3.96  PRZ1    F    F    F     T     F  OC12     F     F   \n",
              "\n",
              "    PRE25 PRE30 PRE32  AGE Risk1Yr  \n",
              "29      F     T     F   61       F  \n",
              "97      F     T     F   76       F  \n",
              "368     F     T     F   77       F  \n",
              "405     F     F     F   62       F  "
            ]
          },
          "metadata": {
            "tags": []
          },
          "execution_count": 12
        }
      ]
    },
    {
      "cell_type": "code",
      "metadata": {
        "id": "z7rEjsUN6GHO",
        "outputId": "5299ab64-b301-41d7-f7c2-7a2336b3a51b"
      },
      "source": [
        "df[df.DGN=='DGN8']"
      ],
      "execution_count": null,
      "outputs": [
        {
          "output_type": "execute_result",
          "data": {
            "text/html": [
              "<div>\n",
              "<style scoped>\n",
              "    .dataframe tbody tr th:only-of-type {\n",
              "        vertical-align: middle;\n",
              "    }\n",
              "\n",
              "    .dataframe tbody tr th {\n",
              "        vertical-align: top;\n",
              "    }\n",
              "\n",
              "    .dataframe thead th {\n",
              "        text-align: right;\n",
              "    }\n",
              "</style>\n",
              "<table border=\"1\" class=\"dataframe\">\n",
              "  <thead>\n",
              "    <tr style=\"text-align: right;\">\n",
              "      <th></th>\n",
              "      <th>id</th>\n",
              "      <th>DGN</th>\n",
              "      <th>PRE4</th>\n",
              "      <th>PRE5</th>\n",
              "      <th>PRE6</th>\n",
              "      <th>PRE7</th>\n",
              "      <th>PRE8</th>\n",
              "      <th>PRE9</th>\n",
              "      <th>PRE10</th>\n",
              "      <th>PRE11</th>\n",
              "      <th>PRE14</th>\n",
              "      <th>PRE17</th>\n",
              "      <th>PRE19</th>\n",
              "      <th>PRE25</th>\n",
              "      <th>PRE30</th>\n",
              "      <th>PRE32</th>\n",
              "      <th>AGE</th>\n",
              "      <th>Risk1Yr</th>\n",
              "    </tr>\n",
              "  </thead>\n",
              "  <tbody>\n",
              "    <tr>\n",
              "      <th>24</th>\n",
              "      <td>25</td>\n",
              "      <td>DGN8</td>\n",
              "      <td>4.32</td>\n",
              "      <td>3.2</td>\n",
              "      <td>PRZ0</td>\n",
              "      <td>F</td>\n",
              "      <td>F</td>\n",
              "      <td>F</td>\n",
              "      <td>F</td>\n",
              "      <td>F</td>\n",
              "      <td>OC11</td>\n",
              "      <td>F</td>\n",
              "      <td>F</td>\n",
              "      <td>F</td>\n",
              "      <td>F</td>\n",
              "      <td>F</td>\n",
              "      <td>58</td>\n",
              "      <td>T</td>\n",
              "    </tr>\n",
              "    <tr>\n",
              "      <th>446</th>\n",
              "      <td>447</td>\n",
              "      <td>DGN8</td>\n",
              "      <td>5.20</td>\n",
              "      <td>4.1</td>\n",
              "      <td>PRZ0</td>\n",
              "      <td>F</td>\n",
              "      <td>F</td>\n",
              "      <td>F</td>\n",
              "      <td>F</td>\n",
              "      <td>F</td>\n",
              "      <td>OC12</td>\n",
              "      <td>F</td>\n",
              "      <td>F</td>\n",
              "      <td>F</td>\n",
              "      <td>F</td>\n",
              "      <td>F</td>\n",
              "      <td>49</td>\n",
              "      <td>F</td>\n",
              "    </tr>\n",
              "  </tbody>\n",
              "</table>\n",
              "</div>"
            ],
            "text/plain": [
              "      id   DGN  PRE4  PRE5  PRE6 PRE7 PRE8 PRE9 PRE10 PRE11 PRE14 PRE17 PRE19  \\\n",
              "24    25  DGN8  4.32   3.2  PRZ0    F    F    F     F     F  OC11     F     F   \n",
              "446  447  DGN8  5.20   4.1  PRZ0    F    F    F     F     F  OC12     F     F   \n",
              "\n",
              "    PRE25 PRE30 PRE32  AGE Risk1Yr  \n",
              "24      F     F     F   58       T  \n",
              "446     F     F     F   49       F  "
            ]
          },
          "metadata": {
            "tags": []
          },
          "execution_count": 13
        }
      ]
    },
    {
      "cell_type": "code",
      "metadata": {
        "scrolled": true,
        "id": "P8KrNaql6GHO",
        "outputId": "a7bdee23-df3e-4fb8-b89c-0858047c1270"
      },
      "source": [
        "df[df.DGN=='DGN1']"
      ],
      "execution_count": null,
      "outputs": [
        {
          "output_type": "execute_result",
          "data": {
            "text/html": [
              "<div>\n",
              "<style scoped>\n",
              "    .dataframe tbody tr th:only-of-type {\n",
              "        vertical-align: middle;\n",
              "    }\n",
              "\n",
              "    .dataframe tbody tr th {\n",
              "        vertical-align: top;\n",
              "    }\n",
              "\n",
              "    .dataframe thead th {\n",
              "        text-align: right;\n",
              "    }\n",
              "</style>\n",
              "<table border=\"1\" class=\"dataframe\">\n",
              "  <thead>\n",
              "    <tr style=\"text-align: right;\">\n",
              "      <th></th>\n",
              "      <th>id</th>\n",
              "      <th>DGN</th>\n",
              "      <th>PRE4</th>\n",
              "      <th>PRE5</th>\n",
              "      <th>PRE6</th>\n",
              "      <th>PRE7</th>\n",
              "      <th>PRE8</th>\n",
              "      <th>PRE9</th>\n",
              "      <th>PRE10</th>\n",
              "      <th>PRE11</th>\n",
              "      <th>PRE14</th>\n",
              "      <th>PRE17</th>\n",
              "      <th>PRE19</th>\n",
              "      <th>PRE25</th>\n",
              "      <th>PRE30</th>\n",
              "      <th>PRE32</th>\n",
              "      <th>AGE</th>\n",
              "      <th>Risk1Yr</th>\n",
              "    </tr>\n",
              "  </thead>\n",
              "  <tbody>\n",
              "    <tr>\n",
              "      <th>292</th>\n",
              "      <td>293</td>\n",
              "      <td>DGN1</td>\n",
              "      <td>3.8</td>\n",
              "      <td>2.8</td>\n",
              "      <td>PRZ0</td>\n",
              "      <td>F</td>\n",
              "      <td>F</td>\n",
              "      <td>F</td>\n",
              "      <td>F</td>\n",
              "      <td>F</td>\n",
              "      <td>OC12</td>\n",
              "      <td>F</td>\n",
              "      <td>F</td>\n",
              "      <td>F</td>\n",
              "      <td>T</td>\n",
              "      <td>F</td>\n",
              "      <td>62</td>\n",
              "      <td>F</td>\n",
              "    </tr>\n",
              "  </tbody>\n",
              "</table>\n",
              "</div>"
            ],
            "text/plain": [
              "      id   DGN  PRE4  PRE5  PRE6 PRE7 PRE8 PRE9 PRE10 PRE11 PRE14 PRE17 PRE19  \\\n",
              "292  293  DGN1   3.8   2.8  PRZ0    F    F    F     F     F  OC12     F     F   \n",
              "\n",
              "    PRE25 PRE30 PRE32  AGE Risk1Yr  \n",
              "292     F     T     F   62       F  "
            ]
          },
          "metadata": {
            "tags": []
          },
          "execution_count": 14
        }
      ]
    },
    {
      "cell_type": "code",
      "metadata": {
        "id": "5D9fEZQW6GHP"
      },
      "source": [
        "# ничего интересного"
      ],
      "execution_count": null,
      "outputs": []
    },
    {
      "cell_type": "code",
      "metadata": {
        "scrolled": true,
        "id": "-7BY_Tho6GHP",
        "outputId": "57ff1c30-893c-47f6-c7e5-57338ce55990"
      },
      "source": [
        "df.DGN.value_counts()"
      ],
      "execution_count": null,
      "outputs": [
        {
          "output_type": "execute_result",
          "data": {
            "text/plain": [
              "DGN3    349\n",
              "DGN2     52\n",
              "DGN4     47\n",
              "DGN5     15\n",
              "DGN6      4\n",
              "DGN8      2\n",
              "DGN1      1\n",
              "Name: DGN, dtype: int64"
            ]
          },
          "metadata": {
            "tags": []
          },
          "execution_count": 16
        }
      ]
    },
    {
      "cell_type": "code",
      "metadata": {
        "scrolled": false,
        "id": "qI8prjwU6GHQ",
        "outputId": "76323ef1-c9f5-4978-e4b7-9abe44c9429e"
      },
      "source": [
        "# уберем столбец id\n",
        "del df['id']\n",
        "df"
      ],
      "execution_count": null,
      "outputs": [
        {
          "output_type": "execute_result",
          "data": {
            "text/html": [
              "<div>\n",
              "<style scoped>\n",
              "    .dataframe tbody tr th:only-of-type {\n",
              "        vertical-align: middle;\n",
              "    }\n",
              "\n",
              "    .dataframe tbody tr th {\n",
              "        vertical-align: top;\n",
              "    }\n",
              "\n",
              "    .dataframe thead th {\n",
              "        text-align: right;\n",
              "    }\n",
              "</style>\n",
              "<table border=\"1\" class=\"dataframe\">\n",
              "  <thead>\n",
              "    <tr style=\"text-align: right;\">\n",
              "      <th></th>\n",
              "      <th>DGN</th>\n",
              "      <th>PRE4</th>\n",
              "      <th>PRE5</th>\n",
              "      <th>PRE6</th>\n",
              "      <th>PRE7</th>\n",
              "      <th>PRE8</th>\n",
              "      <th>PRE9</th>\n",
              "      <th>PRE10</th>\n",
              "      <th>PRE11</th>\n",
              "      <th>PRE14</th>\n",
              "      <th>PRE17</th>\n",
              "      <th>PRE19</th>\n",
              "      <th>PRE25</th>\n",
              "      <th>PRE30</th>\n",
              "      <th>PRE32</th>\n",
              "      <th>AGE</th>\n",
              "      <th>Risk1Yr</th>\n",
              "    </tr>\n",
              "  </thead>\n",
              "  <tbody>\n",
              "    <tr>\n",
              "      <th>0</th>\n",
              "      <td>DGN2</td>\n",
              "      <td>2.88</td>\n",
              "      <td>2.16</td>\n",
              "      <td>PRZ1</td>\n",
              "      <td>F</td>\n",
              "      <td>F</td>\n",
              "      <td>F</td>\n",
              "      <td>T</td>\n",
              "      <td>T</td>\n",
              "      <td>OC14</td>\n",
              "      <td>F</td>\n",
              "      <td>F</td>\n",
              "      <td>F</td>\n",
              "      <td>T</td>\n",
              "      <td>F</td>\n",
              "      <td>60</td>\n",
              "      <td>F</td>\n",
              "    </tr>\n",
              "    <tr>\n",
              "      <th>1</th>\n",
              "      <td>DGN3</td>\n",
              "      <td>3.40</td>\n",
              "      <td>1.88</td>\n",
              "      <td>PRZ0</td>\n",
              "      <td>F</td>\n",
              "      <td>F</td>\n",
              "      <td>F</td>\n",
              "      <td>F</td>\n",
              "      <td>F</td>\n",
              "      <td>OC12</td>\n",
              "      <td>F</td>\n",
              "      <td>F</td>\n",
              "      <td>F</td>\n",
              "      <td>T</td>\n",
              "      <td>F</td>\n",
              "      <td>51</td>\n",
              "      <td>F</td>\n",
              "    </tr>\n",
              "    <tr>\n",
              "      <th>2</th>\n",
              "      <td>DGN3</td>\n",
              "      <td>2.76</td>\n",
              "      <td>2.08</td>\n",
              "      <td>PRZ1</td>\n",
              "      <td>F</td>\n",
              "      <td>F</td>\n",
              "      <td>F</td>\n",
              "      <td>T</td>\n",
              "      <td>F</td>\n",
              "      <td>OC11</td>\n",
              "      <td>F</td>\n",
              "      <td>F</td>\n",
              "      <td>F</td>\n",
              "      <td>T</td>\n",
              "      <td>F</td>\n",
              "      <td>59</td>\n",
              "      <td>F</td>\n",
              "    </tr>\n",
              "    <tr>\n",
              "      <th>3</th>\n",
              "      <td>DGN3</td>\n",
              "      <td>3.68</td>\n",
              "      <td>3.04</td>\n",
              "      <td>PRZ0</td>\n",
              "      <td>F</td>\n",
              "      <td>F</td>\n",
              "      <td>F</td>\n",
              "      <td>F</td>\n",
              "      <td>F</td>\n",
              "      <td>OC11</td>\n",
              "      <td>F</td>\n",
              "      <td>F</td>\n",
              "      <td>F</td>\n",
              "      <td>F</td>\n",
              "      <td>F</td>\n",
              "      <td>54</td>\n",
              "      <td>F</td>\n",
              "    </tr>\n",
              "    <tr>\n",
              "      <th>4</th>\n",
              "      <td>DGN3</td>\n",
              "      <td>2.44</td>\n",
              "      <td>0.96</td>\n",
              "      <td>PRZ2</td>\n",
              "      <td>F</td>\n",
              "      <td>T</td>\n",
              "      <td>F</td>\n",
              "      <td>T</td>\n",
              "      <td>T</td>\n",
              "      <td>OC11</td>\n",
              "      <td>F</td>\n",
              "      <td>F</td>\n",
              "      <td>F</td>\n",
              "      <td>T</td>\n",
              "      <td>F</td>\n",
              "      <td>73</td>\n",
              "      <td>T</td>\n",
              "    </tr>\n",
              "    <tr>\n",
              "      <th>...</th>\n",
              "      <td>...</td>\n",
              "      <td>...</td>\n",
              "      <td>...</td>\n",
              "      <td>...</td>\n",
              "      <td>...</td>\n",
              "      <td>...</td>\n",
              "      <td>...</td>\n",
              "      <td>...</td>\n",
              "      <td>...</td>\n",
              "      <td>...</td>\n",
              "      <td>...</td>\n",
              "      <td>...</td>\n",
              "      <td>...</td>\n",
              "      <td>...</td>\n",
              "      <td>...</td>\n",
              "      <td>...</td>\n",
              "      <td>...</td>\n",
              "    </tr>\n",
              "    <tr>\n",
              "      <th>465</th>\n",
              "      <td>DGN2</td>\n",
              "      <td>3.88</td>\n",
              "      <td>2.12</td>\n",
              "      <td>PRZ1</td>\n",
              "      <td>F</td>\n",
              "      <td>F</td>\n",
              "      <td>F</td>\n",
              "      <td>T</td>\n",
              "      <td>F</td>\n",
              "      <td>OC13</td>\n",
              "      <td>F</td>\n",
              "      <td>F</td>\n",
              "      <td>F</td>\n",
              "      <td>T</td>\n",
              "      <td>F</td>\n",
              "      <td>63</td>\n",
              "      <td>F</td>\n",
              "    </tr>\n",
              "    <tr>\n",
              "      <th>466</th>\n",
              "      <td>DGN3</td>\n",
              "      <td>3.76</td>\n",
              "      <td>3.12</td>\n",
              "      <td>PRZ0</td>\n",
              "      <td>F</td>\n",
              "      <td>F</td>\n",
              "      <td>F</td>\n",
              "      <td>F</td>\n",
              "      <td>F</td>\n",
              "      <td>OC11</td>\n",
              "      <td>F</td>\n",
              "      <td>F</td>\n",
              "      <td>F</td>\n",
              "      <td>T</td>\n",
              "      <td>F</td>\n",
              "      <td>61</td>\n",
              "      <td>F</td>\n",
              "    </tr>\n",
              "    <tr>\n",
              "      <th>467</th>\n",
              "      <td>DGN3</td>\n",
              "      <td>3.04</td>\n",
              "      <td>2.08</td>\n",
              "      <td>PRZ1</td>\n",
              "      <td>F</td>\n",
              "      <td>F</td>\n",
              "      <td>F</td>\n",
              "      <td>T</td>\n",
              "      <td>F</td>\n",
              "      <td>OC13</td>\n",
              "      <td>F</td>\n",
              "      <td>F</td>\n",
              "      <td>F</td>\n",
              "      <td>F</td>\n",
              "      <td>F</td>\n",
              "      <td>52</td>\n",
              "      <td>F</td>\n",
              "    </tr>\n",
              "    <tr>\n",
              "      <th>468</th>\n",
              "      <td>DGN3</td>\n",
              "      <td>1.96</td>\n",
              "      <td>1.68</td>\n",
              "      <td>PRZ1</td>\n",
              "      <td>F</td>\n",
              "      <td>F</td>\n",
              "      <td>F</td>\n",
              "      <td>T</td>\n",
              "      <td>T</td>\n",
              "      <td>OC12</td>\n",
              "      <td>F</td>\n",
              "      <td>F</td>\n",
              "      <td>F</td>\n",
              "      <td>T</td>\n",
              "      <td>F</td>\n",
              "      <td>79</td>\n",
              "      <td>F</td>\n",
              "    </tr>\n",
              "    <tr>\n",
              "      <th>469</th>\n",
              "      <td>DGN3</td>\n",
              "      <td>4.72</td>\n",
              "      <td>3.56</td>\n",
              "      <td>PRZ0</td>\n",
              "      <td>F</td>\n",
              "      <td>F</td>\n",
              "      <td>F</td>\n",
              "      <td>F</td>\n",
              "      <td>F</td>\n",
              "      <td>OC12</td>\n",
              "      <td>F</td>\n",
              "      <td>F</td>\n",
              "      <td>F</td>\n",
              "      <td>T</td>\n",
              "      <td>F</td>\n",
              "      <td>51</td>\n",
              "      <td>F</td>\n",
              "    </tr>\n",
              "  </tbody>\n",
              "</table>\n",
              "<p>470 rows × 17 columns</p>\n",
              "</div>"
            ],
            "text/plain": [
              "      DGN  PRE4  PRE5  PRE6 PRE7 PRE8 PRE9 PRE10 PRE11 PRE14 PRE17 PRE19  \\\n",
              "0    DGN2  2.88  2.16  PRZ1    F    F    F     T     T  OC14     F     F   \n",
              "1    DGN3  3.40  1.88  PRZ0    F    F    F     F     F  OC12     F     F   \n",
              "2    DGN3  2.76  2.08  PRZ1    F    F    F     T     F  OC11     F     F   \n",
              "3    DGN3  3.68  3.04  PRZ0    F    F    F     F     F  OC11     F     F   \n",
              "4    DGN3  2.44  0.96  PRZ2    F    T    F     T     T  OC11     F     F   \n",
              "..    ...   ...   ...   ...  ...  ...  ...   ...   ...   ...   ...   ...   \n",
              "465  DGN2  3.88  2.12  PRZ1    F    F    F     T     F  OC13     F     F   \n",
              "466  DGN3  3.76  3.12  PRZ0    F    F    F     F     F  OC11     F     F   \n",
              "467  DGN3  3.04  2.08  PRZ1    F    F    F     T     F  OC13     F     F   \n",
              "468  DGN3  1.96  1.68  PRZ1    F    F    F     T     T  OC12     F     F   \n",
              "469  DGN3  4.72  3.56  PRZ0    F    F    F     F     F  OC12     F     F   \n",
              "\n",
              "    PRE25 PRE30 PRE32  AGE Risk1Yr  \n",
              "0       F     T     F   60       F  \n",
              "1       F     T     F   51       F  \n",
              "2       F     T     F   59       F  \n",
              "3       F     F     F   54       F  \n",
              "4       F     T     F   73       T  \n",
              "..    ...   ...   ...  ...     ...  \n",
              "465     F     T     F   63       F  \n",
              "466     F     T     F   61       F  \n",
              "467     F     F     F   52       F  \n",
              "468     F     T     F   79       F  \n",
              "469     F     T     F   51       F  \n",
              "\n",
              "[470 rows x 17 columns]"
            ]
          },
          "metadata": {
            "tags": []
          },
          "execution_count": 17
        }
      ]
    },
    {
      "cell_type": "code",
      "metadata": {
        "scrolled": false,
        "id": "XJIGs9MV6GHQ",
        "outputId": "e9c8d3bd-bf0d-4cb3-974c-5a7397af5b1f"
      },
      "source": [
        "# проверим на наличие пустых значений\n",
        "df.info()"
      ],
      "execution_count": null,
      "outputs": [
        {
          "output_type": "stream",
          "text": [
            "<class 'pandas.core.frame.DataFrame'>\n",
            "RangeIndex: 470 entries, 0 to 469\n",
            "Data columns (total 17 columns):\n",
            " #   Column   Non-Null Count  Dtype  \n",
            "---  ------   --------------  -----  \n",
            " 0   DGN      470 non-null    object \n",
            " 1   PRE4     470 non-null    float64\n",
            " 2   PRE5     470 non-null    float64\n",
            " 3   PRE6     470 non-null    object \n",
            " 4   PRE7     470 non-null    object \n",
            " 5   PRE8     470 non-null    object \n",
            " 6   PRE9     470 non-null    object \n",
            " 7   PRE10    470 non-null    object \n",
            " 8   PRE11    470 non-null    object \n",
            " 9   PRE14    470 non-null    object \n",
            " 10  PRE17    470 non-null    object \n",
            " 11  PRE19    470 non-null    object \n",
            " 12  PRE25    470 non-null    object \n",
            " 13  PRE30    470 non-null    object \n",
            " 14  PRE32    470 non-null    object \n",
            " 15  AGE      470 non-null    int64  \n",
            " 16  Risk1Yr  470 non-null    object \n",
            "dtypes: float64(2), int64(1), object(14)\n",
            "memory usage: 62.5+ KB\n"
          ],
          "name": "stdout"
        }
      ]
    },
    {
      "cell_type": "code",
      "metadata": {
        "scrolled": true,
        "id": "PErWc4dS6GHQ",
        "outputId": "e6e86ab0-2c75-47a6-ce01-d4195e31c616"
      },
      "source": [
        "# проверим типы данных\n",
        "df.dtypes"
      ],
      "execution_count": null,
      "outputs": [
        {
          "output_type": "execute_result",
          "data": {
            "text/plain": [
              "DGN         object\n",
              "PRE4       float64\n",
              "PRE5       float64\n",
              "PRE6        object\n",
              "PRE7        object\n",
              "PRE8        object\n",
              "PRE9        object\n",
              "PRE10       object\n",
              "PRE11       object\n",
              "PRE14       object\n",
              "PRE17       object\n",
              "PRE19       object\n",
              "PRE25       object\n",
              "PRE30       object\n",
              "PRE32       object\n",
              "AGE          int64\n",
              "Risk1Yr     object\n",
              "dtype: object"
            ]
          },
          "metadata": {
            "tags": []
          },
          "execution_count": 19
        }
      ]
    },
    {
      "cell_type": "code",
      "metadata": {
        "scrolled": true,
        "id": "pgQaDye36GHR",
        "outputId": "2ba93ab8-c81f-4d90-c1e3-303629240239"
      },
      "source": [
        "# проверим сбалансированность классов\n",
        "sns.countplot(df.DGN)"
      ],
      "execution_count": null,
      "outputs": [
        {
          "output_type": "execute_result",
          "data": {
            "text/plain": [
              "<matplotlib.axes._subplots.AxesSubplot at 0x7f9df525c410>"
            ]
          },
          "metadata": {
            "tags": []
          },
          "execution_count": 20
        },
        {
          "output_type": "display_data",
          "data": {
            "image/png": "[encoded data removed]",
            "text/plain": [
              "<Figure size 432x288 with 1 Axes>"
            ]
          },
          "metadata": {
            "tags": [],
            "needs_background": "light"
          }
        }
      ]
    },
    {
      "cell_type": "code",
      "metadata": {
        "id": "jPq3-SU96GHR"
      },
      "source": [
        "# классы несбалансированны"
      ],
      "execution_count": null,
      "outputs": []
    },
    {
      "cell_type": "code",
      "metadata": {
        "id": "Xuk5xXg86GHS",
        "outputId": "93e142a7-fabd-4d11-db20-f1fdba9c26f8"
      },
      "source": [
        "from sklearn import preprocessing\n",
        "def encoding(DF):\n",
        "    encoded_data=DF.copy()\n",
        "    encoders={}\n",
        "    for column in encoded_data:\n",
        "        if encoded_data[column].dtype==object:\n",
        "            encoders[column]=preprocessing.LabelEncoder()\n",
        "            encoded_data[column]=encoders[column].fit_transform(encoded_data[column])\n",
        "    return encoded_data, encoders\n",
        "encoded_data, encoders = encoding(df)\n",
        "encoded_data.head()"
      ],
      "execution_count": null,
      "outputs": [
        {
          "output_type": "execute_result",
          "data": {
            "text/html": [
              "<div>\n",
              "<style scoped>\n",
              "    .dataframe tbody tr th:only-of-type {\n",
              "        vertical-align: middle;\n",
              "    }\n",
              "\n",
              "    .dataframe tbody tr th {\n",
              "        vertical-align: top;\n",
              "    }\n",
              "\n",
              "    .dataframe thead th {\n",
              "        text-align: right;\n",
              "    }\n",
              "</style>\n",
              "<table border=\"1\" class=\"dataframe\">\n",
              "  <thead>\n",
              "    <tr style=\"text-align: right;\">\n",
              "      <th></th>\n",
              "      <th>DGN</th>\n",
              "      <th>PRE4</th>\n",
              "      <th>PRE5</th>\n",
              "      <th>PRE6</th>\n",
              "      <th>PRE7</th>\n",
              "      <th>PRE8</th>\n",
              "      <th>PRE9</th>\n",
              "      <th>PRE10</th>\n",
              "      <th>PRE11</th>\n",
              "      <th>PRE14</th>\n",
              "      <th>PRE17</th>\n",
              "      <th>PRE19</th>\n",
              "      <th>PRE25</th>\n",
              "      <th>PRE30</th>\n",
              "      <th>PRE32</th>\n",
              "      <th>AGE</th>\n",
              "      <th>Risk1Yr</th>\n",
              "    </tr>\n",
              "  </thead>\n",
              "  <tbody>\n",
              "    <tr>\n",
              "      <th>0</th>\n",
              "      <td>1</td>\n",
              "      <td>2.88</td>\n",
              "      <td>2.16</td>\n",
              "      <td>1</td>\n",
              "      <td>0</td>\n",
              "      <td>0</td>\n",
              "      <td>0</td>\n",
              "      <td>1</td>\n",
              "      <td>1</td>\n",
              "      <td>3</td>\n",
              "      <td>0</td>\n",
              "      <td>0</td>\n",
              "      <td>0</td>\n",
              "      <td>1</td>\n",
              "      <td>0</td>\n",
              "      <td>60</td>\n",
              "      <td>0</td>\n",
              "    </tr>\n",
              "    <tr>\n",
              "      <th>1</th>\n",
              "      <td>2</td>\n",
              "      <td>3.40</td>\n",
              "      <td>1.88</td>\n",
              "      <td>0</td>\n",
              "      <td>0</td>\n",
              "      <td>0</td>\n",
              "      <td>0</td>\n",
              "      <td>0</td>\n",
              "      <td>0</td>\n",
              "      <td>1</td>\n",
              "      <td>0</td>\n",
              "      <td>0</td>\n",
              "      <td>0</td>\n",
              "      <td>1</td>\n",
              "      <td>0</td>\n",
              "      <td>51</td>\n",
              "      <td>0</td>\n",
              "    </tr>\n",
              "    <tr>\n",
              "      <th>2</th>\n",
              "      <td>2</td>\n",
              "      <td>2.76</td>\n",
              "      <td>2.08</td>\n",
              "      <td>1</td>\n",
              "      <td>0</td>\n",
              "      <td>0</td>\n",
              "      <td>0</td>\n",
              "      <td>1</td>\n",
              "      <td>0</td>\n",
              "      <td>0</td>\n",
              "      <td>0</td>\n",
              "      <td>0</td>\n",
              "      <td>0</td>\n",
              "      <td>1</td>\n",
              "      <td>0</td>\n",
              "      <td>59</td>\n",
              "      <td>0</td>\n",
              "    </tr>\n",
              "    <tr>\n",
              "      <th>3</th>\n",
              "      <td>2</td>\n",
              "      <td>3.68</td>\n",
              "      <td>3.04</td>\n",
              "      <td>0</td>\n",
              "      <td>0</td>\n",
              "      <td>0</td>\n",
              "      <td>0</td>\n",
              "      <td>0</td>\n",
              "      <td>0</td>\n",
              "      <td>0</td>\n",
              "      <td>0</td>\n",
              "      <td>0</td>\n",
              "      <td>0</td>\n",
              "      <td>0</td>\n",
              "      <td>0</td>\n",
              "      <td>54</td>\n",
              "      <td>0</td>\n",
              "    </tr>\n",
              "    <tr>\n",
              "      <th>4</th>\n",
              "      <td>2</td>\n",
              "      <td>2.44</td>\n",
              "      <td>0.96</td>\n",
              "      <td>2</td>\n",
              "      <td>0</td>\n",
              "      <td>1</td>\n",
              "      <td>0</td>\n",
              "      <td>1</td>\n",
              "      <td>1</td>\n",
              "      <td>0</td>\n",
              "      <td>0</td>\n",
              "      <td>0</td>\n",
              "      <td>0</td>\n",
              "      <td>1</td>\n",
              "      <td>0</td>\n",
              "      <td>73</td>\n",
              "      <td>1</td>\n",
              "    </tr>\n",
              "  </tbody>\n",
              "</table>\n",
              "</div>"
            ],
            "text/plain": [
              "   DGN  PRE4  PRE5  PRE6  PRE7  PRE8  PRE9  PRE10  PRE11  PRE14  PRE17  PRE19  \\\n",
              "0    1  2.88  2.16     1     0     0     0      1      1      3      0      0   \n",
              "1    2  3.40  1.88     0     0     0     0      0      0      1      0      0   \n",
              "2    2  2.76  2.08     1     0     0     0      1      0      0      0      0   \n",
              "3    2  3.68  3.04     0     0     0     0      0      0      0      0      0   \n",
              "4    2  2.44  0.96     2     0     1     0      1      1      0      0      0   \n",
              "\n",
              "   PRE25  PRE30  PRE32  AGE  Risk1Yr  \n",
              "0      0      1      0   60        0  \n",
              "1      0      1      0   51        0  \n",
              "2      0      1      0   59        0  \n",
              "3      0      0      0   54        0  \n",
              "4      0      1      0   73        1  "
            ]
          },
          "metadata": {
            "tags": []
          },
          "execution_count": 22
        }
      ]
    },
    {
      "cell_type": "code",
      "metadata": {
        "scrolled": false,
        "id": "-hp2hCRj6GHS",
        "outputId": "3eca5af0-b6ea-4066-bd78-3ba6297b61c8"
      },
      "source": [
        "# посмотрим на распределения\n",
        "encoded_data.hist(figsize=(30,20), bins=15)"
      ],
      "execution_count": null,
      "outputs": [
        {
          "output_type": "execute_result",
          "data": {
            "text/plain": [
              "array([[<matplotlib.axes._subplots.AxesSubplot object at 0x7f9df9180250>,\n",
              "        <matplotlib.axes._subplots.AxesSubplot object at 0x7f9df9176c10>,\n",
              "        <matplotlib.axes._subplots.AxesSubplot object at 0x7f9df91dfb10>,\n",
              "        <matplotlib.axes._subplots.AxesSubplot object at 0x7f9df9347690>],\n",
              "       [<matplotlib.axes._subplots.AxesSubplot object at 0x7f9df937dd10>,\n",
              "        <matplotlib.axes._subplots.AxesSubplot object at 0x7f9df93bf3d0>,\n",
              "        <matplotlib.axes._subplots.AxesSubplot object at 0x7f9df93f7ad0>,\n",
              "        <matplotlib.axes._subplots.AxesSubplot object at 0x7f9df94390d0>],\n",
              "       [<matplotlib.axes._subplots.AxesSubplot object at 0x7f9df9439110>,\n",
              "        <matplotlib.axes._subplots.AxesSubplot object at 0x7f9df946f890>,\n",
              "        <matplotlib.axes._subplots.AxesSubplot object at 0x7f9df94e64d0>,\n",
              "        <matplotlib.axes._subplots.AxesSubplot object at 0x7f9df951cb50>],\n",
              "       [<matplotlib.axes._subplots.AxesSubplot object at 0x7f9df955f210>,\n",
              "        <matplotlib.axes._subplots.AxesSubplot object at 0x7f9df9594890>,\n",
              "        <matplotlib.axes._subplots.AxesSubplot object at 0x7f9df95ccf10>,\n",
              "        <matplotlib.axes._subplots.AxesSubplot object at 0x7f9df960f5d0>],\n",
              "       [<matplotlib.axes._subplots.AxesSubplot object at 0x7f9df9643c50>,\n",
              "        <matplotlib.axes._subplots.AxesSubplot object at 0x7f9df9686310>,\n",
              "        <matplotlib.axes._subplots.AxesSubplot object at 0x7f9df96bc990>,\n",
              "        <matplotlib.axes._subplots.AxesSubplot object at 0x7f9df96f5fd0>]],\n",
              "      dtype=object)"
            ]
          },
          "metadata": {
            "tags": []
          },
          "execution_count": 23
        },
        {
          "output_type": "display_data",
          "data": {
            "image/png": "[encoded data removed]",
            "text/plain": [
              "<Figure size 2160x1440 with 20 Axes>"
            ]
          },
          "metadata": {
            "tags": [],
            "needs_background": "light"
          }
        }
      ]
    },
    {
      "cell_type": "markdown",
      "metadata": {
        "id": "TTDTaxpl6GHT"
      },
      "source": [
        "### для наглядности проведённой работы по поиску закономерностей отразил распределения по 2-м диагнозам, реально же посмотрел их все, меняя значения в ячейках"
      ]
    },
    {
      "cell_type": "code",
      "metadata": {
        "scrolled": false,
        "id": "EoD4_P4Q6GHT",
        "outputId": "4026db36-26d0-40e7-d1e2-e7d8ba723da2"
      },
      "source": [
        "encoded_data[encoded_data.DGN==1].hist(figsize=(30,20), bins=15)"
      ],
      "execution_count": null,
      "outputs": [
        {
          "output_type": "execute_result",
          "data": {
            "text/plain": [
              "array([[<matplotlib.axes._subplots.AxesSubplot object at 0x7f9df97a62d0>,\n",
              "        <matplotlib.axes._subplots.AxesSubplot object at 0x7f9df9752990>,\n",
              "        <matplotlib.axes._subplots.AxesSubplot object at 0x7f9dfaa7e590>,\n",
              "        <matplotlib.axes._subplots.AxesSubplot object at 0x7f9dfaaa2b10>],\n",
              "       [<matplotlib.axes._subplots.AxesSubplot object at 0x7f9dfb3750d0>,\n",
              "        <matplotlib.axes._subplots.AxesSubplot object at 0x7f9dfb3ac650>,\n",
              "        <matplotlib.axes._subplots.AxesSubplot object at 0x7f9dfb3e1c50>,\n",
              "        <matplotlib.axes._subplots.AxesSubplot object at 0x7f9dfb422150>],\n",
              "       [<matplotlib.axes._subplots.AxesSubplot object at 0x7f9dfb422190>,\n",
              "        <matplotlib.axes._subplots.AxesSubplot object at 0x7f9dfb459810>,\n",
              "        <matplotlib.axes._subplots.AxesSubplot object at 0x7f9dfb4d2250>,\n",
              "        <matplotlib.axes._subplots.AxesSubplot object at 0x7f9dfb5067d0>],\n",
              "       [<matplotlib.axes._subplots.AxesSubplot object at 0x7f9dfb53cd50>,\n",
              "        <matplotlib.axes._subplots.AxesSubplot object at 0x7f9dfb580310>,\n",
              "        <matplotlib.axes._subplots.AxesSubplot object at 0x7f9dfb5b2890>,\n",
              "        <matplotlib.axes._subplots.AxesSubplot object at 0x7f9dfb5e8e10>],\n",
              "       [<matplotlib.axes._subplots.AxesSubplot object at 0x7f9dfb62c3d0>,\n",
              "        <matplotlib.axes._subplots.AxesSubplot object at 0x7f9dfb662950>,\n",
              "        <matplotlib.axes._subplots.AxesSubplot object at 0x7f9dfb696ed0>,\n",
              "        <matplotlib.axes._subplots.AxesSubplot object at 0x7f9dfb6da490>]],\n",
              "      dtype=object)"
            ]
          },
          "metadata": {
            "tags": []
          },
          "execution_count": 24
        },
        {
          "output_type": "display_data",
          "data": {
            "image/png": "[encoded data removed]",
            "text/plain": [
              "<Figure size 2160x1440 with 20 Axes>"
            ]
          },
          "metadata": {
            "tags": [],
            "needs_background": "light"
          }
        }
      ]
    },
    {
      "cell_type": "code",
      "metadata": {
        "id": "ULD_LB6L6GHT",
        "outputId": "00c403ce-86f3-4bf3-d685-66232297c929"
      },
      "source": [
        "encoded_data[encoded_data.DGN==5].hist(figsize=(30,20), bins=15)"
      ],
      "execution_count": null,
      "outputs": [
        {
          "output_type": "execute_result",
          "data": {
            "text/plain": [
              "array([[<matplotlib.axes._subplots.AxesSubplot object at 0x7f9dfbb99190>,\n",
              "        <matplotlib.axes._subplots.AxesSubplot object at 0x7f9dfaa556d0>,\n",
              "        <matplotlib.axes._subplots.AxesSubplot object at 0x7f9dfbd6f5d0>,\n",
              "        <matplotlib.axes._subplots.AxesSubplot object at 0x7f9dfc4f1b50>],\n",
              "       [<matplotlib.axes._subplots.AxesSubplot object at 0x7f9dfc533110>,\n",
              "        <matplotlib.axes._subplots.AxesSubplot object at 0x7f9dfc56a690>,\n",
              "        <matplotlib.axes._subplots.AxesSubplot object at 0x7f9dfc59dc90>,\n",
              "        <matplotlib.axes._subplots.AxesSubplot object at 0x7f9dfc70e190>],\n",
              "       [<matplotlib.axes._subplots.AxesSubplot object at 0x7f9dfc70e1d0>,\n",
              "        <matplotlib.axes._subplots.AxesSubplot object at 0x7f9dfc742850>,\n",
              "        <matplotlib.axes._subplots.AxesSubplot object at 0x7f9dfc7bb290>,\n",
              "        <matplotlib.axes._subplots.AxesSubplot object at 0x7f9dfc7f0810>],\n",
              "       [<matplotlib.axes._subplots.AxesSubplot object at 0x7f9dfc825d90>,\n",
              "        <matplotlib.axes._subplots.AxesSubplot object at 0x7f9dfc868350>,\n",
              "        <matplotlib.axes._subplots.AxesSubplot object at 0x7f9dfc89f8d0>,\n",
              "        <matplotlib.axes._subplots.AxesSubplot object at 0x7f9dfc8d6e50>],\n",
              "       [<matplotlib.axes._subplots.AxesSubplot object at 0x7f9dfc914410>,\n",
              "        <matplotlib.axes._subplots.AxesSubplot object at 0x7f9dfc94a990>,\n",
              "        <matplotlib.axes._subplots.AxesSubplot object at 0x7f9dfc981f10>,\n",
              "        <matplotlib.axes._subplots.AxesSubplot object at 0x7f9dfc9c14d0>]],\n",
              "      dtype=object)"
            ]
          },
          "metadata": {
            "tags": []
          },
          "execution_count": 25
        },
        {
          "output_type": "display_data",
          "data": {
            "image/png": "[encoded data removed]",
            "text/plain": [
              "<Figure size 2160x1440 with 20 Axes>"
            ]
          },
          "metadata": {
            "tags": [],
            "needs_background": "light"
          }
        }
      ]
    },
    {
      "cell_type": "code",
      "metadata": {
        "id": "AJ1UP8T-6GHU",
        "outputId": "c722feb2-1b57-4199-bb0f-d7549e0f67ca"
      },
      "source": [
        "# посмотрим на матрицу корреляций\n",
        "fig = plt.subplots(figsize=(10,8))    \n",
        "sns.heatmap(encoded_data.corr())"
      ],
      "execution_count": null,
      "outputs": [
        {
          "output_type": "execute_result",
          "data": {
            "text/plain": [
              "<matplotlib.axes._subplots.AxesSubplot at 0x7f9df9735850>"
            ]
          },
          "metadata": {
            "tags": []
          },
          "execution_count": 26
        },
        {
          "output_type": "display_data",
          "data": {
            "image/png": "[encoded data removed]",
            "text/plain": [
              "<Figure size 720x576 with 2 Axes>"
            ]
          },
          "metadata": {
            "tags": [],
            "needs_background": "light"
          }
        }
      ]
    },
    {
      "cell_type": "code",
      "metadata": {
        "id": "Kl7--HTk6GHU"
      },
      "source": [
        "y=encoded_data.DGN\n",
        "X=encoded_data.drop('DGN', axis=1)"
      ],
      "execution_count": null,
      "outputs": []
    },
    {
      "cell_type": "code",
      "metadata": {
        "id": "jx9n5dn_6GHU"
      },
      "source": [
        "from sklearn.preprocessing import scale\n",
        "X_scaled = scale(np.array(X, dtype='float'), with_std=True, with_mean=True)"
      ],
      "execution_count": null,
      "outputs": []
    },
    {
      "cell_type": "code",
      "metadata": {
        "id": "hRfmBx826GHV"
      },
      "source": [
        "from sklearn.model_selection import train_test_split\n",
        "X_train, X_test, y_train, y_test = train_test_split(X_scaled, y, test_size=0.15, random_state=42)"
      ],
      "execution_count": null,
      "outputs": []
    },
    {
      "cell_type": "markdown",
      "metadata": {
        "id": "p2cPepWp6GHV"
      },
      "source": [
        "# посмотрим на результаты простых моделей без аугментации данных"
      ]
    },
    {
      "cell_type": "markdown",
      "metadata": {
        "id": "s6oKAUSK6GHV"
      },
      "source": [
        "KNN"
      ]
    },
    {
      "cell_type": "code",
      "metadata": {
        "id": "6Dr44OV26GHV",
        "outputId": "dd3b008a-ab7e-4932-9e1d-232a1e28cead"
      },
      "source": [
        "from sklearn.neighbors import KNeighborsClassifier\n",
        "\n",
        "knn = KNeighborsClassifier(leaf_size=30)\n",
        "\n",
        "from sklearn.model_selection import GridSearchCV\n",
        "\n",
        "# Зададим сетку - среди каких значений выбирать наилучший параметр.\n",
        "knn_grid = {'n_neighbors': np.arange(1,101,1)}\n",
        "\n",
        "# Создаем объект кросс-валидации\n",
        "gs = GridSearchCV(knn, knn_grid, cv=5)\n",
        "\n",
        "# Обучаем его\n",
        "gs.fit(X_scaled, y)"
      ],
      "execution_count": null,
      "outputs": [
        {
          "output_type": "execute_result",
          "data": {
            "text/plain": [
              "GridSearchCV(cv=5, estimator=KNeighborsClassifier(),\n",
              "             param_grid={'n_neighbors': array([  1,   2,   3,   4,   5,   6,   7,   8,   9,  10,  11,  12,  13,\n",
              "        14,  15,  16,  17,  18,  19,  20,  21,  22,  23,  24,  25,  26,\n",
              "        27,  28,  29,  30,  31,  32,  33,  34,  35,  36,  37,  38,  39,\n",
              "        40,  41,  42,  43,  44,  45,  46,  47,  48,  49,  50,  51,  52,\n",
              "        53,  54,  55,  56,  57,  58,  59,  60,  61,  62,  63,  64,  65,\n",
              "        66,  67,  68,  69,  70,  71,  72,  73,  74,  75,  76,  77,  78,\n",
              "        79,  80,  81,  82,  83,  84,  85,  86,  87,  88,  89,  90,  91,\n",
              "        92,  93,  94,  95,  96,  97,  98,  99, 100])})"
            ]
          },
          "metadata": {
            "tags": []
          },
          "execution_count": 30
        }
      ]
    },
    {
      "cell_type": "code",
      "metadata": {
        "scrolled": true,
        "id": "0uAvFfbs6GHW",
        "outputId": "04bdbb97-e0f2-4632-b73f-0743b7d7a93b"
      },
      "source": [
        "gs.best_params_, gs.best_score_"
      ],
      "execution_count": null,
      "outputs": [
        {
          "output_type": "execute_result",
          "data": {
            "text/plain": [
              "({'n_neighbors': 16}, 0.7425531914893617)"
            ]
          },
          "metadata": {
            "tags": []
          },
          "execution_count": 31
        }
      ]
    },
    {
      "cell_type": "code",
      "metadata": {
        "id": "9n0m-wb06GHW"
      },
      "source": [
        "best=gs.best_params_['n_neighbors']"
      ],
      "execution_count": null,
      "outputs": []
    },
    {
      "cell_type": "code",
      "metadata": {
        "id": "Z62oBPKX6GHW"
      },
      "source": [
        "knn=KNeighborsClassifier(n_neighbors=best)"
      ],
      "execution_count": null,
      "outputs": []
    },
    {
      "cell_type": "code",
      "metadata": {
        "id": "JjioMmr26GHX"
      },
      "source": [
        "knn_pred=knn.fit(X_train, y_train)"
      ],
      "execution_count": null,
      "outputs": []
    },
    {
      "cell_type": "code",
      "metadata": {
        "id": "_J97NICq6GHX",
        "outputId": "dea58359-8d19-42bc-a8be-13af1bfcbf30"
      },
      "source": [
        "y_knn=knn_pred.predict(X_test)\n",
        "y_knn"
      ],
      "execution_count": null,
      "outputs": [
        {
          "output_type": "execute_result",
          "data": {
            "text/plain": [
              "array([2, 2, 2, 2, 2, 2, 2, 2, 2, 2, 2, 2, 2, 2, 2, 2, 2, 2, 2, 2, 2, 2,\n",
              "       2, 2, 2, 2, 2, 2, 2, 2, 2, 2, 2, 2, 2, 2, 2, 2, 2, 2, 2, 2, 2, 2,\n",
              "       2, 2, 2, 2, 2, 2, 2, 2, 2, 2, 2, 2, 2, 2, 2, 2, 2, 2, 2, 2, 2, 2,\n",
              "       2, 2, 2, 2, 2])"
            ]
          },
          "metadata": {
            "tags": []
          },
          "execution_count": 35
        }
      ]
    },
    {
      "cell_type": "code",
      "metadata": {
        "scrolled": false,
        "id": "b2b0U-1M6GHX",
        "outputId": "faa21bd5-9a73-4b0c-b8f0-0aed55dae0f0"
      },
      "source": [
        "from sklearn import metrics\n",
        "print(metrics.classification_report(y_test,y_knn))"
      ],
      "execution_count": null,
      "outputs": [
        {
          "output_type": "stream",
          "text": [
            "              precision    recall  f1-score   support\n",
            "\n",
            "           1       0.00      0.00      0.00         7\n",
            "           2       0.77      1.00      0.87        55\n",
            "           3       0.00      0.00      0.00         5\n",
            "           4       0.00      0.00      0.00         3\n",
            "           6       0.00      0.00      0.00         1\n",
            "\n",
            "    accuracy                           0.77        71\n",
            "   macro avg       0.15      0.20      0.17        71\n",
            "weighted avg       0.60      0.77      0.68        71\n",
            "\n"
          ],
          "name": "stdout"
        }
      ]
    },
    {
      "cell_type": "code",
      "metadata": {
        "id": "CHBluYDx6GHX"
      },
      "source": [
        "# результат вообще никуда не годится"
      ],
      "execution_count": null,
      "outputs": []
    },
    {
      "cell_type": "markdown",
      "metadata": {
        "id": "-1EqAbws6GHY"
      },
      "source": [
        "Логистическая регрессия"
      ]
    },
    {
      "cell_type": "code",
      "metadata": {
        "id": "gVeqZHgj6GHY"
      },
      "source": [
        "from sklearn.linear_model import LogisticRegression"
      ],
      "execution_count": null,
      "outputs": []
    },
    {
      "cell_type": "code",
      "metadata": {
        "scrolled": true,
        "id": "xWARNgrL6GHY",
        "outputId": "03124d71-dc79-45ee-857d-768e223307b7"
      },
      "source": [
        "regr=LogisticRegression(class_weight = 'balanced', solver='liblinear')\n",
        "log_grid = {'C': np.arange(1,20,1), 'penalty':['l1','l2']} \n",
        "\n",
        "gs = GridSearchCV(regr, log_grid, cv=5)\n",
        "gs.fit(X_scaled, y)\n",
        "\n",
        "C_best=gs.best_params_['C']\n",
        "P_best=gs.best_params_['penalty']\n",
        "regr=LogisticRegression(C=C_best, penalty=P_best,solver='liblinear')\n",
        "predictions=regr.fit(X_train, y_train).predict(X_test)\n",
        "score = regr.score(X_test, y_test)\n",
        "print('R^2: ', metrics.r2_score(y_test,predictions))\n",
        "print('MAE: ',metrics.mean_absolute_error(y_test,predictions))\n",
        "print('Accuracy: ',score)\n",
        "print(metrics.classification_report(y_test,predictions))"
      ],
      "execution_count": null,
      "outputs": [
        {
          "output_type": "stream",
          "text": [
            "R^2:  -0.0742074927953893\n",
            "MAE:  0.3380281690140845\n",
            "Accuracy:  0.7464788732394366\n",
            "              precision    recall  f1-score   support\n",
            "\n",
            "           1       0.00      0.00      0.00         7\n",
            "           2       0.77      0.96      0.85        55\n",
            "           3       0.00      0.00      0.00         5\n",
            "           4       0.00      0.00      0.00         3\n",
            "           6       0.00      0.00      0.00         1\n",
            "\n",
            "    accuracy                           0.75        71\n",
            "   macro avg       0.15      0.19      0.17        71\n",
            "weighted avg       0.60      0.75      0.66        71\n",
            "\n"
          ],
          "name": "stdout"
        }
      ]
    },
    {
      "cell_type": "code",
      "metadata": {
        "id": "W7LFDMk06GHZ"
      },
      "source": [
        "# результат плачевный"
      ],
      "execution_count": null,
      "outputs": []
    },
    {
      "cell_type": "code",
      "metadata": {
        "id": "g1isYd0H6GHZ",
        "outputId": "0b03af82-335d-4f96-950e-2da59d9c615f"
      },
      "source": [
        "# попробуем SVM\n",
        "from sklearn.svm import SVC\n",
        "alg = SVC()\n",
        "\n",
        "grid = {'C': np.array(np.linspace(1, 50, 10), dtype='float'),\n",
        "        'kernel': ['linear', 'poly', 'rbf', 'sigmoid'],\n",
        "        }\n",
        "\n",
        "gs = GridSearchCV(alg, grid, verbose=7, scoring = 'f1_micro', n_jobs = -1)\n",
        "gs.fit(X_train, y_train)\n",
        "C_best=gs.best_params_['C']\n",
        "Kernel_best=gs.best_params_['kernel']\n",
        "print(C_best, Kernel_best, gs.best_score_)\n",
        "\n",
        "alg = SVC(C =  C_best, kernel = Kernel_best)\n",
        "alg.fit(X_train, y_train)\n",
        "preds = alg.predict(X_test)\n",
        "print('R^2: ', metrics.r2_score(y_test,preds))\n",
        "print('MAE: ',metrics.mean_absolute_error(y_test,preds))\n",
        "print(metrics.classification_report(y_test, preds))"
      ],
      "execution_count": null,
      "outputs": [
        {
          "output_type": "stream",
          "text": [
            "Fitting 5 folds for each of 40 candidates, totalling 200 fits\n"
          ],
          "name": "stdout"
        },
        {
          "output_type": "stream",
          "text": [
            "[Parallel(n_jobs=-1)]: Using backend LokyBackend with 8 concurrent workers.\n",
            "[Parallel(n_jobs=-1)]: Done  16 tasks      | elapsed:    1.8s\n",
            "[Parallel(n_jobs=-1)]: Done  64 tasks      | elapsed:    2.2s\n"
          ],
          "name": "stderr"
        },
        {
          "output_type": "stream",
          "text": [
            "1.0 rbf 0.7368354430379747\n",
            "R^2:  -0.02305475504322807\n",
            "MAE:  0.30985915492957744\n",
            "              precision    recall  f1-score   support\n",
            "\n",
            "           1       0.00      0.00      0.00         7\n",
            "           2       0.77      1.00      0.87        55\n",
            "           3       0.00      0.00      0.00         5\n",
            "           4       0.00      0.00      0.00         3\n",
            "           6       0.00      0.00      0.00         1\n",
            "\n",
            "    accuracy                           0.77        71\n",
            "   macro avg       0.15      0.20      0.17        71\n",
            "weighted avg       0.60      0.77      0.68        71\n",
            "\n"
          ],
          "name": "stdout"
        },
        {
          "output_type": "stream",
          "text": [
            "[Parallel(n_jobs=-1)]: Done 173 tasks      | elapsed:    2.6s\n",
            "[Parallel(n_jobs=-1)]: Done 200 out of 200 | elapsed:    2.8s finished\n"
          ],
          "name": "stderr"
        }
      ]
    },
    {
      "cell_type": "code",
      "metadata": {
        "id": "wrI1yWTO6GHZ"
      },
      "source": [
        "# опять результат никуда не годится"
      ],
      "execution_count": null,
      "outputs": []
    },
    {
      "cell_type": "code",
      "metadata": {
        "id": "ZqfjMLKD6GHZ"
      },
      "source": [
        "# попробуем провести работу с данными"
      ],
      "execution_count": null,
      "outputs": []
    },
    {
      "cell_type": "code",
      "metadata": {
        "id": "BYqPncjS6GHa"
      },
      "source": [
        "# для начала вернёмся к общему массиву данных и увеличим его размерность таким образом, чтобы в \n",
        "# тренировочной и тестовой части были все классы"
      ],
      "execution_count": null,
      "outputs": []
    },
    {
      "cell_type": "code",
      "metadata": {
        "id": "vweq89YK6GHa"
      },
      "source": [
        "# добавим еще одну строку с единичным диагнозом 1"
      ],
      "execution_count": null,
      "outputs": []
    },
    {
      "cell_type": "code",
      "metadata": {
        "id": "RAcl5zGF6GHa",
        "outputId": "f2528fad-b32a-4bf3-fc71-cbcfcc2ff614"
      },
      "source": [
        "df[df.DGN=='DGN1']"
      ],
      "execution_count": null,
      "outputs": [
        {
          "output_type": "execute_result",
          "data": {
            "text/html": [
              "<div>\n",
              "<style scoped>\n",
              "    .dataframe tbody tr th:only-of-type {\n",
              "        vertical-align: middle;\n",
              "    }\n",
              "\n",
              "    .dataframe tbody tr th {\n",
              "        vertical-align: top;\n",
              "    }\n",
              "\n",
              "    .dataframe thead th {\n",
              "        text-align: right;\n",
              "    }\n",
              "</style>\n",
              "<table border=\"1\" class=\"dataframe\">\n",
              "  <thead>\n",
              "    <tr style=\"text-align: right;\">\n",
              "      <th></th>\n",
              "      <th>DGN</th>\n",
              "      <th>PRE4</th>\n",
              "      <th>PRE5</th>\n",
              "      <th>PRE6</th>\n",
              "      <th>PRE7</th>\n",
              "      <th>PRE8</th>\n",
              "      <th>PRE9</th>\n",
              "      <th>PRE10</th>\n",
              "      <th>PRE11</th>\n",
              "      <th>PRE14</th>\n",
              "      <th>PRE17</th>\n",
              "      <th>PRE19</th>\n",
              "      <th>PRE25</th>\n",
              "      <th>PRE30</th>\n",
              "      <th>PRE32</th>\n",
              "      <th>AGE</th>\n",
              "      <th>Risk1Yr</th>\n",
              "    </tr>\n",
              "  </thead>\n",
              "  <tbody>\n",
              "    <tr>\n",
              "      <th>292</th>\n",
              "      <td>DGN1</td>\n",
              "      <td>3.8</td>\n",
              "      <td>2.8</td>\n",
              "      <td>PRZ0</td>\n",
              "      <td>F</td>\n",
              "      <td>F</td>\n",
              "      <td>F</td>\n",
              "      <td>F</td>\n",
              "      <td>F</td>\n",
              "      <td>OC12</td>\n",
              "      <td>F</td>\n",
              "      <td>F</td>\n",
              "      <td>F</td>\n",
              "      <td>T</td>\n",
              "      <td>F</td>\n",
              "      <td>62</td>\n",
              "      <td>F</td>\n",
              "    </tr>\n",
              "  </tbody>\n",
              "</table>\n",
              "</div>"
            ],
            "text/plain": [
              "      DGN  PRE4  PRE5  PRE6 PRE7 PRE8 PRE9 PRE10 PRE11 PRE14 PRE17 PRE19  \\\n",
              "292  DGN1   3.8   2.8  PRZ0    F    F    F     F     F  OC12     F     F   \n",
              "\n",
              "    PRE25 PRE30 PRE32  AGE Risk1Yr  \n",
              "292     F     T     F   62       F  "
            ]
          },
          "metadata": {
            "tags": []
          },
          "execution_count": 46
        }
      ]
    },
    {
      "cell_type": "code",
      "metadata": {
        "id": "zg-GO2_66GHa"
      },
      "source": [
        "df.loc[470]=df.loc[292].copy()"
      ],
      "execution_count": null,
      "outputs": []
    },
    {
      "cell_type": "code",
      "metadata": {
        "id": "McFfZ9Zl6GHa"
      },
      "source": [
        "# чуть изменим данные в строке 470"
      ],
      "execution_count": null,
      "outputs": []
    },
    {
      "cell_type": "code",
      "metadata": {
        "id": "hLTJzEQC6GHb"
      },
      "source": [
        "df.loc[470,'PRE4']=round(df.loc[470]['PRE4']*1.01,2)\n",
        "df.loc[470,'PRE5']=round(df.loc[470]['PRE4']*1.01,2)"
      ],
      "execution_count": null,
      "outputs": []
    },
    {
      "cell_type": "code",
      "metadata": {
        "scrolled": true,
        "id": "SxJVj5R76GHb",
        "outputId": "652b15f8-2b88-486f-d146-d1b76af9dc8a"
      },
      "source": [
        "df.tail()"
      ],
      "execution_count": null,
      "outputs": [
        {
          "output_type": "execute_result",
          "data": {
            "text/html": [
              "<div>\n",
              "<style scoped>\n",
              "    .dataframe tbody tr th:only-of-type {\n",
              "        vertical-align: middle;\n",
              "    }\n",
              "\n",
              "    .dataframe tbody tr th {\n",
              "        vertical-align: top;\n",
              "    }\n",
              "\n",
              "    .dataframe thead th {\n",
              "        text-align: right;\n",
              "    }\n",
              "</style>\n",
              "<table border=\"1\" class=\"dataframe\">\n",
              "  <thead>\n",
              "    <tr style=\"text-align: right;\">\n",
              "      <th></th>\n",
              "      <th>DGN</th>\n",
              "      <th>PRE4</th>\n",
              "      <th>PRE5</th>\n",
              "      <th>PRE6</th>\n",
              "      <th>PRE7</th>\n",
              "      <th>PRE8</th>\n",
              "      <th>PRE9</th>\n",
              "      <th>PRE10</th>\n",
              "      <th>PRE11</th>\n",
              "      <th>PRE14</th>\n",
              "      <th>PRE17</th>\n",
              "      <th>PRE19</th>\n",
              "      <th>PRE25</th>\n",
              "      <th>PRE30</th>\n",
              "      <th>PRE32</th>\n",
              "      <th>AGE</th>\n",
              "      <th>Risk1Yr</th>\n",
              "    </tr>\n",
              "  </thead>\n",
              "  <tbody>\n",
              "    <tr>\n",
              "      <th>466</th>\n",
              "      <td>DGN3</td>\n",
              "      <td>3.76</td>\n",
              "      <td>3.12</td>\n",
              "      <td>PRZ0</td>\n",
              "      <td>F</td>\n",
              "      <td>F</td>\n",
              "      <td>F</td>\n",
              "      <td>F</td>\n",
              "      <td>F</td>\n",
              "      <td>OC11</td>\n",
              "      <td>F</td>\n",
              "      <td>F</td>\n",
              "      <td>F</td>\n",
              "      <td>T</td>\n",
              "      <td>F</td>\n",
              "      <td>61</td>\n",
              "      <td>F</td>\n",
              "    </tr>\n",
              "    <tr>\n",
              "      <th>467</th>\n",
              "      <td>DGN3</td>\n",
              "      <td>3.04</td>\n",
              "      <td>2.08</td>\n",
              "      <td>PRZ1</td>\n",
              "      <td>F</td>\n",
              "      <td>F</td>\n",
              "      <td>F</td>\n",
              "      <td>T</td>\n",
              "      <td>F</td>\n",
              "      <td>OC13</td>\n",
              "      <td>F</td>\n",
              "      <td>F</td>\n",
              "      <td>F</td>\n",
              "      <td>F</td>\n",
              "      <td>F</td>\n",
              "      <td>52</td>\n",
              "      <td>F</td>\n",
              "    </tr>\n",
              "    <tr>\n",
              "      <th>468</th>\n",
              "      <td>DGN3</td>\n",
              "      <td>1.96</td>\n",
              "      <td>1.68</td>\n",
              "      <td>PRZ1</td>\n",
              "      <td>F</td>\n",
              "      <td>F</td>\n",
              "      <td>F</td>\n",
              "      <td>T</td>\n",
              "      <td>T</td>\n",
              "      <td>OC12</td>\n",
              "      <td>F</td>\n",
              "      <td>F</td>\n",
              "      <td>F</td>\n",
              "      <td>T</td>\n",
              "      <td>F</td>\n",
              "      <td>79</td>\n",
              "      <td>F</td>\n",
              "    </tr>\n",
              "    <tr>\n",
              "      <th>469</th>\n",
              "      <td>DGN3</td>\n",
              "      <td>4.72</td>\n",
              "      <td>3.56</td>\n",
              "      <td>PRZ0</td>\n",
              "      <td>F</td>\n",
              "      <td>F</td>\n",
              "      <td>F</td>\n",
              "      <td>F</td>\n",
              "      <td>F</td>\n",
              "      <td>OC12</td>\n",
              "      <td>F</td>\n",
              "      <td>F</td>\n",
              "      <td>F</td>\n",
              "      <td>T</td>\n",
              "      <td>F</td>\n",
              "      <td>51</td>\n",
              "      <td>F</td>\n",
              "    </tr>\n",
              "    <tr>\n",
              "      <th>470</th>\n",
              "      <td>DGN1</td>\n",
              "      <td>3.84</td>\n",
              "      <td>3.88</td>\n",
              "      <td>PRZ0</td>\n",
              "      <td>F</td>\n",
              "      <td>F</td>\n",
              "      <td>F</td>\n",
              "      <td>F</td>\n",
              "      <td>F</td>\n",
              "      <td>OC12</td>\n",
              "      <td>F</td>\n",
              "      <td>F</td>\n",
              "      <td>F</td>\n",
              "      <td>T</td>\n",
              "      <td>F</td>\n",
              "      <td>62</td>\n",
              "      <td>F</td>\n",
              "    </tr>\n",
              "  </tbody>\n",
              "</table>\n",
              "</div>"
            ],
            "text/plain": [
              "      DGN  PRE4  PRE5  PRE6 PRE7 PRE8 PRE9 PRE10 PRE11 PRE14 PRE17 PRE19  \\\n",
              "466  DGN3  3.76  3.12  PRZ0    F    F    F     F     F  OC11     F     F   \n",
              "467  DGN3  3.04  2.08  PRZ1    F    F    F     T     F  OC13     F     F   \n",
              "468  DGN3  1.96  1.68  PRZ1    F    F    F     T     T  OC12     F     F   \n",
              "469  DGN3  4.72  3.56  PRZ0    F    F    F     F     F  OC12     F     F   \n",
              "470  DGN1  3.84  3.88  PRZ0    F    F    F     F     F  OC12     F     F   \n",
              "\n",
              "    PRE25 PRE30 PRE32  AGE Risk1Yr  \n",
              "466     F     T     F   61       F  \n",
              "467     F     F     F   52       F  \n",
              "468     F     T     F   79       F  \n",
              "469     F     T     F   51       F  \n",
              "470     F     T     F   62       F  "
            ]
          },
          "metadata": {
            "tags": []
          },
          "execution_count": 50
        }
      ]
    },
    {
      "cell_type": "code",
      "metadata": {
        "id": "ASaUcKIg6GHb"
      },
      "source": [
        "encoded_data, encoders = encoding(df)\n",
        "y=encoded_data.DGN\n",
        "X=encoded_data.drop('DGN', axis=1)\n",
        "X_scaled = scale(np.array(X, dtype='float'), with_std=True, with_mean=True)"
      ],
      "execution_count": null,
      "outputs": []
    },
    {
      "cell_type": "code",
      "metadata": {
        "id": "0r6KIm-36GHb",
        "outputId": "feaef29d-7b0b-4ed4-db16-e5b8e0862871"
      },
      "source": [
        "y[y==0]"
      ],
      "execution_count": null,
      "outputs": [
        {
          "output_type": "execute_result",
          "data": {
            "text/plain": [
              "292    0\n",
              "470    0\n",
              "Name: DGN, dtype: int64"
            ]
          },
          "metadata": {
            "tags": []
          },
          "execution_count": 52
        }
      ]
    },
    {
      "cell_type": "code",
      "metadata": {
        "id": "VrjUmdh_6GHc"
      },
      "source": [
        "X_train, X_test, y_train, y_test = train_test_split(X_scaled, y, test_size=0.15, random_state=123)"
      ],
      "execution_count": null,
      "outputs": []
    },
    {
      "cell_type": "code",
      "metadata": {
        "id": "W456IGeN6GHc"
      },
      "source": [
        "# отложим для нейросети\n",
        "X16_train=X_train.copy()\n",
        "y16_train=y_train.copy()\n",
        "X16_test=X_test.copy()\n",
        "y16_test=y_test.copy()"
      ],
      "execution_count": null,
      "outputs": []
    },
    {
      "cell_type": "code",
      "metadata": {
        "id": "cimwRywQ6GHc",
        "outputId": "aacdfd8a-0b8d-4cf5-fb2a-bac90e051fa1"
      },
      "source": [
        "# проверим все ли классы вошли в тестовую часть\n",
        "unique, counts = np.unique(y_test, return_counts=True)\n",
        "\n",
        "print (np.asarray((unique, counts)).T)"
      ],
      "execution_count": null,
      "outputs": [
        {
          "output_type": "stream",
          "text": [
            "[[ 0  1]\n",
            " [ 1 11]\n",
            " [ 2 46]\n",
            " [ 3  9]\n",
            " [ 4  2]\n",
            " [ 5  1]\n",
            " [ 6  1]]\n"
          ],
          "name": "stdout"
        }
      ]
    },
    {
      "cell_type": "code",
      "metadata": {
        "id": "RtTEr1bf6GHc",
        "outputId": "63c35649-ad06-453f-f681-9633fa044eea"
      },
      "source": [
        "# проверим все ли классы вошли в тренировочную часть\n",
        "unique, counts = np.unique(y_train, return_counts=True)\n",
        "\n",
        "print (np.asarray((unique, counts)).T)"
      ],
      "execution_count": null,
      "outputs": [
        {
          "output_type": "stream",
          "text": [
            "[[  0   1]\n",
            " [  1  41]\n",
            " [  2 303]\n",
            " [  3  38]\n",
            " [  4  13]\n",
            " [  5   3]\n",
            " [  6   1]]\n"
          ],
          "name": "stdout"
        }
      ]
    },
    {
      "cell_type": "code",
      "metadata": {
        "id": "ZXmflmTP6GHd"
      },
      "source": [
        "# отлично, нам повезло, мы подобрали такое распределение (random_state) при котором в трейновой и тестовой \n",
        "# части присутствуют все классы"
      ],
      "execution_count": null,
      "outputs": []
    },
    {
      "cell_type": "code",
      "metadata": {
        "id": "Un470QCs6GHd"
      },
      "source": [
        "# попробуем балансировку классов under_sampling"
      ],
      "execution_count": null,
      "outputs": []
    },
    {
      "cell_type": "code",
      "metadata": {
        "id": "yyTCCzK86GHd"
      },
      "source": [
        "from imblearn.under_sampling import TomekLinks\n",
        "\n",
        "augm = TomekLinks(sampling_strategy='majority')\n",
        "X_train_und, y_train_und = augm.fit_resample(np.array(X_train), np.array(y_train))"
      ],
      "execution_count": null,
      "outputs": []
    },
    {
      "cell_type": "code",
      "metadata": {
        "scrolled": true,
        "id": "LmlI3MnW6GHe",
        "outputId": "c8c350e1-5dab-4085-91c6-05b1a422e27a"
      },
      "source": [
        "pd.Series(y_train).value_counts()"
      ],
      "execution_count": null,
      "outputs": [
        {
          "output_type": "execute_result",
          "data": {
            "text/plain": [
              "2    303\n",
              "1     41\n",
              "3     38\n",
              "4     13\n",
              "5      3\n",
              "0      1\n",
              "6      1\n",
              "Name: DGN, dtype: int64"
            ]
          },
          "metadata": {
            "tags": []
          },
          "execution_count": 60
        }
      ]
    },
    {
      "cell_type": "code",
      "metadata": {
        "scrolled": true,
        "id": "X0bv78yb6GHe",
        "outputId": "08c8fa85-4b2d-4641-d1ed-3665cbc94312"
      },
      "source": [
        "pd.Series(y_train_und).value_counts()"
      ],
      "execution_count": null,
      "outputs": [
        {
          "output_type": "execute_result",
          "data": {
            "text/plain": [
              "2    261\n",
              "1     41\n",
              "3     38\n",
              "4     13\n",
              "5      3\n",
              "0      1\n",
              "6      1\n",
              "dtype: int64"
            ]
          },
          "metadata": {
            "tags": []
          },
          "execution_count": 61
        }
      ]
    },
    {
      "cell_type": "code",
      "metadata": {
        "id": "i7aPPh3E6GHe"
      },
      "source": [
        "# сбалансируем классы через SMOTE. будем использовать данные после обработки undersampling'ом"
      ],
      "execution_count": null,
      "outputs": []
    },
    {
      "cell_type": "code",
      "metadata": {
        "id": "0KXdY6xg6GHf"
      },
      "source": [
        "# необходимо вручную сгенерировать дополнительно несколько данных класса, т.к. алгоритм SMOTE основан на\n",
        "# работе с ближайшими соседями по классу, а в нашем случае соседей по классу просто нет.\n",
        "# Добавим по 2 значения в 0 и в 6 классы"
      ],
      "execution_count": null,
      "outputs": []
    },
    {
      "cell_type": "code",
      "metadata": {
        "id": "AT8xi1WD6GHg"
      },
      "source": [
        "klass0=np.where(y_train_und==0)[0][0]\n",
        "klass6=np.where(y_train_und==6)[0][0]"
      ],
      "execution_count": null,
      "outputs": []
    },
    {
      "cell_type": "code",
      "metadata": {
        "id": "dAQ7nr-c6GHg",
        "outputId": "62e68e1c-ac93-444e-bb5b-28d928f71011"
      },
      "source": [
        "X_train_und.shape"
      ],
      "execution_count": null,
      "outputs": [
        {
          "output_type": "execute_result",
          "data": {
            "text/plain": [
              "(358, 16)"
            ]
          },
          "metadata": {
            "tags": []
          },
          "execution_count": 65
        }
      ]
    },
    {
      "cell_type": "code",
      "metadata": {
        "id": "X_U0tXZh6GHg",
        "outputId": "8f8a1ad4-3d56-4985-9050-a5e8c69068cd"
      },
      "source": [
        "change1_1=X_train_und[klass0].copy()\n",
        "change1_1[0]=change1_1[0]*1.01\n",
        "change1_1[1]=change1_1[1]*1.01\n",
        "change1_1"
      ],
      "execution_count": null,
      "outputs": [
        {
          "output_type": "execute_result",
          "data": {
            "text/plain": [
              "array([ 0.64689425, -0.05910916, -1.45522678, -0.26543275, -0.41077304,\n",
              "       -0.26543275, -1.4773058 , -0.4455034 ,  0.37564031, -0.28332884,\n",
              "       -0.06530231, -0.13144816,  0.46589083, -0.06530231, -0.06133544,\n",
              "       -0.41780808])"
            ]
          },
          "metadata": {
            "tags": []
          },
          "execution_count": 66
        }
      ]
    },
    {
      "cell_type": "code",
      "metadata": {
        "id": "FY_RIA0i6GHh",
        "outputId": "0784b11c-eed6-4ab6-d263-13713f978839"
      },
      "source": [
        "change1_2=X_train_und[klass0].copy()\n",
        "change1_2[0]=change1_2[0]*0.99\n",
        "change1_2[1]=change1_2[1]*0.99\n",
        "change1_2"
      ],
      "execution_count": null,
      "outputs": [
        {
          "output_type": "execute_result",
          "data": {
            "text/plain": [
              "array([ 0.63408446, -0.05793868, -1.45522678, -0.26543275, -0.41077304,\n",
              "       -0.26543275, -1.4773058 , -0.4455034 ,  0.37564031, -0.28332884,\n",
              "       -0.06530231, -0.13144816,  0.46589083, -0.06530231, -0.06133544,\n",
              "       -0.41780808])"
            ]
          },
          "metadata": {
            "tags": []
          },
          "execution_count": 67
        }
      ]
    },
    {
      "cell_type": "code",
      "metadata": {
        "id": "mpyBjDdO6GHh",
        "outputId": "fdca2abb-187b-42e4-8662-57ba862584c6"
      },
      "source": [
        "change6_1=X_train_und[klass6].copy()\n",
        "change6_1[0]=change6_1[0]*1.01\n",
        "change6_1[1]=change6_1[1]*1.01\n",
        "change6_1"
      ],
      "execution_count": null,
      "outputs": [
        {
          "output_type": "execute_result",
          "data": {
            "text/plain": [
              "array([ 2.22588513, -0.04018707, -1.45522678, -0.26543275, -0.41077304,\n",
              "       -0.26543275, -1.4773058 , -0.4455034 ,  0.37564031, -0.28332884,\n",
              "       -0.06530231, -0.13144816, -2.1464256 , -0.06530231, -1.55757798,\n",
              "       -0.41780808])"
            ]
          },
          "metadata": {
            "tags": []
          },
          "execution_count": 68
        }
      ]
    },
    {
      "cell_type": "code",
      "metadata": {
        "id": "3Lkao6tp6GHh",
        "outputId": "11d42f0e-cc21-4ac8-f718-52bfd8795a6c"
      },
      "source": [
        "change6_2=X_train_und[klass6].copy()\n",
        "change6_2[0]=change6_2[0]*0.99\n",
        "change6_2[1]=change6_2[1]*0.99\n",
        "change6_2"
      ],
      "execution_count": null,
      "outputs": [
        {
          "output_type": "execute_result",
          "data": {
            "text/plain": [
              "array([ 2.1818082 , -0.03939129, -1.45522678, -0.26543275, -0.41077304,\n",
              "       -0.26543275, -1.4773058 , -0.4455034 ,  0.37564031, -0.28332884,\n",
              "       -0.06530231, -0.13144816, -2.1464256 , -0.06530231, -1.55757798,\n",
              "       -0.41780808])"
            ]
          },
          "metadata": {
            "tags": []
          },
          "execution_count": 69
        }
      ]
    },
    {
      "cell_type": "code",
      "metadata": {
        "scrolled": false,
        "id": "hiSd18IF6GHi",
        "outputId": "8314ac7d-199e-4795-8ac4-4e4486ae9348"
      },
      "source": [
        "X_train_und=np.append(X_train_und,[change1_1, change1_2,change6_1, change6_2]).reshape(362,16)\n",
        "X_train_und"
      ],
      "execution_count": null,
      "outputs": [
        {
          "output_type": "execute_result",
          "data": {
            "text/plain": [
              "array([[-0.78492467, -0.25609031, -1.45522678, ..., 15.31339283,\n",
              "        -0.17643102, -0.41780808],\n",
              "       [ 0.45656496, -0.12665026,  0.41238034, ..., -0.06530231,\n",
              "         0.05376014, -0.41780808],\n",
              "       [ 1.88197898, -0.07214919, -1.45522678, ..., -0.06530231,\n",
              "        -0.2915266 , -0.41780808],\n",
              "       ...,\n",
              "       [ 0.63408446, -0.05793868, -1.45522678, ..., -0.06530231,\n",
              "        -0.06133544, -0.41780808],\n",
              "       [ 2.22588513, -0.04018707, -1.45522678, ..., -0.06530231,\n",
              "        -1.55757798, -0.41780808],\n",
              "       [ 2.1818082 , -0.03939129, -1.45522678, ..., -0.06530231,\n",
              "        -1.55757798, -0.41780808]])"
            ]
          },
          "metadata": {
            "tags": []
          },
          "execution_count": 70
        }
      ]
    },
    {
      "cell_type": "code",
      "metadata": {
        "id": "DajSW-vI6GHi",
        "outputId": "ece5c8cb-4799-4ab1-ace1-506b6483d3d1"
      },
      "source": [
        "y_train_und=np.append(y_train_und,[0,0,6,6])\n",
        "y_train_und"
      ],
      "execution_count": null,
      "outputs": [
        {
          "output_type": "execute_result",
          "data": {
            "text/plain": [
              "array([2, 2, 3, 2, 1, 2, 2, 2, 3, 1, 2, 2, 2, 2, 2, 2, 2, 2, 2, 2, 2, 2,\n",
              "       2, 3, 1, 2, 2, 2, 2, 2, 3, 2, 2, 2, 2, 2, 2, 2, 2, 1, 2, 2, 3, 3,\n",
              "       2, 2, 2, 2, 2, 2, 2, 2, 1, 2, 2, 2, 3, 2, 3, 2, 2, 2, 3, 2, 2, 2,\n",
              "       2, 1, 1, 2, 2, 2, 2, 2, 2, 2, 2, 2, 2, 2, 2, 2, 2, 2, 2, 5, 2, 1,\n",
              "       2, 2, 2, 2, 3, 2, 2, 2, 2, 4, 2, 1, 2, 5, 2, 2, 2, 2, 2, 2, 2, 2,\n",
              "       2, 2, 3, 2, 3, 2, 2, 2, 1, 2, 2, 3, 1, 1, 3, 2, 2, 2, 2, 2, 2, 2,\n",
              "       2, 2, 2, 2, 3, 2, 2, 2, 2, 1, 2, 2, 2, 2, 2, 4, 2, 2, 2, 1, 2, 2,\n",
              "       2, 2, 4, 1, 2, 1, 1, 4, 2, 2, 2, 1, 3, 2, 2, 1, 2, 2, 1, 2, 1, 2,\n",
              "       2, 3, 2, 2, 2, 2, 2, 2, 2, 2, 2, 2, 2, 2, 2, 2, 1, 2, 1, 1, 2, 3,\n",
              "       1, 3, 2, 2, 2, 2, 2, 2, 2, 2, 2, 2, 5, 2, 1, 4, 1, 1, 2, 2, 2, 2,\n",
              "       2, 2, 2, 2, 2, 2, 3, 4, 4, 2, 2, 2, 3, 2, 2, 2, 4, 2, 2, 2, 1, 2,\n",
              "       2, 2, 3, 2, 2, 1, 1, 2, 2, 1, 2, 2, 2, 3, 2, 1, 1, 2, 1, 2, 2, 2,\n",
              "       2, 2, 2, 2, 2, 2, 3, 2, 3, 2, 2, 2, 2, 2, 2, 2, 1, 2, 4, 2, 4, 1,\n",
              "       3, 2, 2, 2, 2, 2, 2, 0, 2, 2, 6, 4, 2, 2, 2, 3, 3, 2, 1, 3, 3, 3,\n",
              "       2, 2, 2, 2, 2, 3, 2, 2, 2, 2, 1, 2, 2, 2, 2, 3, 2, 2, 2, 2, 2, 2,\n",
              "       2, 2, 2, 4, 2, 1, 2, 2, 2, 2, 4, 3, 2, 2, 2, 3, 3, 2, 2, 3, 2, 2,\n",
              "       1, 2, 2, 2, 3, 2, 0, 0, 6, 6])"
            ]
          },
          "metadata": {
            "tags": []
          },
          "execution_count": 71
        }
      ]
    },
    {
      "cell_type": "code",
      "metadata": {
        "id": "fzjbj3q_6GHi"
      },
      "source": [
        "from imblearn.over_sampling import SMOTE, ADASYN\n",
        "\n",
        "augm = SMOTE(random_state=1, k_neighbors=2)\n",
        "X_train_ov_S, y_train_ov_S = augm.fit_resample(X_train_und, y_train_und)"
      ],
      "execution_count": null,
      "outputs": []
    },
    {
      "cell_type": "code",
      "metadata": {
        "scrolled": false,
        "id": "mCHP5-S36GHi",
        "outputId": "6700f275-a14d-4c71-8779-575d4a1b4764"
      },
      "source": [
        "pd.DataFrame(y_train_ov_S).value_counts()"
      ],
      "execution_count": null,
      "outputs": [
        {
          "output_type": "execute_result",
          "data": {
            "text/plain": [
              "0    261\n",
              "1    261\n",
              "2    261\n",
              "3    261\n",
              "4    261\n",
              "5    261\n",
              "6    261\n",
              "dtype: int64"
            ]
          },
          "metadata": {
            "tags": []
          },
          "execution_count": 73
        }
      ]
    },
    {
      "cell_type": "code",
      "metadata": {
        "id": "AW4v5bYg6GHj",
        "outputId": "7ae18d4c-1f0e-4162-80c0-d3c25fc56c4f"
      },
      "source": [
        "X_train_ov_S.shape"
      ],
      "execution_count": null,
      "outputs": [
        {
          "output_type": "execute_result",
          "data": {
            "text/plain": [
              "(1827, 16)"
            ]
          },
          "metadata": {
            "tags": []
          },
          "execution_count": 74
        }
      ]
    },
    {
      "cell_type": "code",
      "metadata": {
        "id": "jy8YFtl06GHj"
      },
      "source": [
        "# для нейросети\n",
        "X_net=X_train_ov_S.copy()\n",
        "y_net=y_train_ov_S.copy()"
      ],
      "execution_count": null,
      "outputs": []
    },
    {
      "cell_type": "code",
      "metadata": {
        "id": "KT9TyEDa6GHj"
      },
      "source": [
        "# KNN"
      ],
      "execution_count": null,
      "outputs": []
    },
    {
      "cell_type": "code",
      "metadata": {
        "id": "0Cd56RA_6GHj"
      },
      "source": [
        "from sklearn.neighbors import KNeighborsClassifier\n",
        "\n",
        "knn = KNeighborsClassifier(leaf_size=30)\n",
        "\n",
        "from sklearn.model_selection import GridSearchCV, RandomizedSearchCV\n",
        "\n",
        "# Зададим сетку - среди каких значений выбирать наилучший параметр.\n",
        "knn_grid = {'n_neighbors': np.arange(1,101,1)} \n",
        "\n",
        "# Создаем объект кросс-валидации\n",
        "gs = GridSearchCV(knn, knn_grid, cv=5)\n",
        "\n",
        "# Обучаем его\n",
        "gs.fit(X, y)\n",
        "\n",
        "best=gs.best_params_['n_neighbors']"
      ],
      "execution_count": null,
      "outputs": []
    },
    {
      "cell_type": "code",
      "metadata": {
        "scrolled": true,
        "id": "J9QzL2cU6GHj"
      },
      "source": [
        "knn=KNeighborsClassifier(n_neighbors=best)\n",
        "knn_pred=knn.fit(X_train_ov_S, y_train_ov_S)\n",
        "y_knn=knn_pred.predict(X_test)\n"
      ],
      "execution_count": null,
      "outputs": []
    },
    {
      "cell_type": "code",
      "metadata": {
        "scrolled": true,
        "id": "IJ_rflr-6GHj",
        "outputId": "e51c31c5-615a-4747-b6fa-9de3710e1e20"
      },
      "source": [
        "print('R^2: ', metrics.r2_score(y_test,y_knn))\n",
        "print('MAE: ',metrics.mean_absolute_error(y_test,y_knn))\n",
        "print(metrics.classification_report(y_test,y_knn))"
      ],
      "execution_count": null,
      "outputs": [
        {
          "output_type": "stream",
          "text": [
            "R^2:  -1.2731365682841416\n",
            "MAE:  0.9577464788732394\n",
            "              precision    recall  f1-score   support\n",
            "\n",
            "           0       1.00      1.00      1.00         1\n",
            "           1       0.29      0.55      0.37        11\n",
            "           2       0.75      0.26      0.39        46\n",
            "           3       0.21      0.56      0.30         9\n",
            "           4       0.17      0.50      0.25         2\n",
            "           5       0.00      0.00      0.00         1\n",
            "           6       0.00      0.00      0.00         1\n",
            "\n",
            "    accuracy                           0.35        71\n",
            "   macro avg       0.34      0.41      0.33        71\n",
            "weighted avg       0.58      0.35      0.37        71\n",
            "\n"
          ],
          "name": "stdout"
        }
      ]
    },
    {
      "cell_type": "code",
      "metadata": {
        "id": "HoayO8-W6GHj"
      },
      "source": [
        "#регрессия"
      ],
      "execution_count": null,
      "outputs": []
    },
    {
      "cell_type": "code",
      "metadata": {
        "scrolled": true,
        "id": "HgPPi0xp6GHk"
      },
      "source": [
        "regr=LogisticRegression(class_weight = 'balanced', solver='liblinear')\n",
        "log_grid = {'C': np.arange(1,20,1), 'penalty':['l1','l2']} \n",
        "\n",
        "gs = GridSearchCV(regr, log_grid, cv=5)\n",
        "gs.fit(X_scaled, y)\n",
        "\n",
        "C_best=gs.best_params_['C']\n",
        "P_best=gs.best_params_['penalty']\n",
        "regr=LogisticRegression(C=C_best, penalty=P_best,solver='liblinear')\n",
        "predictions=regr.fit(X_train_ov_S, y_train_ov_S).predict(X_test)\n",
        "score = regr.score(X_test, y_test)"
      ],
      "execution_count": null,
      "outputs": []
    },
    {
      "cell_type": "code",
      "metadata": {
        "id": "3hjXv-xu6GHk",
        "outputId": "9ded581d-30da-48a8-e00b-bc6e8a1f6ccc"
      },
      "source": [
        "print('R^2: ', metrics.r2_score(y_test,predictions))\n",
        "print('MAE: ',metrics.mean_absolute_error(y_test,predictions))\n",
        "print('Accuracy: ',score)\n",
        "print(metrics.classification_report(y_test,predictions))"
      ],
      "execution_count": null,
      "outputs": [
        {
          "output_type": "stream",
          "text": [
            "R^2:  -2.7826413206603293\n",
            "MAE:  1.2535211267605635\n",
            "Accuracy:  0.3380281690140845\n",
            "              precision    recall  f1-score   support\n",
            "\n",
            "           0       0.25      1.00      0.40         1\n",
            "           1       0.11      0.09      0.10        11\n",
            "           2       0.83      0.41      0.55        46\n",
            "           3       0.08      0.11      0.10         9\n",
            "           4       0.10      0.50      0.17         2\n",
            "           5       0.09      1.00      0.17         1\n",
            "           6       0.00      0.00      0.00         1\n",
            "\n",
            "    accuracy                           0.34        71\n",
            "   macro avg       0.21      0.45      0.21        71\n",
            "weighted avg       0.57      0.34      0.40        71\n",
            "\n"
          ],
          "name": "stdout"
        }
      ]
    },
    {
      "cell_type": "code",
      "metadata": {
        "scrolled": true,
        "id": "OQmhiLrK6GHk",
        "outputId": "5fbc2cac-391e-417f-f8b6-b058d707d00a"
      },
      "source": [
        "# попробуем SVM\n",
        "from sklearn.svm import SVC\n",
        "alg = SVC()\n",
        "\n",
        "grid = {'C': np.array(np.linspace(1, 50, 50), dtype='float'),\n",
        "        'kernel': ['linear', 'poly', 'rbf', 'sigmoid'],\n",
        "        }\n",
        "\n",
        "gs = GridSearchCV(alg, grid, verbose=7, scoring = 'f1_micro', n_jobs = -1)\n",
        "gs.fit(X_train_ov_S, y_train_ov_S)\n",
        "C_best=gs.best_params_['C']\n",
        "Kernel_best=gs.best_params_['kernel']\n",
        "print(C_best, Kernel_best, gs.best_score_)\n",
        "\n",
        "alg = SVC(C =  C_best, kernel = Kernel_best)\n",
        "alg.fit(X_train_ov_S, y_train_ov_S)\n",
        "preds = alg.predict(X_test)"
      ],
      "execution_count": null,
      "outputs": [
        {
          "output_type": "stream",
          "text": [
            "Fitting 5 folds for each of 200 candidates, totalling 1000 fits\n"
          ],
          "name": "stdout"
        },
        {
          "output_type": "stream",
          "text": [
            "[Parallel(n_jobs=-1)]: Using backend LokyBackend with 8 concurrent workers.\n",
            "[Parallel(n_jobs=-1)]: Done  16 tasks      | elapsed:    0.3s\n",
            "[Parallel(n_jobs=-1)]: Done  96 tasks      | elapsed:    1.8s\n",
            "[Parallel(n_jobs=-1)]: Done 208 tasks      | elapsed:    4.5s\n",
            "[Parallel(n_jobs=-1)]: Done 352 tasks      | elapsed:    9.6s\n",
            "[Parallel(n_jobs=-1)]: Done 517 tasks      | elapsed:   17.7s\n",
            "[Parallel(n_jobs=-1)]: Done 624 tasks      | elapsed:   23.2s\n",
            "[Parallel(n_jobs=-1)]: Done 744 tasks      | elapsed:   30.7s\n",
            "[Parallel(n_jobs=-1)]: Done 880 tasks      | elapsed:   40.6s\n"
          ],
          "name": "stderr"
        },
        {
          "output_type": "stream",
          "text": [
            "39.0 rbf 0.9332285350699904\n"
          ],
          "name": "stdout"
        },
        {
          "output_type": "stream",
          "text": [
            "[Parallel(n_jobs=-1)]: Done 1000 out of 1000 | elapsed:   51.1s finished\n"
          ],
          "name": "stderr"
        }
      ]
    },
    {
      "cell_type": "code",
      "metadata": {
        "id": "pb3kwsTw6GHk",
        "outputId": "93082949-e1fd-4aaa-fb29-5cf12ae896ed"
      },
      "source": [
        "print('R^2: ', metrics.r2_score(y_test,preds))\n",
        "print('MAE: ',metrics.mean_absolute_error(y_test,preds))\n",
        "print(metrics.classification_report(y_test, preds))"
      ],
      "execution_count": null,
      "outputs": [
        {
          "output_type": "stream",
          "text": [
            "R^2:  -0.6160580290145068\n",
            "MAE:  0.7183098591549296\n",
            "              precision    recall  f1-score   support\n",
            "\n",
            "           0       1.00      1.00      1.00         1\n",
            "           1       0.27      0.36      0.31        11\n",
            "           2       0.70      0.57      0.63        46\n",
            "           3       0.29      0.44      0.35         9\n",
            "           4       0.00      0.00      0.00         2\n",
            "           5       0.00      0.00      0.00         1\n",
            "           6       0.00      0.00      0.00         1\n",
            "\n",
            "    accuracy                           0.49        71\n",
            "   macro avg       0.32      0.34      0.33        71\n",
            "weighted avg       0.55      0.49      0.51        71\n",
            "\n"
          ],
          "name": "stdout"
        }
      ]
    },
    {
      "cell_type": "code",
      "metadata": {
        "id": "elNMaqLv6GHk"
      },
      "source": [
        "# Полиномиальные признаки"
      ],
      "execution_count": null,
      "outputs": []
    },
    {
      "cell_type": "code",
      "metadata": {
        "id": "5quwiWkq6GHl"
      },
      "source": [
        "from sklearn.preprocessing import PolynomialFeatures"
      ],
      "execution_count": null,
      "outputs": []
    },
    {
      "cell_type": "code",
      "metadata": {
        "id": "JmKl19F76GHl"
      },
      "source": [
        "degree=3\n",
        "X_tr=PolynomialFeatures(degree).fit_transform(X_train_und)\n",
        "X_tst=PolynomialFeatures(degree).fit_transform(X_test)"
      ],
      "execution_count": null,
      "outputs": []
    },
    {
      "cell_type": "code",
      "metadata": {
        "scrolled": true,
        "id": "njUNSgSw6GHl",
        "outputId": "aed15cb2-db9b-4792-ce4f-a0685ce1abc2"
      },
      "source": [
        "# попробуем SVM\n",
        "from sklearn.svm import SVC\n",
        "alg = SVC()\n",
        "\n",
        "grid = {'C': np.array(np.linspace(1, 50, 50), dtype='float'),\n",
        "        'kernel': ['linear', 'poly', 'rbf', 'sigmoid'],\n",
        "        }\n",
        "\n",
        "gs = GridSearchCV(alg, grid, verbose=7, scoring = 'f1_micro', n_jobs = -1)\n",
        "gs.fit(X_tr, y_train_und)\n",
        "C_best=gs.best_params_['C']\n",
        "Kernel_best=gs.best_params_['kernel']\n",
        "print(C_best, Kernel_best, gs.best_score_)\n",
        "\n",
        "alg = SVC(C =  C_best, kernel = Kernel_best)\n",
        "alg.fit(X_tr, y_train_und)\n",
        "preds = alg.predict(X_tst)"
      ],
      "execution_count": null,
      "outputs": [
        {
          "output_type": "stream",
          "text": [
            "[Parallel(n_jobs=-1)]: Using backend LokyBackend with 8 concurrent workers.\n"
          ],
          "name": "stderr"
        },
        {
          "output_type": "stream",
          "text": [
            "Fitting 5 folds for each of 200 candidates, totalling 1000 fits\n"
          ],
          "name": "stdout"
        },
        {
          "output_type": "stream",
          "text": [
            "[Parallel(n_jobs=-1)]: Done  16 tasks      | elapsed:    0.4s\n",
            "[Parallel(n_jobs=-1)]: Done  96 tasks      | elapsed:    2.0s\n",
            "[Parallel(n_jobs=-1)]: Done 208 tasks      | elapsed:    4.1s\n",
            "[Parallel(n_jobs=-1)]: Done 352 tasks      | elapsed:    7.5s\n",
            "[Parallel(n_jobs=-1)]: Done 528 tasks      | elapsed:   11.5s\n",
            "[Parallel(n_jobs=-1)]: Done 736 tasks      | elapsed:   16.7s\n",
            "[Parallel(n_jobs=-1)]: Done 976 tasks      | elapsed:   24.4s\n",
            "[Parallel(n_jobs=-1)]: Done 1000 out of 1000 | elapsed:   24.9s finished\n"
          ],
          "name": "stderr"
        },
        {
          "output_type": "stream",
          "text": [
            "1.0 poly 0.7210045662100457\n"
          ],
          "name": "stdout"
        }
      ]
    },
    {
      "cell_type": "code",
      "metadata": {
        "id": "sq2LoOlV6GHl",
        "outputId": "ff827497-b137-4ccd-850b-ddee51cc6ba1"
      },
      "source": [
        "print('R^2: ', metrics.r2_score(y_test,preds))\n",
        "print('MAE: ',metrics.mean_absolute_error(y_test,preds))\n",
        "print(metrics.classification_report(y_test, preds))"
      ],
      "execution_count": null,
      "outputs": [
        {
          "output_type": "stream",
          "text": [
            "R^2:  -0.012256128064031868\n",
            "MAE:  0.4647887323943662\n",
            "              precision    recall  f1-score   support\n",
            "\n",
            "           0       0.00      0.00      0.00         1\n",
            "           1       0.00      0.00      0.00        11\n",
            "           2       0.65      1.00      0.79        46\n",
            "           3       0.00      0.00      0.00         9\n",
            "           4       0.00      0.00      0.00         2\n",
            "           5       0.00      0.00      0.00         1\n",
            "           6       0.00      0.00      0.00         1\n",
            "\n",
            "    accuracy                           0.65        71\n",
            "   macro avg       0.09      0.14      0.11        71\n",
            "weighted avg       0.42      0.65      0.51        71\n",
            "\n"
          ],
          "name": "stdout"
        }
      ]
    },
    {
      "cell_type": "code",
      "metadata": {
        "id": "1OHOXCau6GHl"
      },
      "source": [
        "# полиномиальные признаки не дали нужного результата"
      ],
      "execution_count": null,
      "outputs": []
    },
    {
      "cell_type": "code",
      "metadata": {
        "id": "Zf4lOemp6GHl",
        "outputId": "85199e4a-68e6-4ddb-eeb1-b3446ec97cd2"
      },
      "source": [
        "X_tr"
      ],
      "execution_count": null,
      "outputs": [
        {
          "output_type": "execute_result",
          "data": {
            "text/plain": [
              "array([[ 1.00000000e+00, -7.84924668e-01, -2.56090307e-01, ...,\n",
              "        -1.30054897e-02, -3.07984319e-02, -7.29340787e-02],\n",
              "       [ 1.00000000e+00,  4.56564963e-01, -1.26650263e-01, ...,\n",
              "        -1.20752929e-03,  9.38456373e-03, -7.29340787e-02],\n",
              "       [ 1.00000000e+00,  1.88197898e+00, -7.21491919e-02, ...,\n",
              "        -3.55085714e-02, -5.08899297e-02, -7.29340787e-02],\n",
              "       ...,\n",
              "       [ 1.00000000e+00,  6.34084459e-01, -5.79386849e-02, ...,\n",
              "        -1.57180895e-03, -1.07069341e-02, -7.29340787e-02],\n",
              "       [ 1.00000000e+00,  2.22588513e+00, -4.01870728e-02, ...,\n",
              "        -1.01362294e+00, -2.71896406e-01, -7.29340787e-02],\n",
              "       [ 1.00000000e+00,  2.18180820e+00, -3.93912891e-02, ...,\n",
              "        -1.01362294e+00, -2.71896406e-01, -7.29340787e-02]])"
            ]
          },
          "metadata": {
            "tags": []
          },
          "execution_count": 91
        }
      ]
    },
    {
      "cell_type": "code",
      "metadata": {
        "id": "GBgpL3F_6GHm",
        "outputId": "b855fee4-9407-439f-a74b-0497e0092a61"
      },
      "source": [
        "augm = SMOTE(random_state=1, k_neighbors=2)\n",
        "X_train_ov_S, y_train_ov_S = augm.fit_resample(X_tr, y_train_und)\n",
        "X_train_ov_S.shape"
      ],
      "execution_count": null,
      "outputs": [
        {
          "output_type": "execute_result",
          "data": {
            "text/plain": [
              "(1827, 969)"
            ]
          },
          "metadata": {
            "tags": []
          },
          "execution_count": 92
        }
      ]
    },
    {
      "cell_type": "code",
      "metadata": {
        "scrolled": true,
        "id": "3UCUtvyH6GHm",
        "outputId": "5b5f83ae-215c-4492-8470-9998d2e3f59d"
      },
      "source": [
        "# попробуем SVM (полиномиальные + SMOTE)\n",
        "from sklearn.svm import SVC\n",
        "alg = SVC()\n",
        "\n",
        "grid = {'C': np.array(np.linspace(1, 100, 10), dtype='float'),\n",
        "        'kernel': ['linear', 'poly', 'rbf', 'sigmoid'],\n",
        "        }\n",
        "\n",
        "gs = GridSearchCV(alg, grid, verbose=2, scoring = 'f1_micro', n_jobs = -1)\n",
        "gs.fit(X_train_ov_S, y_train_ov_S)\n",
        "C_best=gs.best_params_['C']\n",
        "Kernel_best=gs.best_params_['kernel']\n",
        "print(C_best, Kernel_best, gs.best_score_)\n",
        "\n",
        "alg = SVC(C =  C_best, kernel = Kernel_best)\n",
        "alg.fit(X_train_ov_S, y_train_ov_S)\n",
        "preds = alg.predict(X_tst)"
      ],
      "execution_count": null,
      "outputs": [
        {
          "output_type": "stream",
          "text": [
            "Fitting 5 folds for each of 40 candidates, totalling 200 fits\n"
          ],
          "name": "stdout"
        },
        {
          "output_type": "stream",
          "text": [
            "[Parallel(n_jobs=-1)]: Using backend LokyBackend with 8 concurrent workers.\n",
            "[Parallel(n_jobs=-1)]: Done  25 tasks      | elapsed:   24.2s\n",
            "[Parallel(n_jobs=-1)]: Done 146 tasks      | elapsed:  3.2min\n",
            "[Parallel(n_jobs=-1)]: Done 200 out of 200 | elapsed:  5.2min finished\n"
          ],
          "name": "stderr"
        },
        {
          "output_type": "stream",
          "text": [
            "45.0 linear 0.936504229358485\n"
          ],
          "name": "stdout"
        }
      ]
    },
    {
      "cell_type": "code",
      "metadata": {
        "id": "mzQD-2p46GHm",
        "outputId": "76ff4ac3-d5c5-4ff1-f248-111f22ea8758"
      },
      "source": [
        "print('R^2: ', metrics.r2_score(y_test,preds))\n",
        "print('MAE: ',metrics.mean_absolute_error(y_test,preds))\n",
        "print(metrics.classification_report(y_test, preds))"
      ],
      "execution_count": null,
      "outputs": [
        {
          "output_type": "stream",
          "text": [
            "R^2:  -0.8824412206103047\n",
            "MAE:  0.7323943661971831\n",
            "              precision    recall  f1-score   support\n",
            "\n",
            "           0       0.33      1.00      0.50         1\n",
            "           1       0.15      0.18      0.17        11\n",
            "           2       0.73      0.59      0.65        46\n",
            "           3       0.27      0.44      0.33         9\n",
            "           4       0.50      0.50      0.50         2\n",
            "           5       0.00      0.00      0.00         1\n",
            "           6       0.00      0.00      0.00         1\n",
            "\n",
            "    accuracy                           0.49        71\n",
            "   macro avg       0.28      0.39      0.31        71\n",
            "weighted avg       0.55      0.49      0.51        71\n",
            "\n"
          ],
          "name": "stdout"
        }
      ]
    },
    {
      "cell_type": "markdown",
      "metadata": {
        "id": "9FwBpjVN6GHm"
      },
      "source": [
        "# Решение задачи через нейросеть"
      ]
    },
    {
      "cell_type": "code",
      "metadata": {
        "id": "H-CfHNVM6GHn"
      },
      "source": [
        "# pytorch\n",
        "import torch"
      ],
      "execution_count": null,
      "outputs": []
    },
    {
      "cell_type": "code",
      "metadata": {
        "id": "I5SPu6Y26GHn",
        "outputId": "87e308df-87bb-4b36-c71a-a9ed66eec8cf"
      },
      "source": [
        "# взглянем на разделение признаков\n",
        "pd.Series(y16_train).value_counts(), pd.Series(y16_test).value_counts()"
      ],
      "execution_count": null,
      "outputs": [
        {
          "output_type": "execute_result",
          "data": {
            "text/plain": [
              "(2    303\n",
              " 1     41\n",
              " 3     38\n",
              " 4     13\n",
              " 5      3\n",
              " 0      1\n",
              " 6      1\n",
              " Name: DGN, dtype: int64,\n",
              " 2    46\n",
              " 1    11\n",
              " 3     9\n",
              " 4     2\n",
              " 0     1\n",
              " 5     1\n",
              " 6     1\n",
              " Name: DGN, dtype: int64)"
            ]
          },
          "metadata": {
            "tags": []
          },
          "execution_count": 96
        }
      ]
    },
    {
      "cell_type": "code",
      "metadata": {
        "id": "ZjC3c3jW6GHn"
      },
      "source": [
        "# обернём сделанные из массивов тензоры в Variable\n",
        "X = torch.autograd.Variable(torch.FloatTensor(X16_train))\n",
        "y = torch.autograd.Variable(torch.LongTensor(y16_train))"
      ],
      "execution_count": null,
      "outputs": []
    },
    {
      "cell_type": "code",
      "metadata": {
        "id": "pON6iUO76GHn",
        "outputId": "30132766-3b93-43d9-d0f9-75301de35ff9"
      },
      "source": [
        "y16_train"
      ],
      "execution_count": null,
      "outputs": [
        {
          "output_type": "execute_result",
          "data": {
            "text/plain": [
              "190    2\n",
              "54     2\n",
              "189    3\n",
              "436    2\n",
              "327    2\n",
              "      ..\n",
              "230    2\n",
              "98     2\n",
              "322    2\n",
              "382    3\n",
              "365    2\n",
              "Name: DGN, Length: 400, dtype: int64"
            ]
          },
          "metadata": {
            "tags": []
          },
          "execution_count": 98
        }
      ]
    },
    {
      "cell_type": "code",
      "metadata": {
        "id": "0h0wK-uU6GHn",
        "outputId": "c76c1b86-2fd4-4f6b-8328-eb4b8ae9405f"
      },
      "source": [
        "X.shape, y.shape"
      ],
      "execution_count": null,
      "outputs": [
        {
          "output_type": "execute_result",
          "data": {
            "text/plain": [
              "(torch.Size([400, 16]), torch.Size([400]))"
            ]
          },
          "metadata": {
            "tags": []
          },
          "execution_count": 99
        }
      ]
    },
    {
      "cell_type": "markdown",
      "metadata": {
        "id": "NYPNrEQ36GHn"
      },
      "source": [
        "## Сама сеть"
      ]
    },
    {
      "cell_type": "code",
      "metadata": {
        "id": "oPEQxzbI6GHo"
      },
      "source": [
        "# N - размер батча; \n",
        "# D_in - размерность входа (количество признаков у объекта);\n",
        "# H - размерность скрытых слоёв; \n",
        "# D_out - размерность выходного слоя (суть - количество классов)\n",
        "N, D_in, H, D_out = 64, 16, 10, 7\n",
        "\n",
        "net = torch.nn.Sequential(\n",
        "    torch.nn.Linear(D_in, H),\n",
        "    torch.nn.Sigmoid(),\n",
        "    torch.nn.Linear(H, H),\n",
        "    torch.nn.Sigmoid(),\n",
        "    torch.nn.Linear(H, D_out))\n",
        "\n",
        "loss_fn = torch.nn.CrossEntropyLoss(size_average=False)\n",
        "\n",
        "learning_rate = 0.01\n",
        "optimizer = torch.optim.SGD(net.parameters(), lr=learning_rate)\n",
        "for t in range(50000):\n",
        "    # forward\n",
        "    y_pred = net(X)\n",
        "    \n",
        "\n",
        "    # loss\n",
        "    loss = loss_fn(y_pred, y)\n",
        "\n",
        "    # зануляем градиенты (чтобы не было остатка с предыдущего шага)\n",
        "    optimizer.zero_grad()\n",
        "\n",
        "    # backward\n",
        "    loss.backward()\n",
        "\n",
        "    # обновляем\n",
        "    optimizer.step()"
      ],
      "execution_count": null,
      "outputs": []
    },
    {
      "cell_type": "code",
      "metadata": {
        "id": "ifh3y1DG6GHo",
        "outputId": "628e814f-49f9-43c9-d8f4-30bc1437f0e0"
      },
      "source": [
        "loss.data"
      ],
      "execution_count": null,
      "outputs": [
        {
          "output_type": "execute_result",
          "data": {
            "text/plain": [
              "tensor(1.6066)"
            ]
          },
          "metadata": {
            "tags": []
          },
          "execution_count": 101
        }
      ]
    },
    {
      "cell_type": "code",
      "metadata": {
        "id": "VcqQp4-p6GHp"
      },
      "source": [
        "# финальные предсказания вернём в вид numpy array\n",
        "y_pred=y_pred.detach().numpy()"
      ],
      "execution_count": null,
      "outputs": []
    },
    {
      "cell_type": "code",
      "metadata": {
        "id": "e4HXIN0D6GHp"
      },
      "source": [
        "#  построим вектор ответов"
      ],
      "execution_count": null,
      "outputs": []
    },
    {
      "cell_type": "code",
      "metadata": {
        "id": "OjQkP-Mq6GHp"
      },
      "source": [
        "def predict(X):\n",
        "    y_pr=[]\n",
        "    for i in range(X):\n",
        "        y_pr.append(y_pred[i].argmax())\n",
        "    return pd.Series(y_pr)"
      ],
      "execution_count": null,
      "outputs": []
    },
    {
      "cell_type": "code",
      "metadata": {
        "id": "1GMSClsu6GHp",
        "outputId": "dc2766fc-71fc-4f05-bd08-339a549cd461"
      },
      "source": [
        "y_pr=predict(y_pred.shape[0])\n",
        "y_pr"
      ],
      "execution_count": null,
      "outputs": [
        {
          "output_type": "execute_result",
          "data": {
            "text/plain": [
              "0      2\n",
              "1      2\n",
              "2      3\n",
              "3      2\n",
              "4      2\n",
              "      ..\n",
              "395    2\n",
              "396    2\n",
              "397    2\n",
              "398    3\n",
              "399    2\n",
              "Length: 400, dtype: int64"
            ]
          },
          "metadata": {
            "tags": []
          },
          "execution_count": 105
        }
      ]
    },
    {
      "cell_type": "code",
      "metadata": {
        "id": "imiHOEfv6GHp"
      },
      "source": [
        "# посмотрим где на трейновой части расхождения"
      ],
      "execution_count": null,
      "outputs": []
    },
    {
      "cell_type": "code",
      "metadata": {
        "scrolled": true,
        "id": "Zc3kxzMn6GHp",
        "outputId": "7354ad4b-bfc6-40fe-f867-77ebd5f16514"
      },
      "source": [
        "y_pr[y_pr!=np.array(y16_train)]"
      ],
      "execution_count": null,
      "outputs": [
        {
          "output_type": "execute_result",
          "data": {
            "text/plain": [
              "150    3\n",
              "dtype: int64"
            ]
          },
          "metadata": {
            "tags": []
          },
          "execution_count": 107
        }
      ]
    },
    {
      "cell_type": "code",
      "metadata": {
        "id": "LGeKkeGv6GHp",
        "outputId": "ce9b5529-4a59-4d53-a533-fcbfda12f1f9"
      },
      "source": [
        "X16_test.shape"
      ],
      "execution_count": null,
      "outputs": [
        {
          "output_type": "execute_result",
          "data": {
            "text/plain": [
              "(71, 16)"
            ]
          },
          "metadata": {
            "tags": []
          },
          "execution_count": 108
        }
      ]
    },
    {
      "cell_type": "code",
      "metadata": {
        "id": "Khcrwvne6GHq"
      },
      "source": [
        "# с помощью сети сделаем предсказание на тестовой выборке"
      ],
      "execution_count": null,
      "outputs": []
    },
    {
      "cell_type": "code",
      "metadata": {
        "id": "rfBSBGT86GHq"
      },
      "source": [
        "Y=net(torch.autograd.Variable(torch.FloatTensor(X16_test)))"
      ],
      "execution_count": null,
      "outputs": []
    },
    {
      "cell_type": "code",
      "metadata": {
        "id": "4axAnOCY6GHq"
      },
      "source": [
        "Y=Y.detach().numpy()"
      ],
      "execution_count": null,
      "outputs": []
    },
    {
      "cell_type": "code",
      "metadata": {
        "id": "KFMvYabA6GHq"
      },
      "source": [
        "Y=predict(Y.shape[0])"
      ],
      "execution_count": null,
      "outputs": []
    },
    {
      "cell_type": "code",
      "metadata": {
        "id": "e5fOHCsU6GHq",
        "outputId": "8f8aaefb-c921-44ed-b413-5a817f6752d9"
      },
      "source": [
        "y16_test"
      ],
      "execution_count": null,
      "outputs": [
        {
          "output_type": "execute_result",
          "data": {
            "text/plain": [
              "11     2\n",
              "400    2\n",
              "275    2\n",
              "162    2\n",
              "274    1\n",
              "      ..\n",
              "41     1\n",
              "413    1\n",
              "385    2\n",
              "434    2\n",
              "433    2\n",
              "Name: DGN, Length: 71, dtype: int64"
            ]
          },
          "metadata": {
            "tags": []
          },
          "execution_count": 113
        }
      ]
    },
    {
      "cell_type": "code",
      "metadata": {
        "id": "vOCXxXai6GHq",
        "outputId": "68ad9a59-7636-4a37-fa32-b694a99a3d29"
      },
      "source": [
        "# процент ошибочных ответов\n",
        "Y[Y!=np.array(y16_test)].count()/Y.count()"
      ],
      "execution_count": null,
      "outputs": [
        {
          "output_type": "execute_result",
          "data": {
            "text/plain": [
              "0.4225352112676056"
            ]
          },
          "metadata": {
            "tags": []
          },
          "execution_count": 114
        }
      ]
    },
    {
      "cell_type": "code",
      "metadata": {
        "id": "hJ1QERhN6GHr",
        "outputId": "eacbe592-c671-4c72-b904-858a2b63177a"
      },
      "source": [
        "print('R^2: ', metrics.r2_score(y16_test,Y))\n",
        "print('MAE: ',metrics.mean_absolute_error(y16_test,Y))\n",
        "print(metrics.classification_report(y16_test,Y))"
      ],
      "execution_count": null,
      "outputs": [
        {
          "output_type": "stream",
          "text": [
            "R^2:  -0.2076038019009503\n",
            "MAE:  0.5633802816901409\n",
            "              precision    recall  f1-score   support\n",
            "\n",
            "           0       0.00      0.00      0.00         1\n",
            "           1       0.20      0.09      0.13        11\n",
            "           2       0.66      0.83      0.73        46\n",
            "           3       0.25      0.22      0.24         9\n",
            "           4       0.00      0.00      0.00         2\n",
            "           5       0.00      0.00      0.00         1\n",
            "           6       0.00      0.00      0.00         1\n",
            "\n",
            "    accuracy                           0.58        71\n",
            "   macro avg       0.16      0.16      0.16        71\n",
            "weighted avg       0.49      0.58      0.52        71\n",
            "\n"
          ],
          "name": "stdout"
        }
      ]
    },
    {
      "cell_type": "markdown",
      "metadata": {
        "id": "nVSDVHfG6GHr"
      },
      "source": [
        "## попробуем нейросеть на аугментированных данных"
      ]
    },
    {
      "cell_type": "markdown",
      "metadata": {
        "id": "hfQ-Z_hG6GHr"
      },
      "source": [
        "### ручная аугментация"
      ]
    },
    {
      "cell_type": "code",
      "metadata": {
        "id": "VOY20JX36GHr"
      },
      "source": [
        "X = torch.autograd.Variable(torch.FloatTensor(X_train_und))\n",
        "y = torch.autograd.Variable(torch.LongTensor(y_train_und))"
      ],
      "execution_count": null,
      "outputs": []
    },
    {
      "cell_type": "code",
      "metadata": {
        "id": "e21V8Ytk6GHr",
        "outputId": "4b45fbb0-a3a2-4722-9e62-17aa8a2f6687"
      },
      "source": [
        "X.shape, y.shape"
      ],
      "execution_count": null,
      "outputs": [
        {
          "output_type": "execute_result",
          "data": {
            "text/plain": [
              "(torch.Size([362, 16]), torch.Size([362]))"
            ]
          },
          "metadata": {
            "tags": []
          },
          "execution_count": 117
        }
      ]
    },
    {
      "cell_type": "code",
      "metadata": {
        "id": "dxI1SoOf6GHs"
      },
      "source": [
        "# N - размер батча; \n",
        "# D_in - размерность входа (количество признаков у объекта);\n",
        "# H - размерность скрытых слоёв; \n",
        "# D_out - размерность выходного слоя (суть - количество классов)\n",
        "N, D_in, H, D_out = 64, 16, 100, 7\n",
        "\n",
        "net2 = torch.nn.Sequential(\n",
        "    torch.nn.Linear(D_in, H),\n",
        "    torch.nn.Sigmoid(),\n",
        "    torch.nn.Linear(H, H),\n",
        "    torch.nn.Sigmoid(),\n",
        "    torch.nn.Linear(H, D_out))\n",
        "\n",
        "loss_fn = torch.nn.CrossEntropyLoss(size_average=False)\n",
        "\n",
        "learning_rate = 0.01\n",
        "optimizer = torch.optim.SGD(net2.parameters(), lr=learning_rate)\n",
        "for t in range(50000):\n",
        "    # forward\n",
        "    y_pred = net2(X)\n",
        "    \n",
        "\n",
        "    # loss\n",
        "    loss = loss_fn(y_pred, y)\n",
        "\n",
        "    # зануляем градиенты (чтобы не было остатка с предыдущего шага)\n",
        "    optimizer.zero_grad()\n",
        "\n",
        "    # backward\n",
        "    loss.backward()\n",
        "\n",
        "    # обновляем\n",
        "    optimizer.step()"
      ],
      "execution_count": null,
      "outputs": []
    },
    {
      "cell_type": "code",
      "metadata": {
        "scrolled": true,
        "id": "WgZJFn-i6GHs",
        "outputId": "22429bb0-200c-4c68-f9dd-dfbbe18fcfb5"
      },
      "source": [
        "loss.data"
      ],
      "execution_count": null,
      "outputs": [
        {
          "output_type": "execute_result",
          "data": {
            "text/plain": [
              "tensor(0.0490)"
            ]
          },
          "metadata": {
            "tags": []
          },
          "execution_count": 119
        }
      ]
    },
    {
      "cell_type": "code",
      "metadata": {
        "id": "XKUCoLeS6GHs"
      },
      "source": [
        "# финальные предсказания вернём в вид numpy array\n",
        "y_pred=y_pred.detach().numpy()"
      ],
      "execution_count": null,
      "outputs": []
    },
    {
      "cell_type": "code",
      "metadata": {
        "scrolled": true,
        "id": "0sg4wX496GHs",
        "outputId": "375cb4e2-e758-40cf-e564-c66fb7783872"
      },
      "source": [
        "y_pr=predict(y_pred.shape[0])\n",
        "y_pr"
      ],
      "execution_count": null,
      "outputs": [
        {
          "output_type": "execute_result",
          "data": {
            "text/plain": [
              "0      2\n",
              "1      2\n",
              "2      3\n",
              "3      2\n",
              "4      1\n",
              "      ..\n",
              "357    2\n",
              "358    0\n",
              "359    0\n",
              "360    6\n",
              "361    6\n",
              "Length: 362, dtype: int64"
            ]
          },
          "metadata": {
            "tags": []
          },
          "execution_count": 121
        }
      ]
    },
    {
      "cell_type": "code",
      "metadata": {
        "id": "E490NZMn6GHs"
      },
      "source": [
        "# посмотрим где на трейновой части расхождения"
      ],
      "execution_count": null,
      "outputs": []
    },
    {
      "cell_type": "code",
      "metadata": {
        "scrolled": true,
        "id": "SfWJ-_OH6GHt",
        "outputId": "00a11fba-a702-493e-81a4-6972af378805"
      },
      "source": [
        "y_pr[y_pr!=y_train_und]"
      ],
      "execution_count": null,
      "outputs": [
        {
          "output_type": "execute_result",
          "data": {
            "text/plain": [
              "Series([], dtype: int64)"
            ]
          },
          "metadata": {
            "tags": []
          },
          "execution_count": 123
        }
      ]
    },
    {
      "cell_type": "code",
      "metadata": {
        "id": "7QQPeO0R6GHt",
        "outputId": "8df09a1c-6cc1-4c24-ec93-6a155e89f4e8"
      },
      "source": [
        "y_pr"
      ],
      "execution_count": null,
      "outputs": [
        {
          "output_type": "execute_result",
          "data": {
            "text/plain": [
              "0      2\n",
              "1      2\n",
              "2      3\n",
              "3      2\n",
              "4      1\n",
              "      ..\n",
              "357    2\n",
              "358    0\n",
              "359    0\n",
              "360    6\n",
              "361    6\n",
              "Length: 362, dtype: int64"
            ]
          },
          "metadata": {
            "tags": []
          },
          "execution_count": 124
        }
      ]
    },
    {
      "cell_type": "code",
      "metadata": {
        "scrolled": true,
        "id": "SZdpdYed6GHt"
      },
      "source": [
        "Y=net2(torch.autograd.Variable(torch.FloatTensor(X16_test))).detach().numpy()"
      ],
      "execution_count": null,
      "outputs": []
    },
    {
      "cell_type": "code",
      "metadata": {
        "id": "iP1FP6p66GHv"
      },
      "source": [
        "Y=predict(Y.shape[0])"
      ],
      "execution_count": null,
      "outputs": []
    },
    {
      "cell_type": "code",
      "metadata": {
        "id": "kc64TR8G6GHv",
        "outputId": "902ed5b9-edf0-4c58-ab2c-40b41b2f2a5d"
      },
      "source": [
        "# процент ошибочных ответов\n",
        "Y[Y!=np.array(y16_test)].count()/Y.count()"
      ],
      "execution_count": null,
      "outputs": [
        {
          "output_type": "execute_result",
          "data": {
            "text/plain": [
              "0.39436619718309857"
            ]
          },
          "metadata": {
            "tags": []
          },
          "execution_count": 127
        }
      ]
    },
    {
      "cell_type": "code",
      "metadata": {
        "scrolled": true,
        "id": "IHalmIDk6GHw",
        "outputId": "2bb5fc1d-edd9-4407-8609-85b4bba059ba"
      },
      "source": [
        "print('R^2: ', metrics.r2_score(y16_test,Y))\n",
        "print('MAE: ',metrics.mean_absolute_error(y16_test,Y))\n",
        "print(metrics.classification_report(y16_test,Y))"
      ],
      "execution_count": null,
      "outputs": [
        {
          "output_type": "stream",
          "text": [
            "R^2:  -0.2608804402201097\n",
            "MAE:  0.5492957746478874\n",
            "              precision    recall  f1-score   support\n",
            "\n",
            "           0       0.00      0.00      0.00         1\n",
            "           1       0.57      0.36      0.44        11\n",
            "           2       0.69      0.83      0.75        46\n",
            "           3       0.11      0.11      0.11         9\n",
            "           4       0.00      0.00      0.00         2\n",
            "           5       0.00      0.00      0.00         1\n",
            "           6       0.00      0.00      0.00         1\n",
            "\n",
            "    accuracy                           0.61        71\n",
            "   macro avg       0.20      0.19      0.19        71\n",
            "weighted avg       0.55      0.61      0.57        71\n",
            "\n"
          ],
          "name": "stdout"
        }
      ]
    },
    {
      "cell_type": "markdown",
      "metadata": {
        "id": "cuxG_nbi6GHw"
      },
      "source": [
        "### SMOTE"
      ]
    },
    {
      "cell_type": "code",
      "metadata": {
        "id": "f6R2ghfR6GHw"
      },
      "source": [
        "X = torch.autograd.Variable(torch.FloatTensor(X_net))\n",
        "y = torch.autograd.Variable(torch.LongTensor(y_net))"
      ],
      "execution_count": null,
      "outputs": []
    },
    {
      "cell_type": "code",
      "metadata": {
        "id": "jwwKhn7P6GHw",
        "outputId": "3de9a02c-87a8-412e-bdc8-68a7daed9558"
      },
      "source": [
        "X.shape, y.shape"
      ],
      "execution_count": null,
      "outputs": [
        {
          "output_type": "execute_result",
          "data": {
            "text/plain": [
              "(torch.Size([1827, 16]), torch.Size([1827]))"
            ]
          },
          "metadata": {
            "tags": []
          },
          "execution_count": 130
        }
      ]
    },
    {
      "cell_type": "code",
      "metadata": {
        "id": "DyWkMoYv6GHx"
      },
      "source": [
        "# N - размер батча; \n",
        "# D_in - размерность входа (количество признаков у объекта);\n",
        "# H - размерность скрытых слоёв; \n",
        "# D_out - размерность выходного слоя (суть - количество классов)\n",
        "N, D_in, H, D_out = 64, 16 , 100, 7\n",
        "\n",
        "net3 = torch.nn.Sequential(\n",
        "    torch.nn.Linear(D_in, H),\n",
        "    torch.nn.Sigmoid(),\n",
        "    torch.nn.Linear(H, H),\n",
        "    torch.nn.Sigmoid(),\n",
        "    torch.nn.Linear(H, D_out))\n",
        "\n",
        "loss_fn = torch.nn.CrossEntropyLoss(size_average=False)\n",
        "\n",
        "learning_rate = 0.001\n",
        "optimizer = torch.optim.SGD(net3.parameters(), lr=learning_rate)\n",
        "for t in range(25000):\n",
        "    # forward\n",
        "    y_pred = net3(X)\n",
        "    \n",
        "\n",
        "    # loss\n",
        "    loss = loss_fn(y_pred, y)\n",
        "\n",
        "    # зануляем градиенты (чтобы не было остатка с предыдущего шага)\n",
        "    optimizer.zero_grad()\n",
        "\n",
        "    # backward\n",
        "    loss.backward()\n",
        "\n",
        "    # обновляем\n",
        "    optimizer.step()"
      ],
      "execution_count": null,
      "outputs": []
    },
    {
      "cell_type": "code",
      "metadata": {
        "scrolled": true,
        "id": "LVyvfC6x6GHx",
        "outputId": "2f43dce7-a34f-4168-e135-f5e96f8daa18"
      },
      "source": [
        "loss.data"
      ],
      "execution_count": null,
      "outputs": [
        {
          "output_type": "execute_result",
          "data": {
            "text/plain": [
              "tensor(4.5233)"
            ]
          },
          "metadata": {
            "tags": []
          },
          "execution_count": 132
        }
      ]
    },
    {
      "cell_type": "code",
      "metadata": {
        "id": "i3jqoPmA6GHx"
      },
      "source": [
        "# финальные предсказания вернём в вид numpy array\n",
        "y_pred=y_pred.detach().numpy()"
      ],
      "execution_count": null,
      "outputs": []
    },
    {
      "cell_type": "code",
      "metadata": {
        "scrolled": false,
        "id": "U2aCh3w66GHx",
        "outputId": "a718946e-53dd-4e7b-ff2a-9a69f420bd8a"
      },
      "source": [
        "y_pr=predict(y_pred.shape[0])\n",
        "y_pr"
      ],
      "execution_count": null,
      "outputs": [
        {
          "output_type": "execute_result",
          "data": {
            "text/plain": [
              "0       2\n",
              "1       2\n",
              "2       3\n",
              "3       2\n",
              "4       1\n",
              "       ..\n",
              "1822    6\n",
              "1823    6\n",
              "1824    6\n",
              "1825    6\n",
              "1826    6\n",
              "Length: 1827, dtype: int64"
            ]
          },
          "metadata": {
            "tags": []
          },
          "execution_count": 134
        }
      ]
    },
    {
      "cell_type": "code",
      "metadata": {
        "scrolled": true,
        "id": "tRuJoq076GHy",
        "outputId": "10a55753-87ed-4e10-f31e-d97fa0d6146f"
      },
      "source": [
        "y_pr[y_pr!=y_net]"
      ],
      "execution_count": null,
      "outputs": [
        {
          "output_type": "execute_result",
          "data": {
            "text/plain": [
              "Series([], dtype: int64)"
            ]
          },
          "metadata": {
            "tags": []
          },
          "execution_count": 135
        }
      ]
    },
    {
      "cell_type": "code",
      "metadata": {
        "scrolled": true,
        "id": "losxLm-Y6GHy"
      },
      "source": [
        "Y=net3(torch.autograd.Variable(torch.FloatTensor(X16_test))).detach().numpy()"
      ],
      "execution_count": null,
      "outputs": []
    },
    {
      "cell_type": "code",
      "metadata": {
        "id": "N1AHPrmM6GHy"
      },
      "source": [
        "Y=predict(Y.shape[0])"
      ],
      "execution_count": null,
      "outputs": []
    },
    {
      "cell_type": "code",
      "metadata": {
        "scrolled": true,
        "id": "JPmLwyCS6GHy",
        "outputId": "0b009e2d-e290-4e42-bfd4-3eaff2789312"
      },
      "source": [
        "print('R^2: ', metrics.r2_score(y16_test,Y))\n",
        "print('MAE: ',metrics.mean_absolute_error(y16_test,Y))\n",
        "print(metrics.classification_report(y16_test,Y))"
      ],
      "execution_count": null,
      "outputs": [
        {
          "output_type": "stream",
          "text": [
            "R^2:  -0.2608804402201097\n",
            "MAE:  0.5492957746478874\n",
            "              precision    recall  f1-score   support\n",
            "\n",
            "           0       0.00      0.00      0.00         1\n",
            "           1       0.57      0.36      0.44        11\n",
            "           2       0.69      0.83      0.75        46\n",
            "           3       0.11      0.11      0.11         9\n",
            "           4       0.00      0.00      0.00         2\n",
            "           5       0.00      0.00      0.00         1\n",
            "           6       0.00      0.00      0.00         1\n",
            "\n",
            "    accuracy                           0.61        71\n",
            "   macro avg       0.20      0.19      0.19        71\n",
            "weighted avg       0.55      0.61      0.57        71\n",
            "\n"
          ],
          "name": "stdout"
        }
      ]
    },
    {
      "cell_type": "markdown",
      "metadata": {
        "id": "OLplU3iX6GHz"
      },
      "source": [
        "### попробуем изменить параметры нейросети"
      ]
    },
    {
      "cell_type": "code",
      "metadata": {
        "id": "zc2TsrRk6GHz"
      },
      "source": [
        "X = torch.autograd.Variable(torch.FloatTensor(X16_train))\n",
        "y = torch.autograd.Variable(torch.LongTensor(y16_train))"
      ],
      "execution_count": null,
      "outputs": []
    },
    {
      "cell_type": "code",
      "metadata": {
        "id": "fRsjNXOv6GHz"
      },
      "source": [
        "# N - размер батча; \n",
        "# D_in - размерность входа (количество признаков у объекта);\n",
        "# H - размерность скрытых слоёв; \n",
        "# D_out - размерность выходного слоя (суть - количество классов)\n",
        "N, D_in, H, D_out = 64, 16, 100, 7\n",
        "\n",
        "net4 = torch.nn.Sequential(\n",
        "    torch.nn.Linear(D_in, H),\n",
        "    torch.nn.ReLU(),\n",
        "    torch.nn.Linear(H, H),\n",
        "    torch.nn.ReLU(),\n",
        "    torch.nn.Linear(H, H),\n",
        "    torch.nn.ReLU(),\n",
        "    torch.nn.Linear(H, D_out))\n",
        "\n",
        "loss_fn = torch.nn.CrossEntropyLoss(size_average=False)\n",
        "\n",
        "learning_rate = 0.0001\n",
        "optimizer = torch.optim.SGD(net4.parameters(), lr=learning_rate)\n",
        "for t in range(100000):\n",
        "    # forward\n",
        "    y_pred = net4(X)\n",
        "    \n",
        "\n",
        "    # loss\n",
        "    loss = loss_fn(y_pred, y)\n",
        "\n",
        "    # зануляем градиенты (чтобы не было остатка с предыдущего шага)\n",
        "    optimizer.zero_grad()\n",
        "\n",
        "    # backward\n",
        "    loss.backward()\n",
        "\n",
        "    # обновляем\n",
        "    optimizer.step()"
      ],
      "execution_count": null,
      "outputs": []
    },
    {
      "cell_type": "code",
      "metadata": {
        "id": "2RvO5db-6GHz",
        "outputId": "2e207c38-0704-46d0-b00b-7c5a912e0a00"
      },
      "source": [
        "print(loss.data)\n",
        "y_pred=y_pred.detach().numpy()\n",
        "y_pr=predict(y_pred.shape[0])\n",
        "Y=net4(torch.autograd.Variable(torch.FloatTensor(X16_test))).detach().numpy()\n",
        "Y=predict(Y.shape[0])"
      ],
      "execution_count": null,
      "outputs": [
        {
          "output_type": "stream",
          "text": [
            "tensor(1.4059)\n"
          ],
          "name": "stdout"
        }
      ]
    },
    {
      "cell_type": "code",
      "metadata": {
        "id": "k6XUjEzG6GHz",
        "outputId": "0b591b04-6143-493d-8400-746f3c2043a6"
      },
      "source": [
        "print('R^2: ', metrics.r2_score(y16_test,Y))\n",
        "print('MAE: ',metrics.mean_absolute_error(y16_test,Y))\n",
        "print(metrics.classification_report(y16_test,Y))"
      ],
      "execution_count": null,
      "outputs": [
        {
          "output_type": "stream",
          "text": [
            "R^2:  -0.18984492246123041\n",
            "MAE:  0.5492957746478874\n",
            "              precision    recall  f1-score   support\n",
            "\n",
            "           0       0.00      0.00      0.00         1\n",
            "           1       0.20      0.09      0.13        11\n",
            "           2       0.66      0.85      0.74        46\n",
            "           3       0.29      0.22      0.25         9\n",
            "           4       0.00      0.00      0.00         2\n",
            "           5       0.00      0.00      0.00         1\n",
            "           6       0.00      0.00      0.00         1\n",
            "\n",
            "    accuracy                           0.59        71\n",
            "   macro avg       0.16      0.17      0.16        71\n",
            "weighted avg       0.50      0.59      0.53        71\n",
            "\n"
          ],
          "name": "stdout"
        }
      ]
    },
    {
      "cell_type": "markdown",
      "metadata": {
        "id": "p3_zP2Zo6GHz"
      },
      "source": [
        "### в четвёртой нейросети при изменении основных параметров в виде функции активации, learning rate, оптимайзера и т.д. прироста в эффективности не случилось"
      ]
    },
    {
      "cell_type": "markdown",
      "metadata": {
        "id": "0hvwiINL6GHz"
      },
      "source": [
        "### нейросеть по сравнению с классическими моделями показала себя в некотором смысле хуже. Часть классов определялось неплохо, но малочисленные классы не определялись вообще"
      ]
    },
    {
      "cell_type": "markdown",
      "metadata": {
        "id": "lZQ0nO9p6GH0"
      },
      "source": [
        "### регрессия и svm (полимиальные + SMOTE) лучше других моделей определяли классы. Общая точность плохая, но почти во всех классах данные модели определили хотя бы один экземпляр"
      ]
    }
  ]
}